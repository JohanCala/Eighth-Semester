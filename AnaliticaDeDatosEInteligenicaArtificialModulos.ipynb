{
  "nbformat": 4,
  "nbformat_minor": 0,
  "metadata": {
    "colab": {
      "provenance": [],
      "collapsed_sections": [],
      "include_colab_link": true
    },
    "kernelspec": {
      "name": "python3",
      "display_name": "Python 3"
    },
    "language_info": {
      "name": "python"
    }
  },
  "cells": [
    {
      "cell_type": "markdown",
      "metadata": {
        "id": "view-in-github",
        "colab_type": "text"
      },
      "source": [
        "<a href=\"https://colab.research.google.com/github/JohanCala/Eighth-Semester/blob/main/AnaliticaDeDatosEInteligenicaArtificialModulos.ipynb\" target=\"_parent\"><img src=\"https://colab.research.google.com/assets/colab-badge.svg\" alt=\"Open In Colab\"/></a>"
      ]
    },
    {
      "cell_type": "markdown",
      "source": [
        "Este es una breve intro a colab  \n",
        "Se va a trabajar con series temporales  \n",
        "Se va a trabajar con tematica de medicina, con la enfermedad de las aritmias  \n",
        "link base de datos: https://www.physionet.org/content/mitdb/1.0.0/  \n",
        "construir un modelo supervisado  \n",
        "wfdb solo se usa para leer y sacar las categorias, no se usa para nada mas  \n",
        "tenemos que formar la base de datos  \n",
        "la tarea de esta semana es formar la base de datos  \n",
        "frecuencia de muestreo: es cuantas muestras esta tomando por segundo  \n",
        "la frecuencia de muestreo tiene que ser dos veces la frecuencia del fenomeno o serie\n",
        "\n",
        "los numeros de las señales es la amplitud de la señal y los numeros del ATR son muestras  "
      ],
      "metadata": {
        "id": "LxXLMKiLcOIu"
      }
    },
    {
      "cell_type": "code",
      "source": [
        "pip install wfdb"
      ],
      "metadata": {
        "colab": {
          "base_uri": "https://localhost:8080/"
        },
        "id": "XPMOT5hecUJF",
        "outputId": "ac7c81ec-1a26-474f-aa22-b3d23b6716e2"
      },
      "execution_count": 1,
      "outputs": [
        {
          "output_type": "stream",
          "name": "stdout",
          "text": [
            "Looking in indexes: https://pypi.org/simple, https://us-python.pkg.dev/colab-wheels/public/simple/\n",
            "Collecting wfdb\n",
            "  Downloading wfdb-4.0.0-py3-none-any.whl (161 kB)\n",
            "\u001b[K     |████████████████████████████████| 161 kB 5.2 MB/s \n",
            "\u001b[?25hRequirement already satisfied: scipy<2.0.0,>=1.0.0 in /usr/local/lib/python3.7/dist-packages (from wfdb) (1.7.3)\n",
            "Requirement already satisfied: numpy<2.0.0,>=1.10.1 in /usr/local/lib/python3.7/dist-packages (from wfdb) (1.21.6)\n",
            "Requirement already satisfied: requests<3.0.0,>=2.8.1 in /usr/local/lib/python3.7/dist-packages (from wfdb) (2.23.0)\n",
            "Requirement already satisfied: matplotlib<4.0.0,>=3.2.2 in /usr/local/lib/python3.7/dist-packages (from wfdb) (3.2.2)\n",
            "Requirement already satisfied: SoundFile<0.12.0,>=0.10.0 in /usr/local/lib/python3.7/dist-packages (from wfdb) (0.11.0)\n",
            "Requirement already satisfied: pandas<2.0.0,>=1.0.0 in /usr/local/lib/python3.7/dist-packages (from wfdb) (1.3.5)\n",
            "Requirement already satisfied: pyparsing!=2.0.4,!=2.1.2,!=2.1.6,>=2.0.1 in /usr/local/lib/python3.7/dist-packages (from matplotlib<4.0.0,>=3.2.2->wfdb) (3.0.9)\n",
            "Requirement already satisfied: kiwisolver>=1.0.1 in /usr/local/lib/python3.7/dist-packages (from matplotlib<4.0.0,>=3.2.2->wfdb) (1.4.4)\n",
            "Requirement already satisfied: cycler>=0.10 in /usr/local/lib/python3.7/dist-packages (from matplotlib<4.0.0,>=3.2.2->wfdb) (0.11.0)\n",
            "Requirement already satisfied: python-dateutil>=2.1 in /usr/local/lib/python3.7/dist-packages (from matplotlib<4.0.0,>=3.2.2->wfdb) (2.8.2)\n",
            "Requirement already satisfied: typing-extensions in /usr/local/lib/python3.7/dist-packages (from kiwisolver>=1.0.1->matplotlib<4.0.0,>=3.2.2->wfdb) (4.1.1)\n",
            "Requirement already satisfied: pytz>=2017.3 in /usr/local/lib/python3.7/dist-packages (from pandas<2.0.0,>=1.0.0->wfdb) (2022.6)\n",
            "Requirement already satisfied: six>=1.5 in /usr/local/lib/python3.7/dist-packages (from python-dateutil>=2.1->matplotlib<4.0.0,>=3.2.2->wfdb) (1.15.0)\n",
            "Requirement already satisfied: chardet<4,>=3.0.2 in /usr/local/lib/python3.7/dist-packages (from requests<3.0.0,>=2.8.1->wfdb) (3.0.4)\n",
            "Requirement already satisfied: idna<3,>=2.5 in /usr/local/lib/python3.7/dist-packages (from requests<3.0.0,>=2.8.1->wfdb) (2.10)\n",
            "Requirement already satisfied: urllib3!=1.25.0,!=1.25.1,<1.26,>=1.21.1 in /usr/local/lib/python3.7/dist-packages (from requests<3.0.0,>=2.8.1->wfdb) (1.24.3)\n",
            "Requirement already satisfied: certifi>=2017.4.17 in /usr/local/lib/python3.7/dist-packages (from requests<3.0.0,>=2.8.1->wfdb) (2022.9.24)\n",
            "Requirement already satisfied: cffi>=1.0 in /usr/local/lib/python3.7/dist-packages (from SoundFile<0.12.0,>=0.10.0->wfdb) (1.15.1)\n",
            "Requirement already satisfied: pycparser in /usr/local/lib/python3.7/dist-packages (from cffi>=1.0->SoundFile<0.12.0,>=0.10.0->wfdb) (2.21)\n",
            "Installing collected packages: wfdb\n",
            "Successfully installed wfdb-4.0.0\n"
          ]
        }
      ]
    },
    {
      "cell_type": "code",
      "source": [
        "import wfdb \n",
        "\n",
        "pepito = wfdb.rdrecord(\"db/100\")\n",
        "print(pepito)\n",
        "\n",
        "signal = pepito.p_signal  #varible temporal, porque no sirve siempre tenerla en la memoria\n",
        "print(signal)\n",
        "fs = pepito.fs\n",
        "print(fs)\n",
        "\n",
        "wfdb.plot_wfdb(pepito)"
      ],
      "metadata": {
        "colab": {
          "base_uri": "https://localhost:8080/",
          "height": 451
        },
        "id": "4BvVLxgMewXu",
        "outputId": "983af0ff-2851-40af-97ac-3d645edb75b3"
      },
      "execution_count": 2,
      "outputs": [
        {
          "output_type": "stream",
          "name": "stdout",
          "text": [
            "<wfdb.io.record.Record object at 0x7f3fafd92910>\n",
            "[[-0.145 -0.065]\n",
            " [-0.145 -0.065]\n",
            " [-0.145 -0.065]\n",
            " ...\n",
            " [-0.675 -0.365]\n",
            " [-0.765 -0.335]\n",
            " [-1.28   0.   ]]\n",
            "360\n"
          ]
        },
        {
          "output_type": "display_data",
          "data": {
            "text/plain": [
              "<Figure size 432x288 with 2 Axes>"
            ],
            "image/png": "[encoded data removed]"
          },
          "metadata": {
            "needs_background": "light"
          }
        }
      ]
    },
    {
      "cell_type": "code",
      "source": [
        "FS = len(signal)/1800\n",
        "print(FS)\n",
        "print(signal)\n",
        "signal1 = signal[:,0]\n",
        "signal2 = signal[:,1]\n",
        "\n",
        "import matplotlib.pyplot as plt\n",
        "\n",
        "plt.plot(signal1[0:1800])"
      ],
      "metadata": {
        "colab": {
          "base_uri": "https://localhost:8080/",
          "height": 421
        },
        "id": "HL145M4-guHu",
        "outputId": "d30ebc0b-f228-422a-e540-23ab06acf786"
      },
      "execution_count": 3,
      "outputs": [
        {
          "output_type": "stream",
          "name": "stdout",
          "text": [
            "361.1111111111111\n",
            "[[-0.145 -0.065]\n",
            " [-0.145 -0.065]\n",
            " [-0.145 -0.065]\n",
            " ...\n",
            " [-0.675 -0.365]\n",
            " [-0.765 -0.335]\n",
            " [-1.28   0.   ]]\n"
          ]
        },
        {
          "output_type": "execute_result",
          "data": {
            "text/plain": [
              "[<matplotlib.lines.Line2D at 0x7f3fafccfed0>]"
            ]
          },
          "metadata": {},
          "execution_count": 3
        },
        {
          "output_type": "display_data",
          "data": {
            "text/plain": [
              "<Figure size 432x288 with 1 Axes>"
            ],
            "image/png": "[encoded data removed]"
          },
          "metadata": {
            "needs_background": "light"
          }
        }
      ]
    },
    {
      "cell_type": "markdown",
      "source": [
        "Es la presencia del latido cardiaco"
      ],
      "metadata": {
        "id": "dg7OY3hhmIWx"
      }
    },
    {
      "cell_type": "code",
      "source": [
        "ann = wfdb.rdann('db/100','atr') #etiquetas del evento\n",
        "print(ann)\n",
        "\n",
        "ANN = ann.sample\n",
        "print(ANN)\n",
        "len(ANN)\n",
        "len(signal1)"
      ],
      "metadata": {
        "colab": {
          "base_uri": "https://localhost:8080/"
        },
        "id": "u-DaP8G6j_iT",
        "outputId": "b679e18b-63fe-4fc5-8f85-8614aa1e7184"
      },
      "execution_count": 4,
      "outputs": [
        {
          "output_type": "stream",
          "name": "stdout",
          "text": [
            "<wfdb.io.annotation.Annotation object at 0x7f3faf79d8d0>\n",
            "[    18     77    370 ... 649484 649734 649991]\n"
          ]
        },
        {
          "output_type": "execute_result",
          "data": {
            "text/plain": [
              "650000"
            ]
          },
          "metadata": {},
          "execution_count": 4
        }
      ]
    },
    {
      "cell_type": "markdown",
      "source": [
        "Extraer la dinamica del latido, utilizando el ANN\n",
        "\n",
        "si se dan varias etiqutas las señales son tomadas en diferentes momentos en el tiempo\n",
        "\n",
        "en series temporales necesito dinamicas.  \n"
      ],
      "metadata": {
        "id": "2fF6Cdv_nS14"
      }
    },
    {
      "cell_type": "code",
      "source": [
        "N = 82 # centro de la ventana\n",
        "REGISTRO1 = signal1[ANN[4]-N:ANN[4]+N]\n",
        "plt.plot(signal1[ANN[0]:ANN[2]])"
      ],
      "metadata": {
        "colab": {
          "base_uri": "https://localhost:8080/",
          "height": 282
        },
        "id": "-ExRuTdxm1NY",
        "outputId": "8c53114c-e67c-4a6d-caee-344a398bc0e0"
      },
      "execution_count": 8,
      "outputs": [
        {
          "output_type": "execute_result",
          "data": {
            "text/plain": [
              "[<matplotlib.lines.Line2D at 0x7f3faf5c2750>]"
            ]
          },
          "metadata": {},
          "execution_count": 8
        },
        {
          "output_type": "display_data",
          "data": {
            "text/plain": [
              "<Figure size 432x288 with 1 Axes>"
            ],
            "image/png": "[encoded data removed]"
          },
          "metadata": {
            "needs_background": "light"
          }
        }
      ]
    },
    {
      "cell_type": "code",
      "source": [
        "plt.plot(REGISTRO1)"
      ],
      "metadata": {
        "colab": {
          "base_uri": "https://localhost:8080/",
          "height": 282
        },
        "id": "mHoZ_2EjKkWf",
        "outputId": "1b14658c-675f-454a-f94b-456ef6d5728a"
      },
      "execution_count": 9,
      "outputs": [
        {
          "output_type": "execute_result",
          "data": {
            "text/plain": [
              "[<matplotlib.lines.Line2D at 0x7f3faf58d310>]"
            ]
          },
          "metadata": {},
          "execution_count": 9
        },
        {
          "output_type": "display_data",
          "data": {
            "text/plain": [
              "<Figure size 432x288 with 1 Axes>"
            ],
            "image/png": "[encoded data removed]"
          },
          "metadata": {
            "needs_background": "light"
          }
        }
      ]
    },
    {
      "cell_type": "code",
      "source": [
        "import pandas as pd\n",
        "import numpy as np"
      ],
      "metadata": {
        "id": "WjThe_dpP4Aj"
      },
      "execution_count": 25,
      "outputs": []
    },
    {
      "cell_type": "code",
      "source": [
        "#CrearDataSet\n",
        "\n",
        "#Vobser = signal1[ANN[1]-70: ANN[1]+70]\n",
        "ListaI=[]\n",
        "signal1=signal[:,0]\n",
        "for i in ANN:\n",
        "  \n",
        "  Vboser=0\n",
        "\n",
        "  if i==649875:\n",
        "    Vboser=signal1[i-32:]\n",
        "  else:\n",
        "    Vboser=signal1[i-16:i+16]\n",
        "  ListaI.append(Vboser)\n",
        "\n",
        "\n",
        "\n",
        "colums = np.arange(0,len(ListaI[0]),1)\n",
        "lst = ListaI\n",
        "df = pd.DataFrame(lst, columns = colums)\n",
        "df\n"
      ],
      "metadata": {
        "colab": {
          "base_uri": "https://localhost:8080/",
          "height": 424
        },
        "id": "wyi7YQurMMJM",
        "outputId": "483f6e75-bc0d-4732-be08-f0abfb5f9d3d"
      },
      "execution_count": 26,
      "outputs": [
        {
          "output_type": "execute_result",
          "data": {
            "text/plain": [
              "         0      1      2      3      4      5      6      7      8      9   \\\n",
              "0    -0.145 -0.145 -0.145 -0.145 -0.145 -0.145 -0.120 -0.135 -0.145 -0.150   \n",
              "1    -0.335 -0.360 -0.385 -0.385 -0.405 -0.455 -0.485 -0.485 -0.425 -0.330   \n",
              "2    -0.360 -0.380 -0.425 -0.445 -0.475 -0.510 -0.535 -0.505 -0.415 -0.300   \n",
              "3    -0.390 -0.405 -0.410 -0.435 -0.465 -0.490 -0.520 -0.555 -0.570 -0.525   \n",
              "4    -0.475 -0.505 -0.510 -0.525 -0.540 -0.600 -0.645 -0.630 -0.575 -0.495   \n",
              "...     ...    ...    ...    ...    ...    ...    ...    ...    ...    ...   \n",
              "2269 -0.310 -0.320 -0.340 -0.370 -0.420 -0.460 -0.470 -0.505 -0.525 -0.485   \n",
              "2270 -0.355 -0.365 -0.415 -0.465 -0.470 -0.485 -0.525 -0.555 -0.525 -0.420   \n",
              "2271 -0.355 -0.370 -0.410 -0.450 -0.490 -0.505 -0.540 -0.595 -0.565 -0.475   \n",
              "2272 -0.415 -0.435 -0.465 -0.520 -0.530 -0.570 -0.595 -0.615 -0.575 -0.475   \n",
              "2273 -0.645 -0.675 -0.705 -0.730 -0.745 -0.815 -0.815 -0.730 -0.615 -0.455   \n",
              "\n",
              "      ...     22     23     24     25     26     27     28     29     30  \\\n",
              "0     ... -0.155 -0.135 -0.155 -0.190 -0.205 -0.235 -0.225 -0.245 -0.250   \n",
              "1     ... -0.435 -0.425 -0.370 -0.330 -0.325 -0.335 -0.345 -0.330 -0.325   \n",
              "2     ... -0.270 -0.390 -0.450 -0.475 -0.455 -0.425 -0.390 -0.390 -0.385   \n",
              "3     ... -0.500 -0.505 -0.445 -0.415 -0.395 -0.390 -0.395 -0.390 -0.395   \n",
              "4     ... -0.500 -0.520 -0.475 -0.410 -0.390 -0.390 -0.400 -0.410 -0.405   \n",
              "...   ...    ...    ...    ...    ...    ...    ...    ...    ...    ...   \n",
              "2269  ... -0.545 -0.475 -0.390 -0.355 -0.360 -0.365 -0.370 -0.360 -0.345   \n",
              "2270  ... -0.550 -0.500 -0.430 -0.395 -0.395 -0.405 -0.390 -0.380 -0.370   \n",
              "2271  ... -0.550 -0.545 -0.465 -0.405 -0.380 -0.390 -0.385 -0.370 -0.370   \n",
              "2272  ... -0.585 -0.545 -0.485 -0.445 -0.430 -0.445 -0.445 -0.440 -0.430   \n",
              "2273  ... -0.675 -0.765 -1.280    NaN    NaN    NaN    NaN    NaN    NaN   \n",
              "\n",
              "         31  \n",
              "0    -0.260  \n",
              "1    -0.315  \n",
              "2    -0.390  \n",
              "3    -0.405  \n",
              "4    -0.385  \n",
              "...     ...  \n",
              "2269 -0.340  \n",
              "2270 -0.370  \n",
              "2271 -0.370  \n",
              "2272 -0.430  \n",
              "2273    NaN  \n",
              "\n",
              "[2274 rows x 32 columns]"
            ],
            "text/html": [
              "\n",
              "  <div id=\"df-e3f57875-ad60-400e-8bd5-50613c813a36\">\n",
              "    <div class=\"colab-df-container\">\n",
              "      <div>\n",
              "<style scoped>\n",
              "    .dataframe tbody tr th:only-of-type {\n",
              "        vertical-align: middle;\n",
              "    }\n",
              "\n",
              "    .dataframe tbody tr th {\n",
              "        vertical-align: top;\n",
              "    }\n",
              "\n",
              "    .dataframe thead th {\n",
              "        text-align: right;\n",
              "    }\n",
              "</style>\n",
              "<table border=\"1\" class=\"dataframe\">\n",
              "  <thead>\n",
              "    <tr style=\"text-align: right;\">\n",
              "      <th></th>\n",
              "      <th>0</th>\n",
              "      <th>1</th>\n",
              "      <th>2</th>\n",
              "      <th>3</th>\n",
              "      <th>4</th>\n",
              "      <th>5</th>\n",
              "      <th>6</th>\n",
              "      <th>7</th>\n",
              "      <th>8</th>\n",
              "      <th>9</th>\n",
              "      <th>...</th>\n",
              "      <th>22</th>\n",
              "      <th>23</th>\n",
              "      <th>24</th>\n",
              "      <th>25</th>\n",
              "      <th>26</th>\n",
              "      <th>27</th>\n",
              "      <th>28</th>\n",
              "      <th>29</th>\n",
              "      <th>30</th>\n",
              "      <th>31</th>\n",
              "    </tr>\n",
              "  </thead>\n",
              "  <tbody>\n",
              "    <tr>\n",
              "      <th>0</th>\n",
              "      <td>-0.145</td>\n",
              "      <td>-0.145</td>\n",
              "      <td>-0.145</td>\n",
              "      <td>-0.145</td>\n",
              "      <td>-0.145</td>\n",
              "      <td>-0.145</td>\n",
              "      <td>-0.120</td>\n",
              "      <td>-0.135</td>\n",
              "      <td>-0.145</td>\n",
              "      <td>-0.150</td>\n",
              "      <td>...</td>\n",
              "      <td>-0.155</td>\n",
              "      <td>-0.135</td>\n",
              "      <td>-0.155</td>\n",
              "      <td>-0.190</td>\n",
              "      <td>-0.205</td>\n",
              "      <td>-0.235</td>\n",
              "      <td>-0.225</td>\n",
              "      <td>-0.245</td>\n",
              "      <td>-0.250</td>\n",
              "      <td>-0.260</td>\n",
              "    </tr>\n",
              "    <tr>\n",
              "      <th>1</th>\n",
              "      <td>-0.335</td>\n",
              "      <td>-0.360</td>\n",
              "      <td>-0.385</td>\n",
              "      <td>-0.385</td>\n",
              "      <td>-0.405</td>\n",
              "      <td>-0.455</td>\n",
              "      <td>-0.485</td>\n",
              "      <td>-0.485</td>\n",
              "      <td>-0.425</td>\n",
              "      <td>-0.330</td>\n",
              "      <td>...</td>\n",
              "      <td>-0.435</td>\n",
              "      <td>-0.425</td>\n",
              "      <td>-0.370</td>\n",
              "      <td>-0.330</td>\n",
              "      <td>-0.325</td>\n",
              "      <td>-0.335</td>\n",
              "      <td>-0.345</td>\n",
              "      <td>-0.330</td>\n",
              "      <td>-0.325</td>\n",
              "      <td>-0.315</td>\n",
              "    </tr>\n",
              "    <tr>\n",
              "      <th>2</th>\n",
              "      <td>-0.360</td>\n",
              "      <td>-0.380</td>\n",
              "      <td>-0.425</td>\n",
              "      <td>-0.445</td>\n",
              "      <td>-0.475</td>\n",
              "      <td>-0.510</td>\n",
              "      <td>-0.535</td>\n",
              "      <td>-0.505</td>\n",
              "      <td>-0.415</td>\n",
              "      <td>-0.300</td>\n",
              "      <td>...</td>\n",
              "      <td>-0.270</td>\n",
              "      <td>-0.390</td>\n",
              "      <td>-0.450</td>\n",
              "      <td>-0.475</td>\n",
              "      <td>-0.455</td>\n",
              "      <td>-0.425</td>\n",
              "      <td>-0.390</td>\n",
              "      <td>-0.390</td>\n",
              "      <td>-0.385</td>\n",
              "      <td>-0.390</td>\n",
              "    </tr>\n",
              "    <tr>\n",
              "      <th>3</th>\n",
              "      <td>-0.390</td>\n",
              "      <td>-0.405</td>\n",
              "      <td>-0.410</td>\n",
              "      <td>-0.435</td>\n",
              "      <td>-0.465</td>\n",
              "      <td>-0.490</td>\n",
              "      <td>-0.520</td>\n",
              "      <td>-0.555</td>\n",
              "      <td>-0.570</td>\n",
              "      <td>-0.525</td>\n",
              "      <td>...</td>\n",
              "      <td>-0.500</td>\n",
              "      <td>-0.505</td>\n",
              "      <td>-0.445</td>\n",
              "      <td>-0.415</td>\n",
              "      <td>-0.395</td>\n",
              "      <td>-0.390</td>\n",
              "      <td>-0.395</td>\n",
              "      <td>-0.390</td>\n",
              "      <td>-0.395</td>\n",
              "      <td>-0.405</td>\n",
              "    </tr>\n",
              "    <tr>\n",
              "      <th>4</th>\n",
              "      <td>-0.475</td>\n",
              "      <td>-0.505</td>\n",
              "      <td>-0.510</td>\n",
              "      <td>-0.525</td>\n",
              "      <td>-0.540</td>\n",
              "      <td>-0.600</td>\n",
              "      <td>-0.645</td>\n",
              "      <td>-0.630</td>\n",
              "      <td>-0.575</td>\n",
              "      <td>-0.495</td>\n",
              "      <td>...</td>\n",
              "      <td>-0.500</td>\n",
              "      <td>-0.520</td>\n",
              "      <td>-0.475</td>\n",
              "      <td>-0.410</td>\n",
              "      <td>-0.390</td>\n",
              "      <td>-0.390</td>\n",
              "      <td>-0.400</td>\n",
              "      <td>-0.410</td>\n",
              "      <td>-0.405</td>\n",
              "      <td>-0.385</td>\n",
              "    </tr>\n",
              "    <tr>\n",
              "      <th>...</th>\n",
              "      <td>...</td>\n",
              "      <td>...</td>\n",
              "      <td>...</td>\n",
              "      <td>...</td>\n",
              "      <td>...</td>\n",
              "      <td>...</td>\n",
              "      <td>...</td>\n",
              "      <td>...</td>\n",
              "      <td>...</td>\n",
              "      <td>...</td>\n",
              "      <td>...</td>\n",
              "      <td>...</td>\n",
              "      <td>...</td>\n",
              "      <td>...</td>\n",
              "      <td>...</td>\n",
              "      <td>...</td>\n",
              "      <td>...</td>\n",
              "      <td>...</td>\n",
              "      <td>...</td>\n",
              "      <td>...</td>\n",
              "      <td>...</td>\n",
              "    </tr>\n",
              "    <tr>\n",
              "      <th>2269</th>\n",
              "      <td>-0.310</td>\n",
              "      <td>-0.320</td>\n",
              "      <td>-0.340</td>\n",
              "      <td>-0.370</td>\n",
              "      <td>-0.420</td>\n",
              "      <td>-0.460</td>\n",
              "      <td>-0.470</td>\n",
              "      <td>-0.505</td>\n",
              "      <td>-0.525</td>\n",
              "      <td>-0.485</td>\n",
              "      <td>...</td>\n",
              "      <td>-0.545</td>\n",
              "      <td>-0.475</td>\n",
              "      <td>-0.390</td>\n",
              "      <td>-0.355</td>\n",
              "      <td>-0.360</td>\n",
              "      <td>-0.365</td>\n",
              "      <td>-0.370</td>\n",
              "      <td>-0.360</td>\n",
              "      <td>-0.345</td>\n",
              "      <td>-0.340</td>\n",
              "    </tr>\n",
              "    <tr>\n",
              "      <th>2270</th>\n",
              "      <td>-0.355</td>\n",
              "      <td>-0.365</td>\n",
              "      <td>-0.415</td>\n",
              "      <td>-0.465</td>\n",
              "      <td>-0.470</td>\n",
              "      <td>-0.485</td>\n",
              "      <td>-0.525</td>\n",
              "      <td>-0.555</td>\n",
              "      <td>-0.525</td>\n",
              "      <td>-0.420</td>\n",
              "      <td>...</td>\n",
              "      <td>-0.550</td>\n",
              "      <td>-0.500</td>\n",
              "      <td>-0.430</td>\n",
              "      <td>-0.395</td>\n",
              "      <td>-0.395</td>\n",
              "      <td>-0.405</td>\n",
              "      <td>-0.390</td>\n",
              "      <td>-0.380</td>\n",
              "      <td>-0.370</td>\n",
              "      <td>-0.370</td>\n",
              "    </tr>\n",
              "    <tr>\n",
              "      <th>2271</th>\n",
              "      <td>-0.355</td>\n",
              "      <td>-0.370</td>\n",
              "      <td>-0.410</td>\n",
              "      <td>-0.450</td>\n",
              "      <td>-0.490</td>\n",
              "      <td>-0.505</td>\n",
              "      <td>-0.540</td>\n",
              "      <td>-0.595</td>\n",
              "      <td>-0.565</td>\n",
              "      <td>-0.475</td>\n",
              "      <td>...</td>\n",
              "      <td>-0.550</td>\n",
              "      <td>-0.545</td>\n",
              "      <td>-0.465</td>\n",
              "      <td>-0.405</td>\n",
              "      <td>-0.380</td>\n",
              "      <td>-0.390</td>\n",
              "      <td>-0.385</td>\n",
              "      <td>-0.370</td>\n",
              "      <td>-0.370</td>\n",
              "      <td>-0.370</td>\n",
              "    </tr>\n",
              "    <tr>\n",
              "      <th>2272</th>\n",
              "      <td>-0.415</td>\n",
              "      <td>-0.435</td>\n",
              "      <td>-0.465</td>\n",
              "      <td>-0.520</td>\n",
              "      <td>-0.530</td>\n",
              "      <td>-0.570</td>\n",
              "      <td>-0.595</td>\n",
              "      <td>-0.615</td>\n",
              "      <td>-0.575</td>\n",
              "      <td>-0.475</td>\n",
              "      <td>...</td>\n",
              "      <td>-0.585</td>\n",
              "      <td>-0.545</td>\n",
              "      <td>-0.485</td>\n",
              "      <td>-0.445</td>\n",
              "      <td>-0.430</td>\n",
              "      <td>-0.445</td>\n",
              "      <td>-0.445</td>\n",
              "      <td>-0.440</td>\n",
              "      <td>-0.430</td>\n",
              "      <td>-0.430</td>\n",
              "    </tr>\n",
              "    <tr>\n",
              "      <th>2273</th>\n",
              "      <td>-0.645</td>\n",
              "      <td>-0.675</td>\n",
              "      <td>-0.705</td>\n",
              "      <td>-0.730</td>\n",
              "      <td>-0.745</td>\n",
              "      <td>-0.815</td>\n",
              "      <td>-0.815</td>\n",
              "      <td>-0.730</td>\n",
              "      <td>-0.615</td>\n",
              "      <td>-0.455</td>\n",
              "      <td>...</td>\n",
              "      <td>-0.675</td>\n",
              "      <td>-0.765</td>\n",
              "      <td>-1.280</td>\n",
              "      <td>NaN</td>\n",
              "      <td>NaN</td>\n",
              "      <td>NaN</td>\n",
              "      <td>NaN</td>\n",
              "      <td>NaN</td>\n",
              "      <td>NaN</td>\n",
              "      <td>NaN</td>\n",
              "    </tr>\n",
              "  </tbody>\n",
              "</table>\n",
              "<p>2274 rows × 32 columns</p>\n",
              "</div>\n",
              "      <button class=\"colab-df-convert\" onclick=\"convertToInteractive('df-e3f57875-ad60-400e-8bd5-50613c813a36')\"\n",
              "              title=\"Convert this dataframe to an interactive table.\"\n",
              "              style=\"display:none;\">\n",
              "        \n",
              "  <svg xmlns=\"http://www.w3.org/2000/svg\" height=\"24px\"viewBox=\"0 0 24 24\"\n",
              "       width=\"24px\">\n",
              "    <path d=\"M0 0h24v24H0V0z\" fill=\"none\"/>\n",
              "    <path d=\"M18.56 5.44l.94 2.06.94-2.06 2.06-.94-2.06-.94-.94-2.06-.94 2.06-2.06.94zm-11 1L8.5 8.5l.94-2.06 2.06-.94-2.06-.94L8.5 2.5l-.94 2.06-2.06.94zm10 10l.94 2.06.94-2.06 2.06-.94-2.06-.94-.94-2.06-.94 2.06-2.06.94z\"/><path d=\"M17.41 7.96l-1.37-1.37c-.4-.4-.92-.59-1.43-.59-.52 0-1.04.2-1.43.59L10.3 9.45l-7.72 7.72c-.78.78-.78 2.05 0 2.83L4 21.41c.39.39.9.59 1.41.59.51 0 1.02-.2 1.41-.59l7.78-7.78 2.81-2.81c.8-.78.8-2.07 0-2.86zM5.41 20L4 18.59l7.72-7.72 1.47 1.35L5.41 20z\"/>\n",
              "  </svg>\n",
              "      </button>\n",
              "      \n",
              "  <style>\n",
              "    .colab-df-container {\n",
              "      display:flex;\n",
              "      flex-wrap:wrap;\n",
              "      gap: 12px;\n",
              "    }\n",
              "\n",
              "    .colab-df-convert {\n",
              "      background-color: #E8F0FE;\n",
              "      border: none;\n",
              "      border-radius: 50%;\n",
              "      cursor: pointer;\n",
              "      display: none;\n",
              "      fill: #1967D2;\n",
              "      height: 32px;\n",
              "      padding: 0 0 0 0;\n",
              "      width: 32px;\n",
              "    }\n",
              "\n",
              "    .colab-df-convert:hover {\n",
              "      background-color: #E2EBFA;\n",
              "      box-shadow: 0px 1px 2px rgba(60, 64, 67, 0.3), 0px 1px 3px 1px rgba(60, 64, 67, 0.15);\n",
              "      fill: #174EA6;\n",
              "    }\n",
              "\n",
              "    [theme=dark] .colab-df-convert {\n",
              "      background-color: #3B4455;\n",
              "      fill: #D2E3FC;\n",
              "    }\n",
              "\n",
              "    [theme=dark] .colab-df-convert:hover {\n",
              "      background-color: #434B5C;\n",
              "      box-shadow: 0px 1px 3px 1px rgba(0, 0, 0, 0.15);\n",
              "      filter: drop-shadow(0px 1px 2px rgba(0, 0, 0, 0.3));\n",
              "      fill: #FFFFFF;\n",
              "    }\n",
              "  </style>\n",
              "\n",
              "      <script>\n",
              "        const buttonEl =\n",
              "          document.querySelector('#df-e3f57875-ad60-400e-8bd5-50613c813a36 button.colab-df-convert');\n",
              "        buttonEl.style.display =\n",
              "          google.colab.kernel.accessAllowed ? 'block' : 'none';\n",
              "\n",
              "        async function convertToInteractive(key) {\n",
              "          const element = document.querySelector('#df-e3f57875-ad60-400e-8bd5-50613c813a36');\n",
              "          const dataTable =\n",
              "            await google.colab.kernel.invokeFunction('convertToInteractive',\n",
              "                                                     [key], {});\n",
              "          if (!dataTable) return;\n",
              "\n",
              "          const docLinkHtml = 'Like what you see? Visit the ' +\n",
              "            '<a target=\"_blank\" href=https://colab.research.google.com/notebooks/data_table.ipynb>data table notebook</a>'\n",
              "            + ' to learn more about interactive tables.';\n",
              "          element.innerHTML = '';\n",
              "          dataTable['output_type'] = 'display_data';\n",
              "          await google.colab.output.renderOutput(dataTable, element);\n",
              "          const docLink = document.createElement('div');\n",
              "          docLink.innerHTML = docLinkHtml;\n",
              "          element.appendChild(docLink);\n",
              "        }\n",
              "      </script>\n",
              "    </div>\n",
              "  </div>\n",
              "  "
            ]
          },
          "metadata": {},
          "execution_count": 26
        }
      ]
    },
    {
      "cell_type": "markdown",
      "source": [
        "Sacar lo que no es un latido\n",
        "\n",
        "primero se saca lo que es \n",
        "\n",
        "2 registros 100 segundos"
      ],
      "metadata": {
        "id": "W9Y6MQNMtnn3"
      }
    },
    {
      "cell_type": "code",
      "source": [
        "print(type(signal1), signal1)"
      ],
      "metadata": {
        "id": "5clL1yVWsXJr",
        "colab": {
          "base_uri": "https://localhost:8080/"
        },
        "outputId": "e52486f1-2008-4712-9839-b3da9b7ce04c"
      },
      "execution_count": null,
      "outputs": [
        {
          "output_type": "stream",
          "name": "stdout",
          "text": [
            "<class 'numpy.ndarray'> [-0.145 -0.145 -0.145 ... -0.675 -0.765 -1.28 ]\n"
          ]
        }
      ]
    },
    {
      "cell_type": "code",
      "source": [
        "ms = []\n",
        "ds = []\n",
        "for index in range(0, len(signal1), 5):\n",
        "  chunk = signal1[index : index + 10]\n",
        "  m = chunk.mean()\n",
        "  d = chunk.std()\n",
        "  ms += [m] * (10 if index == 0 else 5)\n",
        "  ds += [d] * (10 if index == 0 else 5)"
      ],
      "metadata": {
        "id": "bkG6Bv2AcTyH"
      },
      "execution_count": null,
      "outputs": []
    },
    {
      "cell_type": "code",
      "source": [
        "import matplotlib.pyplot as plt\n",
        "plt.plot(ds[100:200])\n",
        "#plt.plot(ms)"
      ],
      "metadata": {
        "colab": {
          "base_uri": "https://localhost:8080/",
          "height": 282
        },
        "id": "wS8T1I_1caSc",
        "outputId": "efce33a5-2f4a-47f4-db8a-2f6539b5f6ee"
      },
      "execution_count": null,
      "outputs": [
        {
          "output_type": "execute_result",
          "data": {
            "text/plain": [
              "[<matplotlib.lines.Line2D at 0x7f7cd7e487d0>]"
            ]
          },
          "metadata": {},
          "execution_count": 70
        },
        {
          "output_type": "display_data",
          "data": {
            "text/plain": [
              "<Figure size 432x288 with 1 Axes>"
            ],
            "image/png": "[encoded data removed]"
          },
          "metadata": {
            "needs_background": "light"
          }
        }
      ]
    },
    {
      "cell_type": "code",
      "source": [],
      "metadata": {
        "id": "ENgrM4U9eUtU"
      },
      "execution_count": null,
      "outputs": []
    }
  ]
}