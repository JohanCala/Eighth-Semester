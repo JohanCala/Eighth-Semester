{
  "nbformat": 4,
  "nbformat_minor": 0,
  "metadata": {
    "colab": {
      "provenance": [],
      "collapsed_sections": [
        "fhg1hP4KP3oN",
        "fG9Qhs-OZIxT",
        "GA4ooc7puWpZ"
      ],
      "mount_file_id": "18bUam2A-jqAgAFJjAywXiY_TAGpCh0BP",
      "authorship_tag": "ABX9TyMhIIUtBAWKQtouMYGe38v5",
      "include_colab_link": true
    },
    "kernelspec": {
      "name": "python3",
      "display_name": "Python 3"
    },
    "language_info": {
      "name": "python"
    }
  },
  "cells": [
    {
      "cell_type": "markdown",
      "metadata": {
        "id": "view-in-github",
        "colab_type": "text"
      },
      "source": [
        "<a href=\"https://colab.research.google.com/github/JohanCala/Eighth-Semester/blob/main/SegundoParcialAnaliticaDeDatos.ipynb\" target=\"_parent\"><img src=\"https://colab.research.google.com/assets/colab-badge.svg\" alt=\"Open In Colab\"/></a>"
      ]
    },
    {
      "cell_type": "markdown",
      "source": [
        "## Parcial Analitica De Datos \n",
        "\n",
        "### Hecho por Johan E. Cala y Mario E. Hurtado"
      ],
      "metadata": {
        "id": "m9LJKhd0cTnY"
      }
    },
    {
      "cell_type": "code",
      "execution_count": null,
      "metadata": {
        "colab": {
          "base_uri": "https://localhost:8080/"
        },
        "id": "x4HXl54D5d4r",
        "outputId": "54a85aa7-5fc0-4d81-ce65-8c646c94990b"
      },
      "outputs": [
        {
          "output_type": "stream",
          "name": "stdout",
          "text": [
            "Looking in indexes: https://pypi.org/simple, https://us-python.pkg.dev/colab-wheels/public/simple/\n",
            "Requirement already satisfied: wfdb in /usr/local/lib/python3.7/dist-packages (4.0.0)\n",
            "Requirement already satisfied: SoundFile<0.12.0,>=0.10.0 in /usr/local/lib/python3.7/dist-packages (from wfdb) (0.11.0)\n",
            "Requirement already satisfied: scipy<2.0.0,>=1.0.0 in /usr/local/lib/python3.7/dist-packages (from wfdb) (1.7.3)\n",
            "Requirement already satisfied: pandas<2.0.0,>=1.0.0 in /usr/local/lib/python3.7/dist-packages (from wfdb) (1.3.5)\n",
            "Requirement already satisfied: requests<3.0.0,>=2.8.1 in /usr/local/lib/python3.7/dist-packages (from wfdb) (2.23.0)\n",
            "Requirement already satisfied: matplotlib<4.0.0,>=3.2.2 in /usr/local/lib/python3.7/dist-packages (from wfdb) (3.2.2)\n",
            "Requirement already satisfied: numpy<2.0.0,>=1.10.1 in /usr/local/lib/python3.7/dist-packages (from wfdb) (1.21.6)\n",
            "Requirement already satisfied: kiwisolver>=1.0.1 in /usr/local/lib/python3.7/dist-packages (from matplotlib<4.0.0,>=3.2.2->wfdb) (1.4.4)\n",
            "Requirement already satisfied: python-dateutil>=2.1 in /usr/local/lib/python3.7/dist-packages (from matplotlib<4.0.0,>=3.2.2->wfdb) (2.8.2)\n",
            "Requirement already satisfied: cycler>=0.10 in /usr/local/lib/python3.7/dist-packages (from matplotlib<4.0.0,>=3.2.2->wfdb) (0.11.0)\n",
            "Requirement already satisfied: pyparsing!=2.0.4,!=2.1.2,!=2.1.6,>=2.0.1 in /usr/local/lib/python3.7/dist-packages (from matplotlib<4.0.0,>=3.2.2->wfdb) (3.0.9)\n",
            "Requirement already satisfied: typing-extensions in /usr/local/lib/python3.7/dist-packages (from kiwisolver>=1.0.1->matplotlib<4.0.0,>=3.2.2->wfdb) (4.1.1)\n",
            "Requirement already satisfied: pytz>=2017.3 in /usr/local/lib/python3.7/dist-packages (from pandas<2.0.0,>=1.0.0->wfdb) (2022.6)\n",
            "Requirement already satisfied: six>=1.5 in /usr/local/lib/python3.7/dist-packages (from python-dateutil>=2.1->matplotlib<4.0.0,>=3.2.2->wfdb) (1.15.0)\n",
            "Requirement already satisfied: idna<3,>=2.5 in /usr/local/lib/python3.7/dist-packages (from requests<3.0.0,>=2.8.1->wfdb) (2.10)\n",
            "Requirement already satisfied: urllib3!=1.25.0,!=1.25.1,<1.26,>=1.21.1 in /usr/local/lib/python3.7/dist-packages (from requests<3.0.0,>=2.8.1->wfdb) (1.24.3)\n",
            "Requirement already satisfied: certifi>=2017.4.17 in /usr/local/lib/python3.7/dist-packages (from requests<3.0.0,>=2.8.1->wfdb) (2022.9.24)\n",
            "Requirement already satisfied: chardet<4,>=3.0.2 in /usr/local/lib/python3.7/dist-packages (from requests<3.0.0,>=2.8.1->wfdb) (3.0.4)\n",
            "Requirement already satisfied: cffi>=1.0 in /usr/local/lib/python3.7/dist-packages (from SoundFile<0.12.0,>=0.10.0->wfdb) (1.15.1)\n",
            "Requirement already satisfied: pycparser in /usr/local/lib/python3.7/dist-packages (from cffi>=1.0->SoundFile<0.12.0,>=0.10.0->wfdb) (2.21)\n"
          ]
        }
      ],
      "source": [
        "pip install wfdb"
      ]
    },
    {
      "cell_type": "markdown",
      "source": [
        "### Librerias Necesarias Para Resolver el parcial "
      ],
      "metadata": {
        "id": "CjhGgFVwc79J"
      }
    },
    {
      "cell_type": "code",
      "source": [
        "import wfdb \n",
        "import random\n",
        "import statistics as stats\n",
        "from scipy.stats import kurtosis\n",
        "from scipy.stats import skew\n",
        "import math\n",
        "from collections import Counter\n",
        "import numpy as np\n",
        "import matplotlib.pyplot as plt\n",
        "import pandas as pd\n",
        "import seaborn as sns\n",
        "from statistics import mode\n",
        "\n",
        "from sklearn.neural_network import MLPClassifier\n",
        "from sklearn.datasets import make_classification\n",
        "from sklearn.model_selection import train_test_split\n",
        "from sklearn.neural_network import MLPClassifier\n",
        "from sklearn.datasets import make_classification\n",
        "from sklearn.model_selection import train_test_split\n",
        "from sklearn.metrics import accuracy_score as score\n",
        "from sklearn.model_selection import GridSearchCV\n",
        "from sklearn.metrics import classification_report\n",
        "from sklearn.metrics import confusion_matrix\n",
        "from sklearn.metrics import f1_score\n",
        "from sklearn.preprocessing import StandardScaler\n",
        "from sklearn import svm\n",
        "from sklearn.svm import SVC\n",
        "from sklearn.model_selection import RandomizedSearchCV\n",
        "from sklearn.model_selection import GridSearchCV\n",
        "from sklearn.tree import DecisionTreeClassifier\n",
        "from sklearn.neighbors import KNeighborsClassifier\n",
        "from sklearn.naive_bayes import GaussianNB"
      ],
      "metadata": {
        "id": "PuLuuocw5qaq"
      },
      "execution_count": null,
      "outputs": []
    },
    {
      "cell_type": "code",
      "source": [
        "def modaJC(test_list):\n",
        "  res = []\n",
        "  test_list1 = Counter(test_list) \n",
        "  temp = test_list1.most_common(1)[0][1] \n",
        "  for ele in test_list:\n",
        "    if test_list.count(ele) == temp:\n",
        "      res.append(ele)\n",
        "  res = list(set(res))\n",
        "  return res"
      ],
      "metadata": {
        "id": "a8P_ogO9MWGj"
      },
      "execution_count": 119,
      "outputs": []
    },
    {
      "cell_type": "markdown",
      "source": [
        "## Formacion de DataSets  \n",
        "\n",
        "Para recolectar la información necesaria se utilizo una base datos de series temporales la cual es [MIT-BIH Normal Sinus Rhythm Database](https://www.physionet.org/content/nsrdb/1.0.0/), donde a traves de ventanas deslizantes se puede recorrer las señales en busca de caracteristica las cuales se decidieron que fueran:   \n",
        "1.  pendiente  \n",
        "2.  media  \n",
        "3.  mediana  \n",
        "4.  moda  \n",
        "5.  varianza  \n",
        "6.  desviacionEstandar  \n",
        "7.  kurtosis   \n",
        "8.  asimetria\n",
        "\n",
        "El codigo ejecutado para sacar los datos de toda la señal fue el siguiente:\n",
        "\n",
        "\n",
        "```\n",
        "#Lista de registros\n",
        "\n",
        "registros = ['16265','16272','16273','16420','16483','16539','16773',\n",
        "             '16786','16795','17052','17453',\n",
        "             '18177','18184','19088','19090',\n",
        "             '19093','19140','19830']\n",
        "info_data = []             \n",
        "N_1 = 10\n",
        "N_0 = 10\n",
        "y_0 = 0\n",
        "y_1 = 1\n",
        "\n",
        "for i in registros:\n",
        "  \n",
        "  ruta = \"db/\"+i\n",
        "  print(ruta)\n",
        "  records = wfdb.rdrecord(ruta)\n",
        "  signal = records.p_signal\n",
        "  signal1 = signal[:,0]\n",
        "  signal2 = signal[:,1]\n",
        "  ann = wfdb.rdann(ruta,'atr') #etiquetas del evento\n",
        "  ANN = ann.sample\n",
        "  print(len(ANN))\n",
        "  for x in range(1,len(ANN)-1):\n",
        "\n",
        "    REGISTRO1 = signal1[ANN[x]-N_1:ANN[x]+N_1]\n",
        "    y1=np.amin(REGISTRO1)\n",
        "    y2=np.amax(REGISTRO1)\n",
        "    x1 = np.where(REGISTRO1 == y1)[0][0]\n",
        "    x2 = np.where(REGISTRO1 == y2)[0][0]\n",
        "    pendiente = y2 - y1 / x2 - x1\n",
        "    media = stats.mean(REGISTRO1)\n",
        "    mediana = stats.median(REGISTRO1)\n",
        "    moda = modaJC(list(REGISTRO1))\n",
        "    varianza = stats.pvariance(REGISTRO1)\n",
        "    desviacionEstandar = stats.pstdev(REGISTRO1)\n",
        "    kurt = kurtosis(REGISTRO1)\n",
        "    asime = skew(REGISTRO1)\n",
        "    caract_1 = [pendiente,media,mediana,moda,varianza,desviacionEstandar,kurt,asime,y_1]\n",
        "    info_data.append(caract_1)\n",
        "  \n",
        "    #No latidos\n",
        "    n_aux = 8 \n",
        "    REGISTRO2 = signal1[ANN[x]+n_aux:ANN[x+1]-n_aux]\n",
        "    \n",
        "    options = range(len(REGISTRO2)+1)\n",
        "    options= list(options)\n",
        "    if len(REGISTRO2) > 30:\n",
        "      aux = True\n",
        "      while aux == True:\n",
        "          r = random.choice(options)\n",
        "          if r - N_0 > 0 and r + N_0 < len(REGISTRO2):\n",
        "            aux = False\n",
        "      inicio = r - N_0 \n",
        "      final = r + N_0\n",
        "      REGISTRO0 = REGISTRO2[inicio:final]\n",
        "    else:\n",
        "      n_aux = 3\n",
        "      REGISTRO0 = signal1[ANN[x]:ANN[x+1]]\n",
        "\n",
        "\n",
        "    y1=np.amin(REGISTRO0)\n",
        "    y2=np.amax(REGISTRO0)\n",
        "    x1 = np.where(REGISTRO0 == y1)[0][0]\n",
        "    x2 = np.where(REGISTRO0 == y2)[0][0]\n",
        "    pendiente = y2 - y1 / x2 - x1\n",
        "    media = stats.mean(REGISTRO0)\n",
        "    mediana = stats.median(REGISTRO0)\n",
        "    moda = modaJC(list(REGISTRO0))\n",
        "    varianza = stats.pvariance(REGISTRO0)\n",
        "    desviacionEstandar = stats.pstdev(REGISTRO0)\n",
        "    kurt = kurtosis(REGISTRO2)\n",
        "    asime = skew(REGISTRO2)\n",
        "    caract_0 = [pendiente,media,mediana,moda,varianza,desviacionEstandar,kurt,asime,y_0]\n",
        "    info_data.append(caract_0)\n",
        "```\n",
        "\n",
        "Esto como resultado nos dio el dataset para trabajarlo en los siguientes numerales del parcial \n",
        "\n",
        "\n",
        "\n",
        "\n",
        "\n",
        "\n",
        "\n",
        "\n",
        "\n"
      ],
      "metadata": {
        "id": "aVJww1qqdZeK"
      }
    },
    {
      "cell_type": "code",
      "source": [
        "df = pd.read_csv('/content/drive/MyDrive/Colab Notebooks/DatosMIT-BIH.csv')\n",
        "df"
      ],
      "metadata": {
        "colab": {
          "base_uri": "https://localhost:8080/",
          "height": 424
        },
        "id": "4J5A_uwm5z3w",
        "outputId": "614c29b2-6119-4c2d-924e-e0141bd37db8"
      },
      "execution_count": 127,
      "outputs": [
        {
          "output_type": "execute_result",
          "data": {
            "text/plain": [
              "         pendiente   media  mediana   moda  varianza  desviacionEstandar  \\\n",
              "0        -5.253750  0.2545   -0.195 -0.155  1.132965            1.064408   \n",
              "1        -0.051562 -0.1475   -0.155 -0.175  0.001529            0.039099   \n",
              "2        -5.002083  0.2755   -0.180 -0.175  1.178025            1.085368   \n",
              "3        -2.062500 -0.1215   -0.115 -0.115  0.000813            0.028509   \n",
              "4        -5.074583  0.3010   -0.160 -0.155  1.176754            1.084783   \n",
              "...            ...     ...      ...    ...       ...                 ...   \n",
              "3613507 -18.007500 -0.2760   -0.305 -0.305  0.002689            0.051856   \n",
              "3613508 -17.490909 -0.2085   -0.285 -0.285  0.049933            0.223456   \n",
              "3613509  -0.041500 -0.2250   -0.240 -0.325  0.006470            0.080436   \n",
              "3613510 -15.338462 -0.1470   -0.245 -0.245  0.052556            0.229251   \n",
              "3613511  -2.034583 -0.1400   -0.140 -0.155  0.003005            0.054818   \n",
              "\n",
              "         kurtosis  asimetria  salida  \n",
              "0        0.529401   1.436697       1  \n",
              "1        0.832477  -0.537550       0  \n",
              "2        0.844009   1.516941       1  \n",
              "3        0.519649  -0.472923       0  \n",
              "4        0.554570   1.437265       1  \n",
              "...           ...        ...     ...  \n",
              "3613507 -0.744714   0.595270       0  \n",
              "3613508  2.850548   2.015281       1  \n",
              "3613509 -0.450456   0.212475       0  \n",
              "3613510  4.675712   2.281762       1  \n",
              "3613511  0.360126  -0.386565       0  \n",
              "\n",
              "[3613512 rows x 9 columns]"
            ],
            "text/html": [
              "\n",
              "  <div id=\"df-f6493678-400a-47cc-944f-f5a78bc2fea1\">\n",
              "    <div class=\"colab-df-container\">\n",
              "      <div>\n",
              "<style scoped>\n",
              "    .dataframe tbody tr th:only-of-type {\n",
              "        vertical-align: middle;\n",
              "    }\n",
              "\n",
              "    .dataframe tbody tr th {\n",
              "        vertical-align: top;\n",
              "    }\n",
              "\n",
              "    .dataframe thead th {\n",
              "        text-align: right;\n",
              "    }\n",
              "</style>\n",
              "<table border=\"1\" class=\"dataframe\">\n",
              "  <thead>\n",
              "    <tr style=\"text-align: right;\">\n",
              "      <th></th>\n",
              "      <th>pendiente</th>\n",
              "      <th>media</th>\n",
              "      <th>mediana</th>\n",
              "      <th>moda</th>\n",
              "      <th>varianza</th>\n",
              "      <th>desviacionEstandar</th>\n",
              "      <th>kurtosis</th>\n",
              "      <th>asimetria</th>\n",
              "      <th>salida</th>\n",
              "    </tr>\n",
              "  </thead>\n",
              "  <tbody>\n",
              "    <tr>\n",
              "      <th>0</th>\n",
              "      <td>-5.253750</td>\n",
              "      <td>0.2545</td>\n",
              "      <td>-0.195</td>\n",
              "      <td>-0.155</td>\n",
              "      <td>1.132965</td>\n",
              "      <td>1.064408</td>\n",
              "      <td>0.529401</td>\n",
              "      <td>1.436697</td>\n",
              "      <td>1</td>\n",
              "    </tr>\n",
              "    <tr>\n",
              "      <th>1</th>\n",
              "      <td>-0.051562</td>\n",
              "      <td>-0.1475</td>\n",
              "      <td>-0.155</td>\n",
              "      <td>-0.175</td>\n",
              "      <td>0.001529</td>\n",
              "      <td>0.039099</td>\n",
              "      <td>0.832477</td>\n",
              "      <td>-0.537550</td>\n",
              "      <td>0</td>\n",
              "    </tr>\n",
              "    <tr>\n",
              "      <th>2</th>\n",
              "      <td>-5.002083</td>\n",
              "      <td>0.2755</td>\n",
              "      <td>-0.180</td>\n",
              "      <td>-0.175</td>\n",
              "      <td>1.178025</td>\n",
              "      <td>1.085368</td>\n",
              "      <td>0.844009</td>\n",
              "      <td>1.516941</td>\n",
              "      <td>1</td>\n",
              "    </tr>\n",
              "    <tr>\n",
              "      <th>3</th>\n",
              "      <td>-2.062500</td>\n",
              "      <td>-0.1215</td>\n",
              "      <td>-0.115</td>\n",
              "      <td>-0.115</td>\n",
              "      <td>0.000813</td>\n",
              "      <td>0.028509</td>\n",
              "      <td>0.519649</td>\n",
              "      <td>-0.472923</td>\n",
              "      <td>0</td>\n",
              "    </tr>\n",
              "    <tr>\n",
              "      <th>4</th>\n",
              "      <td>-5.074583</td>\n",
              "      <td>0.3010</td>\n",
              "      <td>-0.160</td>\n",
              "      <td>-0.155</td>\n",
              "      <td>1.176754</td>\n",
              "      <td>1.084783</td>\n",
              "      <td>0.554570</td>\n",
              "      <td>1.437265</td>\n",
              "      <td>1</td>\n",
              "    </tr>\n",
              "    <tr>\n",
              "      <th>...</th>\n",
              "      <td>...</td>\n",
              "      <td>...</td>\n",
              "      <td>...</td>\n",
              "      <td>...</td>\n",
              "      <td>...</td>\n",
              "      <td>...</td>\n",
              "      <td>...</td>\n",
              "      <td>...</td>\n",
              "      <td>...</td>\n",
              "    </tr>\n",
              "    <tr>\n",
              "      <th>3613507</th>\n",
              "      <td>-18.007500</td>\n",
              "      <td>-0.2760</td>\n",
              "      <td>-0.305</td>\n",
              "      <td>-0.305</td>\n",
              "      <td>0.002689</td>\n",
              "      <td>0.051856</td>\n",
              "      <td>-0.744714</td>\n",
              "      <td>0.595270</td>\n",
              "      <td>0</td>\n",
              "    </tr>\n",
              "    <tr>\n",
              "      <th>3613508</th>\n",
              "      <td>-17.490909</td>\n",
              "      <td>-0.2085</td>\n",
              "      <td>-0.285</td>\n",
              "      <td>-0.285</td>\n",
              "      <td>0.049933</td>\n",
              "      <td>0.223456</td>\n",
              "      <td>2.850548</td>\n",
              "      <td>2.015281</td>\n",
              "      <td>1</td>\n",
              "    </tr>\n",
              "    <tr>\n",
              "      <th>3613509</th>\n",
              "      <td>-0.041500</td>\n",
              "      <td>-0.2250</td>\n",
              "      <td>-0.240</td>\n",
              "      <td>-0.325</td>\n",
              "      <td>0.006470</td>\n",
              "      <td>0.080436</td>\n",
              "      <td>-0.450456</td>\n",
              "      <td>0.212475</td>\n",
              "      <td>0</td>\n",
              "    </tr>\n",
              "    <tr>\n",
              "      <th>3613510</th>\n",
              "      <td>-15.338462</td>\n",
              "      <td>-0.1470</td>\n",
              "      <td>-0.245</td>\n",
              "      <td>-0.245</td>\n",
              "      <td>0.052556</td>\n",
              "      <td>0.229251</td>\n",
              "      <td>4.675712</td>\n",
              "      <td>2.281762</td>\n",
              "      <td>1</td>\n",
              "    </tr>\n",
              "    <tr>\n",
              "      <th>3613511</th>\n",
              "      <td>-2.034583</td>\n",
              "      <td>-0.1400</td>\n",
              "      <td>-0.140</td>\n",
              "      <td>-0.155</td>\n",
              "      <td>0.003005</td>\n",
              "      <td>0.054818</td>\n",
              "      <td>0.360126</td>\n",
              "      <td>-0.386565</td>\n",
              "      <td>0</td>\n",
              "    </tr>\n",
              "  </tbody>\n",
              "</table>\n",
              "<p>3613512 rows × 9 columns</p>\n",
              "</div>\n",
              "      <button class=\"colab-df-convert\" onclick=\"convertToInteractive('df-f6493678-400a-47cc-944f-f5a78bc2fea1')\"\n",
              "              title=\"Convert this dataframe to an interactive table.\"\n",
              "              style=\"display:none;\">\n",
              "        \n",
              "  <svg xmlns=\"http://www.w3.org/2000/svg\" height=\"24px\"viewBox=\"0 0 24 24\"\n",
              "       width=\"24px\">\n",
              "    <path d=\"M0 0h24v24H0V0z\" fill=\"none\"/>\n",
              "    <path d=\"M18.56 5.44l.94 2.06.94-2.06 2.06-.94-2.06-.94-.94-2.06-.94 2.06-2.06.94zm-11 1L8.5 8.5l.94-2.06 2.06-.94-2.06-.94L8.5 2.5l-.94 2.06-2.06.94zm10 10l.94 2.06.94-2.06 2.06-.94-2.06-.94-.94-2.06-.94 2.06-2.06.94z\"/><path d=\"M17.41 7.96l-1.37-1.37c-.4-.4-.92-.59-1.43-.59-.52 0-1.04.2-1.43.59L10.3 9.45l-7.72 7.72c-.78.78-.78 2.05 0 2.83L4 21.41c.39.39.9.59 1.41.59.51 0 1.02-.2 1.41-.59l7.78-7.78 2.81-2.81c.8-.78.8-2.07 0-2.86zM5.41 20L4 18.59l7.72-7.72 1.47 1.35L5.41 20z\"/>\n",
              "  </svg>\n",
              "      </button>\n",
              "      \n",
              "  <style>\n",
              "    .colab-df-container {\n",
              "      display:flex;\n",
              "      flex-wrap:wrap;\n",
              "      gap: 12px;\n",
              "    }\n",
              "\n",
              "    .colab-df-convert {\n",
              "      background-color: #E8F0FE;\n",
              "      border: none;\n",
              "      border-radius: 50%;\n",
              "      cursor: pointer;\n",
              "      display: none;\n",
              "      fill: #1967D2;\n",
              "      height: 32px;\n",
              "      padding: 0 0 0 0;\n",
              "      width: 32px;\n",
              "    }\n",
              "\n",
              "    .colab-df-convert:hover {\n",
              "      background-color: #E2EBFA;\n",
              "      box-shadow: 0px 1px 2px rgba(60, 64, 67, 0.3), 0px 1px 3px 1px rgba(60, 64, 67, 0.15);\n",
              "      fill: #174EA6;\n",
              "    }\n",
              "\n",
              "    [theme=dark] .colab-df-convert {\n",
              "      background-color: #3B4455;\n",
              "      fill: #D2E3FC;\n",
              "    }\n",
              "\n",
              "    [theme=dark] .colab-df-convert:hover {\n",
              "      background-color: #434B5C;\n",
              "      box-shadow: 0px 1px 3px 1px rgba(0, 0, 0, 0.15);\n",
              "      filter: drop-shadow(0px 1px 2px rgba(0, 0, 0, 0.3));\n",
              "      fill: #FFFFFF;\n",
              "    }\n",
              "  </style>\n",
              "\n",
              "      <script>\n",
              "        const buttonEl =\n",
              "          document.querySelector('#df-f6493678-400a-47cc-944f-f5a78bc2fea1 button.colab-df-convert');\n",
              "        buttonEl.style.display =\n",
              "          google.colab.kernel.accessAllowed ? 'block' : 'none';\n",
              "\n",
              "        async function convertToInteractive(key) {\n",
              "          const element = document.querySelector('#df-f6493678-400a-47cc-944f-f5a78bc2fea1');\n",
              "          const dataTable =\n",
              "            await google.colab.kernel.invokeFunction('convertToInteractive',\n",
              "                                                     [key], {});\n",
              "          if (!dataTable) return;\n",
              "\n",
              "          const docLinkHtml = 'Like what you see? Visit the ' +\n",
              "            '<a target=\"_blank\" href=https://colab.research.google.com/notebooks/data_table.ipynb>data table notebook</a>'\n",
              "            + ' to learn more about interactive tables.';\n",
              "          element.innerHTML = '';\n",
              "          dataTable['output_type'] = 'display_data';\n",
              "          await google.colab.output.renderOutput(dataTable, element);\n",
              "          const docLink = document.createElement('div');\n",
              "          docLink.innerHTML = docLinkHtml;\n",
              "          element.appendChild(docLink);\n",
              "        }\n",
              "      </script>\n",
              "    </div>\n",
              "  </div>\n",
              "  "
            ]
          },
          "metadata": {},
          "execution_count": 127
        }
      ]
    },
    {
      "cell_type": "markdown",
      "source": [
        "Como el DataSet resulto contener una gran cantidad de datos, se opto por divir nuestro dataset y trabajar con un dataset de **400.000** registros"
      ],
      "metadata": {
        "id": "9Wvh5YDThXKP"
      }
    },
    {
      "cell_type": "code",
      "source": [
        "df_2 = df.head(400000)\n",
        "df_2"
      ],
      "metadata": {
        "colab": {
          "base_uri": "https://localhost:8080/",
          "height": 424
        },
        "id": "VOwZTZ5H6ZJa",
        "outputId": "e9432068-a941-49b1-f0fd-12f2f72e6c87"
      },
      "execution_count": 128,
      "outputs": [
        {
          "output_type": "execute_result",
          "data": {
            "text/plain": [
              "         pendiente   media  mediana   moda  varianza  desviacionEstandar  \\\n",
              "3213512   0.436250  0.0355   -0.200 -0.205  0.255525            0.505495   \n",
              "3213513  -0.051111 -0.1525   -0.170 -0.195  0.002299            0.047945   \n",
              "3213514   1.500769  0.0775   -0.130 -0.205  0.244289            0.494256   \n",
              "3213515   0.392632  0.0425   -0.030 -0.125  0.030149            0.173634   \n",
              "3213516   1.457917  0.1020   -0.105 -0.155  0.218941            0.467911   \n",
              "...            ...     ...      ...    ...       ...                 ...   \n",
              "3613507 -18.007500 -0.2760   -0.305 -0.305  0.002689            0.051856   \n",
              "3613508 -17.490909 -0.2085   -0.285 -0.285  0.049933            0.223456   \n",
              "3613509  -0.041500 -0.2250   -0.240 -0.325  0.006470            0.080436   \n",
              "3613510 -15.338462 -0.1470   -0.245 -0.245  0.052556            0.229251   \n",
              "3613511  -2.034583 -0.1400   -0.140 -0.155  0.003005            0.054818   \n",
              "\n",
              "         kurtosis  asimetria  salida  \n",
              "3213512  2.519250   2.004274       1  \n",
              "3213513  2.638368   1.876600       0  \n",
              "3213514  1.955553   1.881181       1  \n",
              "3213515  2.808633   1.883387       0  \n",
              "3213516  2.109374   1.911117       1  \n",
              "...           ...        ...     ...  \n",
              "3613507 -0.744714   0.595270       0  \n",
              "3613508  2.850548   2.015281       1  \n",
              "3613509 -0.450456   0.212475       0  \n",
              "3613510  4.675712   2.281762       1  \n",
              "3613511  0.360126  -0.386565       0  \n",
              "\n",
              "[400000 rows x 9 columns]"
            ],
            "text/html": [
              "\n",
              "  <div id=\"df-813ce206-c94c-448f-bce9-ba89f549330d\">\n",
              "    <div class=\"colab-df-container\">\n",
              "      <div>\n",
              "<style scoped>\n",
              "    .dataframe tbody tr th:only-of-type {\n",
              "        vertical-align: middle;\n",
              "    }\n",
              "\n",
              "    .dataframe tbody tr th {\n",
              "        vertical-align: top;\n",
              "    }\n",
              "\n",
              "    .dataframe thead th {\n",
              "        text-align: right;\n",
              "    }\n",
              "</style>\n",
              "<table border=\"1\" class=\"dataframe\">\n",
              "  <thead>\n",
              "    <tr style=\"text-align: right;\">\n",
              "      <th></th>\n",
              "      <th>pendiente</th>\n",
              "      <th>media</th>\n",
              "      <th>mediana</th>\n",
              "      <th>moda</th>\n",
              "      <th>varianza</th>\n",
              "      <th>desviacionEstandar</th>\n",
              "      <th>kurtosis</th>\n",
              "      <th>asimetria</th>\n",
              "      <th>salida</th>\n",
              "    </tr>\n",
              "  </thead>\n",
              "  <tbody>\n",
              "    <tr>\n",
              "      <th>3213512</th>\n",
              "      <td>0.436250</td>\n",
              "      <td>0.0355</td>\n",
              "      <td>-0.200</td>\n",
              "      <td>-0.205</td>\n",
              "      <td>0.255525</td>\n",
              "      <td>0.505495</td>\n",
              "      <td>2.519250</td>\n",
              "      <td>2.004274</td>\n",
              "      <td>1</td>\n",
              "    </tr>\n",
              "    <tr>\n",
              "      <th>3213513</th>\n",
              "      <td>-0.051111</td>\n",
              "      <td>-0.1525</td>\n",
              "      <td>-0.170</td>\n",
              "      <td>-0.195</td>\n",
              "      <td>0.002299</td>\n",
              "      <td>0.047945</td>\n",
              "      <td>2.638368</td>\n",
              "      <td>1.876600</td>\n",
              "      <td>0</td>\n",
              "    </tr>\n",
              "    <tr>\n",
              "      <th>3213514</th>\n",
              "      <td>1.500769</td>\n",
              "      <td>0.0775</td>\n",
              "      <td>-0.130</td>\n",
              "      <td>-0.205</td>\n",
              "      <td>0.244289</td>\n",
              "      <td>0.494256</td>\n",
              "      <td>1.955553</td>\n",
              "      <td>1.881181</td>\n",
              "      <td>1</td>\n",
              "    </tr>\n",
              "    <tr>\n",
              "      <th>3213515</th>\n",
              "      <td>0.392632</td>\n",
              "      <td>0.0425</td>\n",
              "      <td>-0.030</td>\n",
              "      <td>-0.125</td>\n",
              "      <td>0.030149</td>\n",
              "      <td>0.173634</td>\n",
              "      <td>2.808633</td>\n",
              "      <td>1.883387</td>\n",
              "      <td>0</td>\n",
              "    </tr>\n",
              "    <tr>\n",
              "      <th>3213516</th>\n",
              "      <td>1.457917</td>\n",
              "      <td>0.1020</td>\n",
              "      <td>-0.105</td>\n",
              "      <td>-0.155</td>\n",
              "      <td>0.218941</td>\n",
              "      <td>0.467911</td>\n",
              "      <td>2.109374</td>\n",
              "      <td>1.911117</td>\n",
              "      <td>1</td>\n",
              "    </tr>\n",
              "    <tr>\n",
              "      <th>...</th>\n",
              "      <td>...</td>\n",
              "      <td>...</td>\n",
              "      <td>...</td>\n",
              "      <td>...</td>\n",
              "      <td>...</td>\n",
              "      <td>...</td>\n",
              "      <td>...</td>\n",
              "      <td>...</td>\n",
              "      <td>...</td>\n",
              "    </tr>\n",
              "    <tr>\n",
              "      <th>3613507</th>\n",
              "      <td>-18.007500</td>\n",
              "      <td>-0.2760</td>\n",
              "      <td>-0.305</td>\n",
              "      <td>-0.305</td>\n",
              "      <td>0.002689</td>\n",
              "      <td>0.051856</td>\n",
              "      <td>-0.744714</td>\n",
              "      <td>0.595270</td>\n",
              "      <td>0</td>\n",
              "    </tr>\n",
              "    <tr>\n",
              "      <th>3613508</th>\n",
              "      <td>-17.490909</td>\n",
              "      <td>-0.2085</td>\n",
              "      <td>-0.285</td>\n",
              "      <td>-0.285</td>\n",
              "      <td>0.049933</td>\n",
              "      <td>0.223456</td>\n",
              "      <td>2.850548</td>\n",
              "      <td>2.015281</td>\n",
              "      <td>1</td>\n",
              "    </tr>\n",
              "    <tr>\n",
              "      <th>3613509</th>\n",
              "      <td>-0.041500</td>\n",
              "      <td>-0.2250</td>\n",
              "      <td>-0.240</td>\n",
              "      <td>-0.325</td>\n",
              "      <td>0.006470</td>\n",
              "      <td>0.080436</td>\n",
              "      <td>-0.450456</td>\n",
              "      <td>0.212475</td>\n",
              "      <td>0</td>\n",
              "    </tr>\n",
              "    <tr>\n",
              "      <th>3613510</th>\n",
              "      <td>-15.338462</td>\n",
              "      <td>-0.1470</td>\n",
              "      <td>-0.245</td>\n",
              "      <td>-0.245</td>\n",
              "      <td>0.052556</td>\n",
              "      <td>0.229251</td>\n",
              "      <td>4.675712</td>\n",
              "      <td>2.281762</td>\n",
              "      <td>1</td>\n",
              "    </tr>\n",
              "    <tr>\n",
              "      <th>3613511</th>\n",
              "      <td>-2.034583</td>\n",
              "      <td>-0.1400</td>\n",
              "      <td>-0.140</td>\n",
              "      <td>-0.155</td>\n",
              "      <td>0.003005</td>\n",
              "      <td>0.054818</td>\n",
              "      <td>0.360126</td>\n",
              "      <td>-0.386565</td>\n",
              "      <td>0</td>\n",
              "    </tr>\n",
              "  </tbody>\n",
              "</table>\n",
              "<p>400000 rows × 9 columns</p>\n",
              "</div>\n",
              "      <button class=\"colab-df-convert\" onclick=\"convertToInteractive('df-813ce206-c94c-448f-bce9-ba89f549330d')\"\n",
              "              title=\"Convert this dataframe to an interactive table.\"\n",
              "              style=\"display:none;\">\n",
              "        \n",
              "  <svg xmlns=\"http://www.w3.org/2000/svg\" height=\"24px\"viewBox=\"0 0 24 24\"\n",
              "       width=\"24px\">\n",
              "    <path d=\"M0 0h24v24H0V0z\" fill=\"none\"/>\n",
              "    <path d=\"M18.56 5.44l.94 2.06.94-2.06 2.06-.94-2.06-.94-.94-2.06-.94 2.06-2.06.94zm-11 1L8.5 8.5l.94-2.06 2.06-.94-2.06-.94L8.5 2.5l-.94 2.06-2.06.94zm10 10l.94 2.06.94-2.06 2.06-.94-2.06-.94-.94-2.06-.94 2.06-2.06.94z\"/><path d=\"M17.41 7.96l-1.37-1.37c-.4-.4-.92-.59-1.43-.59-.52 0-1.04.2-1.43.59L10.3 9.45l-7.72 7.72c-.78.78-.78 2.05 0 2.83L4 21.41c.39.39.9.59 1.41.59.51 0 1.02-.2 1.41-.59l7.78-7.78 2.81-2.81c.8-.78.8-2.07 0-2.86zM5.41 20L4 18.59l7.72-7.72 1.47 1.35L5.41 20z\"/>\n",
              "  </svg>\n",
              "      </button>\n",
              "      \n",
              "  <style>\n",
              "    .colab-df-container {\n",
              "      display:flex;\n",
              "      flex-wrap:wrap;\n",
              "      gap: 12px;\n",
              "    }\n",
              "\n",
              "    .colab-df-convert {\n",
              "      background-color: #E8F0FE;\n",
              "      border: none;\n",
              "      border-radius: 50%;\n",
              "      cursor: pointer;\n",
              "      display: none;\n",
              "      fill: #1967D2;\n",
              "      height: 32px;\n",
              "      padding: 0 0 0 0;\n",
              "      width: 32px;\n",
              "    }\n",
              "\n",
              "    .colab-df-convert:hover {\n",
              "      background-color: #E2EBFA;\n",
              "      box-shadow: 0px 1px 2px rgba(60, 64, 67, 0.3), 0px 1px 3px 1px rgba(60, 64, 67, 0.15);\n",
              "      fill: #174EA6;\n",
              "    }\n",
              "\n",
              "    [theme=dark] .colab-df-convert {\n",
              "      background-color: #3B4455;\n",
              "      fill: #D2E3FC;\n",
              "    }\n",
              "\n",
              "    [theme=dark] .colab-df-convert:hover {\n",
              "      background-color: #434B5C;\n",
              "      box-shadow: 0px 1px 3px 1px rgba(0, 0, 0, 0.15);\n",
              "      filter: drop-shadow(0px 1px 2px rgba(0, 0, 0, 0.3));\n",
              "      fill: #FFFFFF;\n",
              "    }\n",
              "  </style>\n",
              "\n",
              "      <script>\n",
              "        const buttonEl =\n",
              "          document.querySelector('#df-813ce206-c94c-448f-bce9-ba89f549330d button.colab-df-convert');\n",
              "        buttonEl.style.display =\n",
              "          google.colab.kernel.accessAllowed ? 'block' : 'none';\n",
              "\n",
              "        async function convertToInteractive(key) {\n",
              "          const element = document.querySelector('#df-813ce206-c94c-448f-bce9-ba89f549330d');\n",
              "          const dataTable =\n",
              "            await google.colab.kernel.invokeFunction('convertToInteractive',\n",
              "                                                     [key], {});\n",
              "          if (!dataTable) return;\n",
              "\n",
              "          const docLinkHtml = 'Like what you see? Visit the ' +\n",
              "            '<a target=\"_blank\" href=https://colab.research.google.com/notebooks/data_table.ipynb>data table notebook</a>'\n",
              "            + ' to learn more about interactive tables.';\n",
              "          element.innerHTML = '';\n",
              "          dataTable['output_type'] = 'display_data';\n",
              "          await google.colab.output.renderOutput(dataTable, element);\n",
              "          const docLink = document.createElement('div');\n",
              "          docLink.innerHTML = docLinkHtml;\n",
              "          element.appendChild(docLink);\n",
              "        }\n",
              "      </script>\n",
              "    </div>\n",
              "  </div>\n",
              "  "
            ]
          },
          "metadata": {},
          "execution_count": 128
        }
      ]
    },
    {
      "cell_type": "markdown",
      "source": [
        "## Exploracón de la información"
      ],
      "metadata": {
        "id": "ksPSdCKgh4lH"
      }
    },
    {
      "cell_type": "markdown",
      "source": [
        "En esta seccion exploramos el dataset para ver como esta distribuida la informacion y que informacion debemos tratar, en este caso se decidio eliminar los datos nulos, y hacer una eliminacion de datos atipos"
      ],
      "metadata": {
        "id": "6FRlhJ_wiHEX"
      }
    },
    {
      "cell_type": "markdown",
      "source": [
        "Variables clasificadoras, en este caso los registros que tiene como etiqueta 1 representan las caracteristicas de un latido, y las que tienen 0 son los que no son latidos"
      ],
      "metadata": {
        "id": "aw3bDqzlixi_"
      }
    },
    {
      "cell_type": "code",
      "source": [
        "df_2.salida.unique()"
      ],
      "metadata": {
        "colab": {
          "base_uri": "https://localhost:8080/"
        },
        "id": "LUxzjbQe7HTI",
        "outputId": "c82e6d58-d286-4557-9ee8-eaf79ed736d5"
      },
      "execution_count": 129,
      "outputs": [
        {
          "output_type": "execute_result",
          "data": {
            "text/plain": [
              "array([1, 0])"
            ]
          },
          "metadata": {},
          "execution_count": 129
        }
      ]
    },
    {
      "cell_type": "code",
      "source": [
        "df_2['salida'].value_counts()"
      ],
      "metadata": {
        "colab": {
          "base_uri": "https://localhost:8080/"
        },
        "id": "yOl8pKtt7J3Y",
        "outputId": "8b63c1ad-5357-457a-823b-552e449283fd"
      },
      "execution_count": 130,
      "outputs": [
        {
          "output_type": "execute_result",
          "data": {
            "text/plain": [
              "1    200000\n",
              "0    200000\n",
              "Name: salida, dtype: int64"
            ]
          },
          "metadata": {},
          "execution_count": 130
        }
      ]
    },
    {
      "cell_type": "code",
      "source": [
        "sns.countplot(df_2['salida'], palette='husl')"
      ],
      "metadata": {
        "colab": {
          "base_uri": "https://localhost:8080/",
          "height": 351
        },
        "id": "_N1PGRYD7VeR",
        "outputId": "bbaff2f5-e89b-4002-86f9-a3fe0ad60929"
      },
      "execution_count": 131,
      "outputs": [
        {
          "output_type": "stream",
          "name": "stderr",
          "text": [
            "/usr/local/lib/python3.7/dist-packages/seaborn/_decorators.py:43: FutureWarning: Pass the following variable as a keyword arg: x. From version 0.12, the only valid positional argument will be `data`, and passing other arguments without an explicit keyword will result in an error or misinterpretation.\n",
            "  FutureWarning\n"
          ]
        },
        {
          "output_type": "execute_result",
          "data": {
            "text/plain": [
              "<matplotlib.axes._subplots.AxesSubplot at 0x7f17c6b416d0>"
            ]
          },
          "metadata": {},
          "execution_count": 131
        },
        {
          "output_type": "display_data",
          "data": {
            "text/plain": [
              "<Figure size 432x288 with 1 Axes>"
            ],
            "image/png": "[encoded data removed]"
          },
          "metadata": {
            "needs_background": "light"
          }
        }
      ]
    },
    {
      "cell_type": "code",
      "source": [
        "df_2.isnull().sum()"
      ],
      "metadata": {
        "colab": {
          "base_uri": "https://localhost:8080/"
        },
        "id": "mbeZdwYO7xiT",
        "outputId": "a401b534-54f0-49f8-b25c-aede85d4852e"
      },
      "execution_count": 132,
      "outputs": [
        {
          "output_type": "execute_result",
          "data": {
            "text/plain": [
              "pendiente               0\n",
              "media                   0\n",
              "mediana                 0\n",
              "moda                    0\n",
              "varianza                0\n",
              "desviacionEstandar      0\n",
              "kurtosis              181\n",
              "asimetria             181\n",
              "salida                  0\n",
              "dtype: int64"
            ]
          },
          "metadata": {},
          "execution_count": 132
        }
      ]
    },
    {
      "cell_type": "markdown",
      "source": [
        "Con esta celda procedemos a eliminar los datos nulos para que no causen algun problema con nuestro modelo clasificador"
      ],
      "metadata": {
        "id": "12mBpYIUjGlR"
      }
    },
    {
      "cell_type": "code",
      "source": [
        "data = df_2.copy()\n",
        "data = data[data['kurtosis'].notna()]\n",
        "data = data[data['asimetria'].notna()]\n",
        "data.isnull().sum()"
      ],
      "metadata": {
        "colab": {
          "base_uri": "https://localhost:8080/"
        },
        "id": "F2FG_6vZ7zwA",
        "outputId": "9a3f220c-dc07-45ca-def8-15d37cacc125"
      },
      "execution_count": 133,
      "outputs": [
        {
          "output_type": "execute_result",
          "data": {
            "text/plain": [
              "pendiente             0\n",
              "media                 0\n",
              "mediana               0\n",
              "moda                  0\n",
              "varianza              0\n",
              "desviacionEstandar    0\n",
              "kurtosis              0\n",
              "asimetria             0\n",
              "salida                0\n",
              "dtype: int64"
            ]
          },
          "metadata": {},
          "execution_count": 133
        }
      ]
    },
    {
      "cell_type": "markdown",
      "source": [
        "### Codigo para eliminar datos atipicos\n",
        "\n",
        "En busca de aumentar el rendimiento del modelo se eliman los datos atipicos que tienen nuestro registro"
      ],
      "metadata": {
        "id": "rytIbttCjej3"
      }
    },
    {
      "cell_type": "code",
      "source": [
        "def IdentificarAtipicos(df, ft, valorAlfa):\n",
        "    q1 = df[ft].quantile(0.25)\n",
        "    q3 = df[ft].quantile(0.75)\n",
        "    iqr = q3 - q1\n",
        "    \n",
        "    bigote_inferior = q1 - valorAlfa * iqr\n",
        "    bigote_superior = q3 + valorAlfa * iqr\n",
        "    \n",
        "    ls = df.index[(df[ft]<bigote_inferior) | (df[ft] > bigote_superior)]\n",
        "    return ls\n",
        "\n",
        "def eliminar(df, index):\n",
        "    index = sorted(set(index))\n",
        "    df = df.drop(index)\n",
        "    return df\n",
        "\n",
        "aux = ['pendiente','media','mediana','moda','varianza','desviacionEstandar','kurtosis','asimetria']\n",
        "valor_alpha = 1.5\n",
        "index_list = []\n",
        "for i in aux:\n",
        "  index_list.extend(IdentificarAtipicos(data, i,valor_alpha))\n",
        "\n",
        "columnsa = [\"indicesss\"]\n",
        "df_index = pd.DataFrame(index_list,columns = columnsa)\n",
        "df_index.duplicated().sum()\n",
        "df_index = df_index.drop_duplicates()\n",
        "final_index_list = df_index[\"indicesss\"]\n",
        "data = eliminar(data,final_index_list)\n",
        "data"
      ],
      "metadata": {
        "colab": {
          "base_uri": "https://localhost:8080/",
          "height": 424
        },
        "id": "S4cg9XOU8Rts",
        "outputId": "f5dcbbb0-e6be-46ce-ac4e-36829be0b2f3"
      },
      "execution_count": 134,
      "outputs": [
        {
          "output_type": "execute_result",
          "data": {
            "text/plain": [
              "         pendiente   media  mediana   moda  varianza  desviacionEstandar  \\\n",
              "3213512   0.436250  0.0355   -0.200 -0.205  0.255525            0.505495   \n",
              "3213513  -0.051111 -0.1525   -0.170 -0.195  0.002299            0.047945   \n",
              "3213514   1.500769  0.0775   -0.130 -0.205  0.244289            0.494256   \n",
              "3213515   0.392632  0.0425   -0.030 -0.125  0.030149            0.173634   \n",
              "3213516   1.457917  0.1020   -0.105 -0.155  0.218941            0.467911   \n",
              "...            ...     ...      ...    ...       ...                 ...   \n",
              "3613501  -0.074118 -0.1470   -0.155 -0.165  0.000916            0.030265   \n",
              "3613502  -7.320000 -0.0235   -0.105 -0.105  0.046513            0.215668   \n",
              "3613504 -17.419091 -0.0355   -0.110 -0.105  0.040855            0.202126   \n",
              "3613505  -1.982308 -0.0645   -0.055 -0.015  0.003195            0.056522   \n",
              "3613506 -17.480909 -0.0975   -0.145 -0.135  0.037149            0.192740   \n",
              "\n",
              "         kurtosis  asimetria  salida  \n",
              "3213512  2.519250   2.004274       1  \n",
              "3213513  2.638368   1.876600       0  \n",
              "3213514  1.955553   1.881181       1  \n",
              "3213515  2.808633   1.883387       0  \n",
              "3213516  2.109374   1.911117       1  \n",
              "...           ...        ...     ...  \n",
              "3613501 -0.561818   0.271959       0  \n",
              "3613502  3.490325   2.193504       1  \n",
              "3613504  3.347524   2.153607       1  \n",
              "3613505 -0.749270   0.367385       0  \n",
              "3613506  2.699971   1.904857       1  \n",
              "\n",
              "[286716 rows x 9 columns]"
            ],
            "text/html": [
              "\n",
              "  <div id=\"df-51aafa3d-a2a0-449b-b9ba-ecfdecad8821\">\n",
              "    <div class=\"colab-df-container\">\n",
              "      <div>\n",
              "<style scoped>\n",
              "    .dataframe tbody tr th:only-of-type {\n",
              "        vertical-align: middle;\n",
              "    }\n",
              "\n",
              "    .dataframe tbody tr th {\n",
              "        vertical-align: top;\n",
              "    }\n",
              "\n",
              "    .dataframe thead th {\n",
              "        text-align: right;\n",
              "    }\n",
              "</style>\n",
              "<table border=\"1\" class=\"dataframe\">\n",
              "  <thead>\n",
              "    <tr style=\"text-align: right;\">\n",
              "      <th></th>\n",
              "      <th>pendiente</th>\n",
              "      <th>media</th>\n",
              "      <th>mediana</th>\n",
              "      <th>moda</th>\n",
              "      <th>varianza</th>\n",
              "      <th>desviacionEstandar</th>\n",
              "      <th>kurtosis</th>\n",
              "      <th>asimetria</th>\n",
              "      <th>salida</th>\n",
              "    </tr>\n",
              "  </thead>\n",
              "  <tbody>\n",
              "    <tr>\n",
              "      <th>3213512</th>\n",
              "      <td>0.436250</td>\n",
              "      <td>0.0355</td>\n",
              "      <td>-0.200</td>\n",
              "      <td>-0.205</td>\n",
              "      <td>0.255525</td>\n",
              "      <td>0.505495</td>\n",
              "      <td>2.519250</td>\n",
              "      <td>2.004274</td>\n",
              "      <td>1</td>\n",
              "    </tr>\n",
              "    <tr>\n",
              "      <th>3213513</th>\n",
              "      <td>-0.051111</td>\n",
              "      <td>-0.1525</td>\n",
              "      <td>-0.170</td>\n",
              "      <td>-0.195</td>\n",
              "      <td>0.002299</td>\n",
              "      <td>0.047945</td>\n",
              "      <td>2.638368</td>\n",
              "      <td>1.876600</td>\n",
              "      <td>0</td>\n",
              "    </tr>\n",
              "    <tr>\n",
              "      <th>3213514</th>\n",
              "      <td>1.500769</td>\n",
              "      <td>0.0775</td>\n",
              "      <td>-0.130</td>\n",
              "      <td>-0.205</td>\n",
              "      <td>0.244289</td>\n",
              "      <td>0.494256</td>\n",
              "      <td>1.955553</td>\n",
              "      <td>1.881181</td>\n",
              "      <td>1</td>\n",
              "    </tr>\n",
              "    <tr>\n",
              "      <th>3213515</th>\n",
              "      <td>0.392632</td>\n",
              "      <td>0.0425</td>\n",
              "      <td>-0.030</td>\n",
              "      <td>-0.125</td>\n",
              "      <td>0.030149</td>\n",
              "      <td>0.173634</td>\n",
              "      <td>2.808633</td>\n",
              "      <td>1.883387</td>\n",
              "      <td>0</td>\n",
              "    </tr>\n",
              "    <tr>\n",
              "      <th>3213516</th>\n",
              "      <td>1.457917</td>\n",
              "      <td>0.1020</td>\n",
              "      <td>-0.105</td>\n",
              "      <td>-0.155</td>\n",
              "      <td>0.218941</td>\n",
              "      <td>0.467911</td>\n",
              "      <td>2.109374</td>\n",
              "      <td>1.911117</td>\n",
              "      <td>1</td>\n",
              "    </tr>\n",
              "    <tr>\n",
              "      <th>...</th>\n",
              "      <td>...</td>\n",
              "      <td>...</td>\n",
              "      <td>...</td>\n",
              "      <td>...</td>\n",
              "      <td>...</td>\n",
              "      <td>...</td>\n",
              "      <td>...</td>\n",
              "      <td>...</td>\n",
              "      <td>...</td>\n",
              "    </tr>\n",
              "    <tr>\n",
              "      <th>3613501</th>\n",
              "      <td>-0.074118</td>\n",
              "      <td>-0.1470</td>\n",
              "      <td>-0.155</td>\n",
              "      <td>-0.165</td>\n",
              "      <td>0.000916</td>\n",
              "      <td>0.030265</td>\n",
              "      <td>-0.561818</td>\n",
              "      <td>0.271959</td>\n",
              "      <td>0</td>\n",
              "    </tr>\n",
              "    <tr>\n",
              "      <th>3613502</th>\n",
              "      <td>-7.320000</td>\n",
              "      <td>-0.0235</td>\n",
              "      <td>-0.105</td>\n",
              "      <td>-0.105</td>\n",
              "      <td>0.046513</td>\n",
              "      <td>0.215668</td>\n",
              "      <td>3.490325</td>\n",
              "      <td>2.193504</td>\n",
              "      <td>1</td>\n",
              "    </tr>\n",
              "    <tr>\n",
              "      <th>3613504</th>\n",
              "      <td>-17.419091</td>\n",
              "      <td>-0.0355</td>\n",
              "      <td>-0.110</td>\n",
              "      <td>-0.105</td>\n",
              "      <td>0.040855</td>\n",
              "      <td>0.202126</td>\n",
              "      <td>3.347524</td>\n",
              "      <td>2.153607</td>\n",
              "      <td>1</td>\n",
              "    </tr>\n",
              "    <tr>\n",
              "      <th>3613505</th>\n",
              "      <td>-1.982308</td>\n",
              "      <td>-0.0645</td>\n",
              "      <td>-0.055</td>\n",
              "      <td>-0.015</td>\n",
              "      <td>0.003195</td>\n",
              "      <td>0.056522</td>\n",
              "      <td>-0.749270</td>\n",
              "      <td>0.367385</td>\n",
              "      <td>0</td>\n",
              "    </tr>\n",
              "    <tr>\n",
              "      <th>3613506</th>\n",
              "      <td>-17.480909</td>\n",
              "      <td>-0.0975</td>\n",
              "      <td>-0.145</td>\n",
              "      <td>-0.135</td>\n",
              "      <td>0.037149</td>\n",
              "      <td>0.192740</td>\n",
              "      <td>2.699971</td>\n",
              "      <td>1.904857</td>\n",
              "      <td>1</td>\n",
              "    </tr>\n",
              "  </tbody>\n",
              "</table>\n",
              "<p>286716 rows × 9 columns</p>\n",
              "</div>\n",
              "      <button class=\"colab-df-convert\" onclick=\"convertToInteractive('df-51aafa3d-a2a0-449b-b9ba-ecfdecad8821')\"\n",
              "              title=\"Convert this dataframe to an interactive table.\"\n",
              "              style=\"display:none;\">\n",
              "        \n",
              "  <svg xmlns=\"http://www.w3.org/2000/svg\" height=\"24px\"viewBox=\"0 0 24 24\"\n",
              "       width=\"24px\">\n",
              "    <path d=\"M0 0h24v24H0V0z\" fill=\"none\"/>\n",
              "    <path d=\"M18.56 5.44l.94 2.06.94-2.06 2.06-.94-2.06-.94-.94-2.06-.94 2.06-2.06.94zm-11 1L8.5 8.5l.94-2.06 2.06-.94-2.06-.94L8.5 2.5l-.94 2.06-2.06.94zm10 10l.94 2.06.94-2.06 2.06-.94-2.06-.94-.94-2.06-.94 2.06-2.06.94z\"/><path d=\"M17.41 7.96l-1.37-1.37c-.4-.4-.92-.59-1.43-.59-.52 0-1.04.2-1.43.59L10.3 9.45l-7.72 7.72c-.78.78-.78 2.05 0 2.83L4 21.41c.39.39.9.59 1.41.59.51 0 1.02-.2 1.41-.59l7.78-7.78 2.81-2.81c.8-.78.8-2.07 0-2.86zM5.41 20L4 18.59l7.72-7.72 1.47 1.35L5.41 20z\"/>\n",
              "  </svg>\n",
              "      </button>\n",
              "      \n",
              "  <style>\n",
              "    .colab-df-container {\n",
              "      display:flex;\n",
              "      flex-wrap:wrap;\n",
              "      gap: 12px;\n",
              "    }\n",
              "\n",
              "    .colab-df-convert {\n",
              "      background-color: #E8F0FE;\n",
              "      border: none;\n",
              "      border-radius: 50%;\n",
              "      cursor: pointer;\n",
              "      display: none;\n",
              "      fill: #1967D2;\n",
              "      height: 32px;\n",
              "      padding: 0 0 0 0;\n",
              "      width: 32px;\n",
              "    }\n",
              "\n",
              "    .colab-df-convert:hover {\n",
              "      background-color: #E2EBFA;\n",
              "      box-shadow: 0px 1px 2px rgba(60, 64, 67, 0.3), 0px 1px 3px 1px rgba(60, 64, 67, 0.15);\n",
              "      fill: #174EA6;\n",
              "    }\n",
              "\n",
              "    [theme=dark] .colab-df-convert {\n",
              "      background-color: #3B4455;\n",
              "      fill: #D2E3FC;\n",
              "    }\n",
              "\n",
              "    [theme=dark] .colab-df-convert:hover {\n",
              "      background-color: #434B5C;\n",
              "      box-shadow: 0px 1px 3px 1px rgba(0, 0, 0, 0.15);\n",
              "      filter: drop-shadow(0px 1px 2px rgba(0, 0, 0, 0.3));\n",
              "      fill: #FFFFFF;\n",
              "    }\n",
              "  </style>\n",
              "\n",
              "      <script>\n",
              "        const buttonEl =\n",
              "          document.querySelector('#df-51aafa3d-a2a0-449b-b9ba-ecfdecad8821 button.colab-df-convert');\n",
              "        buttonEl.style.display =\n",
              "          google.colab.kernel.accessAllowed ? 'block' : 'none';\n",
              "\n",
              "        async function convertToInteractive(key) {\n",
              "          const element = document.querySelector('#df-51aafa3d-a2a0-449b-b9ba-ecfdecad8821');\n",
              "          const dataTable =\n",
              "            await google.colab.kernel.invokeFunction('convertToInteractive',\n",
              "                                                     [key], {});\n",
              "          if (!dataTable) return;\n",
              "\n",
              "          const docLinkHtml = 'Like what you see? Visit the ' +\n",
              "            '<a target=\"_blank\" href=https://colab.research.google.com/notebooks/data_table.ipynb>data table notebook</a>'\n",
              "            + ' to learn more about interactive tables.';\n",
              "          element.innerHTML = '';\n",
              "          dataTable['output_type'] = 'display_data';\n",
              "          await google.colab.output.renderOutput(dataTable, element);\n",
              "          const docLink = document.createElement('div');\n",
              "          docLink.innerHTML = docLinkHtml;\n",
              "          element.appendChild(docLink);\n",
              "        }\n",
              "      </script>\n",
              "    </div>\n",
              "  </div>\n",
              "  "
            ]
          },
          "metadata": {},
          "execution_count": 134
        }
      ]
    },
    {
      "cell_type": "code",
      "source": [
        "data['salida'].value_counts()"
      ],
      "metadata": {
        "colab": {
          "base_uri": "https://localhost:8080/"
        },
        "id": "Pw4rK047LNpv",
        "outputId": "4e0e2125-b198-40d6-d7b3-a404e0ac58cf"
      },
      "execution_count": 135,
      "outputs": [
        {
          "output_type": "execute_result",
          "data": {
            "text/plain": [
              "1    187855\n",
              "0     98861\n",
              "Name: salida, dtype: int64"
            ]
          },
          "metadata": {},
          "execution_count": 135
        }
      ]
    },
    {
      "cell_type": "code",
      "source": [
        "sns.countplot(data['salida'], palette='husl')"
      ],
      "metadata": {
        "colab": {
          "base_uri": "https://localhost:8080/",
          "height": 351
        },
        "id": "3wwVPEu28T6o",
        "outputId": "fe218045-912e-48aa-9753-8187a2eac795"
      },
      "execution_count": 136,
      "outputs": [
        {
          "output_type": "stream",
          "name": "stderr",
          "text": [
            "/usr/local/lib/python3.7/dist-packages/seaborn/_decorators.py:43: FutureWarning: Pass the following variable as a keyword arg: x. From version 0.12, the only valid positional argument will be `data`, and passing other arguments without an explicit keyword will result in an error or misinterpretation.\n",
            "  FutureWarning\n"
          ]
        },
        {
          "output_type": "execute_result",
          "data": {
            "text/plain": [
              "<matplotlib.axes._subplots.AxesSubplot at 0x7f17c4f4e490>"
            ]
          },
          "metadata": {},
          "execution_count": 136
        },
        {
          "output_type": "display_data",
          "data": {
            "text/plain": [
              "<Figure size 432x288 with 1 Axes>"
            ],
            "image/png": "[encoded data removed]"
          },
          "metadata": {
            "needs_background": "light"
          }
        }
      ]
    },
    {
      "cell_type": "markdown",
      "source": [
        "Al final del proceso de exploracion de información, podemos ver un desbalanceo de clases favorable a la clase 1, lo cual nos puede generar un sesgo al momento de creacion del modelo, para cuestiones practicas de este parcial se decide ignorar este problemas ya que las soluciones son temas que se salen del alcance del mismo parcial."
      ],
      "metadata": {
        "id": "tNnnc65ekR0f"
      }
    },
    {
      "cell_type": "markdown",
      "source": [
        "## Creacion del Modelo\n",
        "---"
      ],
      "metadata": {
        "id": "rXos7qYZk8PQ"
      }
    },
    {
      "cell_type": "markdown",
      "source": [
        "Cumpliendo las indicaciones del parcial se opta por un modelo SVM y con una optimizacion de hiperparamentro que se llevo a cabo con la libreria **RandomizedSearchCV** para sacar el mejor modelo posible."
      ],
      "metadata": {
        "id": "PXHPZWp2lTwz"
      }
    },
    {
      "cell_type": "markdown",
      "source": [
        "### SVM"
      ],
      "metadata": {
        "id": "fhg1hP4KP3oN"
      }
    },
    {
      "cell_type": "markdown",
      "source": [
        "Separar datos en conjunto de entrenamiento y prueba."
      ],
      "metadata": {
        "id": "QpBfoEnRluIW"
      }
    },
    {
      "cell_type": "code",
      "source": [
        "X_2 = data[['pendiente','media','mediana','moda','varianza','desviacionEstandar','kurtosis','asimetria']]\n",
        "\n",
        "y_2 = data['salida']\n",
        "\n",
        "X_train_2, X_test_2, y_train_2, y_test_2 = train_test_split(X_2, y_2, stratify=y_2,\n",
        "                                                    train_size=0.3,\n",
        "                                                    )"
      ],
      "metadata": {
        "id": "pdUBf0UlRfOz"
      },
      "execution_count": 137,
      "outputs": []
    },
    {
      "cell_type": "markdown",
      "source": [
        "Crear el escalar para el modelo"
      ],
      "metadata": {
        "id": "cP3rCZqCl3GX"
      }
    },
    {
      "cell_type": "code",
      "source": [
        "scaler = StandardScaler()\n",
        "scaler.fit(X_train_2)\n",
        "x_train_2 = scaler.transform(X_train_2)"
      ],
      "metadata": {
        "id": "ZO_Y6V9YRW68"
      },
      "execution_count": 138,
      "outputs": []
    },
    {
      "cell_type": "code",
      "source": [
        "SVM = svm.SVC()"
      ],
      "metadata": {
        "id": "Tbd9ftL1TE29"
      },
      "execution_count": 139,
      "outputs": []
    },
    {
      "cell_type": "markdown",
      "source": [
        "Definir parametros a optimizar"
      ],
      "metadata": {
        "id": "_efta1m1mOPR"
      }
    },
    {
      "cell_type": "code",
      "source": [
        "parameters = {\n",
        "    'kernel':['linear', 'poly', 'rbf', 'sigmoid', 'precomputed'],\n",
        "    'decision_function_shape':['ovo', 'ovr']\n",
        "}"
      ],
      "metadata": {
        "id": "0eB1mIaFR8Jd"
      },
      "execution_count": 140,
      "outputs": []
    },
    {
      "cell_type": "code",
      "source": [
        "RDSCV_SVM = RandomizedSearchCV(SVM, \n",
        "                                       parameters,\n",
        "                                       cv=5, \n",
        "                                       n_iter=3)"
      ],
      "metadata": {
        "id": "VQumAH3XTSjl"
      },
      "execution_count": 141,
      "outputs": []
    },
    {
      "cell_type": "code",
      "source": [
        "RDSCV_SVM.fit(X_train_2, y_train_2)"
      ],
      "metadata": {
        "id": "ghgpv8lhb6w6"
      },
      "execution_count": null,
      "outputs": []
    },
    {
      "cell_type": "markdown",
      "source": [
        "Resultados del Modelo"
      ],
      "metadata": {
        "id": "C7iMNja4mZUn"
      }
    },
    {
      "cell_type": "code",
      "source": [
        "print(RDSCV_SVM.best_score_)\n",
        "print(RDSCV_SVM.best_params_)"
      ],
      "metadata": {
        "colab": {
          "base_uri": "https://localhost:8080/"
        },
        "id": "pvNHPL3lVWk1",
        "outputId": "49692f44-26bd-4f1b-8b8f-263c282a23fd"
      },
      "execution_count": null,
      "outputs": [
        {
          "output_type": "stream",
          "name": "stdout",
          "text": [
            "0.9955222158107329\n",
            "{'kernel': 'poly', 'decision_function_shape': 'ovo'}\n"
          ]
        }
      ]
    },
    {
      "cell_type": "code",
      "source": [
        "pred_y_2 = RDSCV_SVM.predict(X_test_2)\n",
        "f1_score(y_test_2, pred_y_2)"
      ],
      "metadata": {
        "colab": {
          "base_uri": "https://localhost:8080/"
        },
        "id": "ZlpwHd-BVoul",
        "outputId": "3e150ea7-89d7-4952-99e8-4ca74e8040b3"
      },
      "execution_count": null,
      "outputs": [
        {
          "output_type": "execute_result",
          "data": {
            "text/plain": [
              "0.996334599801359"
            ]
          },
          "metadata": {},
          "execution_count": 81
        }
      ]
    },
    {
      "cell_type": "markdown",
      "source": [
        "Conclusion:  \n",
        "Podemos ver que logro cumplir con el desempeño objetivo del punto 1 del parcial con una eficacion del 0.996334599801359"
      ],
      "metadata": {
        "id": "uRRNDosWmlDe"
      }
    },
    {
      "cell_type": "markdown",
      "source": [
        "## **Segundo Punto Esquema de Fusion**\n",
        "\n",
        "---\n",
        "\n"
      ],
      "metadata": {
        "id": "FU1z8Rt1PMKh"
      }
    },
    {
      "cell_type": "markdown",
      "source": [
        "Para poder hacer el esquemas de fusion de escogio realizar con modelos mas lo cuales fueron **MLPClassifier()**(NN) y **DecisionTreeClassifier()**(Arboles), este sistemas de fusion se realiza por el metodo de votacion."
      ],
      "metadata": {
        "id": "x1Wb38wJn-N2"
      }
    },
    {
      "cell_type": "markdown",
      "source": [
        "### Redes Neuronales"
      ],
      "metadata": {
        "id": "n1wQDL_ePHcE"
      }
    },
    {
      "cell_type": "code",
      "source": [
        "X = data[['pendiente','media','mediana','moda','varianza','desviacionEstandar','kurtosis','asimetria']]\n",
        "\n",
        "y = data['salida']"
      ],
      "metadata": {
        "id": "z5uYWCP58rKY"
      },
      "execution_count": null,
      "outputs": []
    },
    {
      "cell_type": "code",
      "source": [
        "X_train, X_test, y_train, y_test = train_test_split(X, y, stratify=y,\n",
        "                                                    train_size=0.3,\n",
        "                                                    )"
      ],
      "metadata": {
        "id": "3ur1Kqfb8t3R"
      },
      "execution_count": null,
      "outputs": []
    },
    {
      "cell_type": "code",
      "source": [
        "mlp_gs = MLPClassifier()"
      ],
      "metadata": {
        "id": "f_rJk77A8xAR"
      },
      "execution_count": null,
      "outputs": []
    },
    {
      "cell_type": "code",
      "source": [
        "parameters = {\n",
        "    'hidden_layer_sizes':[(100,),(10,50,10),(20,),(100,100)],\n",
        "    'activation':['logistic', 'tanh', 'relu'],\n",
        "    'learning_rate_init':np.arange(0.001,0.005,0.001),\n",
        "    'tol':np.arange(0.001,0.005,0.001),\n",
        "    'max_iter':np.arange(200,1000,100)\n",
        "}"
      ],
      "metadata": {
        "id": "JloUEtbf8z8h"
      },
      "execution_count": null,
      "outputs": []
    },
    {
      "cell_type": "code",
      "source": [
        "\n",
        "RDSCV= RandomizedSearchCV(mlp_gs, \n",
        "                                       parameters,\n",
        "                                       cv=5, \n",
        "                                       n_iter=3)"
      ],
      "metadata": {
        "id": "SjK5Su6Q87zK"
      },
      "execution_count": null,
      "outputs": []
    },
    {
      "cell_type": "code",
      "source": [
        "RDSCV.fit(X_train, y_train)"
      ],
      "metadata": {
        "colab": {
          "base_uri": "https://localhost:8080/"
        },
        "id": "7BDYIf2E9RD3",
        "outputId": "af838be2-e666-4d02-f811-8ddd7ee462e7"
      },
      "execution_count": null,
      "outputs": [
        {
          "output_type": "execute_result",
          "data": {
            "text/plain": [
              "RandomizedSearchCV(cv=5, estimator=MLPClassifier(), n_iter=3,\n",
              "                   param_distributions={'activation': ['logistic', 'tanh',\n",
              "                                                       'relu'],\n",
              "                                        'hidden_layer_sizes': [(100,),\n",
              "                                                               (10, 50, 10),\n",
              "                                                               (20,),\n",
              "                                                               (100, 100)],\n",
              "                                        'learning_rate_init': array([0.001, 0.002, 0.003, 0.004]),\n",
              "                                        'max_iter': array([200, 300, 400, 500, 600, 700, 800, 900]),\n",
              "                                        'tol': array([0.001, 0.002, 0.003, 0.004])})"
            ]
          },
          "metadata": {},
          "execution_count": 57
        }
      ]
    },
    {
      "cell_type": "code",
      "source": [
        "print(RDSCV.best_score_)\n",
        "print(RDSCV.best_params_)"
      ],
      "metadata": {
        "colab": {
          "base_uri": "https://localhost:8080/"
        },
        "id": "n6CEuk-m-Jwg",
        "outputId": "e1267f78-01d9-48c9-bbd1-d56449c1ec7d"
      },
      "execution_count": null,
      "outputs": [
        {
          "output_type": "stream",
          "name": "stdout",
          "text": [
            "0.995476053087132\n",
            "{'tol': 0.002, 'max_iter': 700, 'learning_rate_init': 0.003, 'hidden_layer_sizes': (10, 50, 10), 'activation': 'tanh'}\n"
          ]
        }
      ]
    },
    {
      "cell_type": "code",
      "source": [
        "pred_y = RDSCV.predict(X_test)\n",
        "f1_score(y_test, pred_y)\n"
      ],
      "metadata": {
        "colab": {
          "base_uri": "https://localhost:8080/"
        },
        "id": "QbN_oVHmIdlX",
        "outputId": "dfbfbcf8-11a8-4d4d-cdf0-a18db18f5109"
      },
      "execution_count": null,
      "outputs": [
        {
          "output_type": "execute_result",
          "data": {
            "text/plain": [
              "0.9964529503570697"
            ]
          },
          "metadata": {},
          "execution_count": 63
        }
      ]
    },
    {
      "cell_type": "markdown",
      "source": [
        "### Árbol de decisión"
      ],
      "metadata": {
        "id": "fG9Qhs-OZIxT"
      }
    },
    {
      "cell_type": "code",
      "source": [
        "X_3 = data[['pendiente','media','mediana','moda','varianza','desviacionEstandar','kurtosis','asimetria']]\n",
        "\n",
        "y_3 = data['salida']"
      ],
      "metadata": {
        "id": "9sskap9waHWv"
      },
      "execution_count": null,
      "outputs": []
    },
    {
      "cell_type": "code",
      "source": [
        "X_train_3, X_test_3, y_train_3, y_test_3 = train_test_split(X_3, y_3, stratify=y_3,\n",
        "                                                    train_size=0.3,\n",
        "                                                    )"
      ],
      "metadata": {
        "id": "TNI_qMMMagbB"
      },
      "execution_count": null,
      "outputs": []
    },
    {
      "cell_type": "code",
      "source": [
        "ARBOL = DecisionTreeClassifier()"
      ],
      "metadata": {
        "id": "GtLa9JqsbA5j"
      },
      "execution_count": null,
      "outputs": []
    },
    {
      "cell_type": "code",
      "source": [
        "parameters = {'max_depth' : (3,5,7,9,10,15,20,25)\n",
        "              , 'criterion' : ('gini', 'entropy')\n",
        "              , 'max_features' : ('auto', 'sqrt', 'log2')\n",
        "              , 'min_samples_split' : (2,4,6)\n",
        "              ,'splitter' : ('best', 'random')\n",
        "             }\n"
      ],
      "metadata": {
        "id": "PS3EGZs0b7Ok"
      },
      "execution_count": null,
      "outputs": []
    },
    {
      "cell_type": "code",
      "source": [
        "RDSCV_ARBOL  = RandomizedSearchCV(ARBOL, \n",
        "                                  param_distributions = parameters, \n",
        "                                  cv = 5, \n",
        "                                  verbose = True)"
      ],
      "metadata": {
        "id": "6jJUUZDScjSL"
      },
      "execution_count": null,
      "outputs": []
    },
    {
      "cell_type": "code",
      "source": [
        "RDSCV_ARBOL.fit(X_train_3,y_train_3)"
      ],
      "metadata": {
        "colab": {
          "base_uri": "https://localhost:8080/"
        },
        "id": "lPyIHZpWc7FT",
        "outputId": "a65473b7-69ed-4b15-dfa9-18002d46324b"
      },
      "execution_count": null,
      "outputs": [
        {
          "output_type": "stream",
          "name": "stdout",
          "text": [
            "Fitting 5 folds for each of 10 candidates, totalling 50 fits\n"
          ]
        },
        {
          "output_type": "execute_result",
          "data": {
            "text/plain": [
              "RandomizedSearchCV(cv=5, estimator=DecisionTreeClassifier(),\n",
              "                   param_distributions={'criterion': ('gini', 'entropy'),\n",
              "                                        'max_depth': (3, 5, 7, 9, 10, 15, 20,\n",
              "                                                      25),\n",
              "                                        'max_features': ('auto', 'sqrt',\n",
              "                                                         'log2'),\n",
              "                                        'min_samples_split': (2, 4, 6),\n",
              "                                        'splitter': ('best', 'random')},\n",
              "                   verbose=True)"
            ]
          },
          "metadata": {},
          "execution_count": 88
        }
      ]
    },
    {
      "cell_type": "code",
      "source": [
        "print(RDSCV_ARBOL.best_score_)\n",
        "print(RDSCV_ARBOL.best_params_)"
      ],
      "metadata": {
        "colab": {
          "base_uri": "https://localhost:8080/"
        },
        "id": "Ik61uFyddIB6",
        "outputId": "540bb07d-86c7-4f76-d8be-e81ec423cd14"
      },
      "execution_count": null,
      "outputs": [
        {
          "output_type": "stream",
          "name": "stdout",
          "text": [
            "0.9950952106174263\n",
            "{'splitter': 'best', 'min_samples_split': 6, 'max_features': 'sqrt', 'max_depth': 9, 'criterion': 'gini'}\n"
          ]
        }
      ]
    },
    {
      "cell_type": "code",
      "source": [
        "pred_y_3 = RDSCV_ARBOL.predict(X_test_3)\n",
        "f1_score(y_test_3, pred_y_3)"
      ],
      "metadata": {
        "colab": {
          "base_uri": "https://localhost:8080/"
        },
        "id": "Ri-ggTS5eA_E",
        "outputId": "5aefc64c-b924-4b5f-e38d-cc42738273d0"
      },
      "execution_count": null,
      "outputs": [
        {
          "output_type": "execute_result",
          "data": {
            "text/plain": [
              "0.9959666301667703"
            ]
          },
          "metadata": {},
          "execution_count": 92
        }
      ]
    },
    {
      "cell_type": "markdown",
      "source": [
        "### Esquema de fusión de detectores"
      ],
      "metadata": {
        "id": "GA4ooc7puWpZ"
      }
    },
    {
      "cell_type": "code",
      "source": [
        "df_fusion = pd.DataFrame()\n",
        "df_fusion['SVM_MODEL'] = pred_y_2\n",
        "df_fusion['ARBOL_MODEL'] = pred_y_3\n",
        "df_fusion['NN_MODEL'] = pred_y\n",
        "df_fusion"
      ],
      "metadata": {
        "colab": {
          "base_uri": "https://localhost:8080/",
          "height": 424
        },
        "id": "e2B-Z4tVuWJB",
        "outputId": "8a1f67a1-628f-4708-a79b-97df7f963e74"
      },
      "execution_count": null,
      "outputs": [
        {
          "output_type": "execute_result",
          "data": {
            "text/plain": [
              "        SVM_MODEL  ARBOL_MODEL  NN_MODEL\n",
              "0               0            1         1\n",
              "1               1            0         1\n",
              "2               0            0         0\n",
              "3               1            1         1\n",
              "4               1            1         0\n",
              "...           ...          ...       ...\n",
              "202180          0            0         1\n",
              "202181          1            1         0\n",
              "202182          0            1         0\n",
              "202183          1            1         0\n",
              "202184          1            1         0\n",
              "\n",
              "[202185 rows x 3 columns]"
            ],
            "text/html": [
              "\n",
              "  <div id=\"df-f4ff8925-2d5d-4b38-86a8-93dd5cf59f91\">\n",
              "    <div class=\"colab-df-container\">\n",
              "      <div>\n",
              "<style scoped>\n",
              "    .dataframe tbody tr th:only-of-type {\n",
              "        vertical-align: middle;\n",
              "    }\n",
              "\n",
              "    .dataframe tbody tr th {\n",
              "        vertical-align: top;\n",
              "    }\n",
              "\n",
              "    .dataframe thead th {\n",
              "        text-align: right;\n",
              "    }\n",
              "</style>\n",
              "<table border=\"1\" class=\"dataframe\">\n",
              "  <thead>\n",
              "    <tr style=\"text-align: right;\">\n",
              "      <th></th>\n",
              "      <th>SVM_MODEL</th>\n",
              "      <th>ARBOL_MODEL</th>\n",
              "      <th>NN_MODEL</th>\n",
              "    </tr>\n",
              "  </thead>\n",
              "  <tbody>\n",
              "    <tr>\n",
              "      <th>0</th>\n",
              "      <td>0</td>\n",
              "      <td>1</td>\n",
              "      <td>1</td>\n",
              "    </tr>\n",
              "    <tr>\n",
              "      <th>1</th>\n",
              "      <td>1</td>\n",
              "      <td>0</td>\n",
              "      <td>1</td>\n",
              "    </tr>\n",
              "    <tr>\n",
              "      <th>2</th>\n",
              "      <td>0</td>\n",
              "      <td>0</td>\n",
              "      <td>0</td>\n",
              "    </tr>\n",
              "    <tr>\n",
              "      <th>3</th>\n",
              "      <td>1</td>\n",
              "      <td>1</td>\n",
              "      <td>1</td>\n",
              "    </tr>\n",
              "    <tr>\n",
              "      <th>4</th>\n",
              "      <td>1</td>\n",
              "      <td>1</td>\n",
              "      <td>0</td>\n",
              "    </tr>\n",
              "    <tr>\n",
              "      <th>...</th>\n",
              "      <td>...</td>\n",
              "      <td>...</td>\n",
              "      <td>...</td>\n",
              "    </tr>\n",
              "    <tr>\n",
              "      <th>202180</th>\n",
              "      <td>0</td>\n",
              "      <td>0</td>\n",
              "      <td>1</td>\n",
              "    </tr>\n",
              "    <tr>\n",
              "      <th>202181</th>\n",
              "      <td>1</td>\n",
              "      <td>1</td>\n",
              "      <td>0</td>\n",
              "    </tr>\n",
              "    <tr>\n",
              "      <th>202182</th>\n",
              "      <td>0</td>\n",
              "      <td>1</td>\n",
              "      <td>0</td>\n",
              "    </tr>\n",
              "    <tr>\n",
              "      <th>202183</th>\n",
              "      <td>1</td>\n",
              "      <td>1</td>\n",
              "      <td>0</td>\n",
              "    </tr>\n",
              "    <tr>\n",
              "      <th>202184</th>\n",
              "      <td>1</td>\n",
              "      <td>1</td>\n",
              "      <td>0</td>\n",
              "    </tr>\n",
              "  </tbody>\n",
              "</table>\n",
              "<p>202185 rows × 3 columns</p>\n",
              "</div>\n",
              "      <button class=\"colab-df-convert\" onclick=\"convertToInteractive('df-f4ff8925-2d5d-4b38-86a8-93dd5cf59f91')\"\n",
              "              title=\"Convert this dataframe to an interactive table.\"\n",
              "              style=\"display:none;\">\n",
              "        \n",
              "  <svg xmlns=\"http://www.w3.org/2000/svg\" height=\"24px\"viewBox=\"0 0 24 24\"\n",
              "       width=\"24px\">\n",
              "    <path d=\"M0 0h24v24H0V0z\" fill=\"none\"/>\n",
              "    <path d=\"M18.56 5.44l.94 2.06.94-2.06 2.06-.94-2.06-.94-.94-2.06-.94 2.06-2.06.94zm-11 1L8.5 8.5l.94-2.06 2.06-.94-2.06-.94L8.5 2.5l-.94 2.06-2.06.94zm10 10l.94 2.06.94-2.06 2.06-.94-2.06-.94-.94-2.06-.94 2.06-2.06.94z\"/><path d=\"M17.41 7.96l-1.37-1.37c-.4-.4-.92-.59-1.43-.59-.52 0-1.04.2-1.43.59L10.3 9.45l-7.72 7.72c-.78.78-.78 2.05 0 2.83L4 21.41c.39.39.9.59 1.41.59.51 0 1.02-.2 1.41-.59l7.78-7.78 2.81-2.81c.8-.78.8-2.07 0-2.86zM5.41 20L4 18.59l7.72-7.72 1.47 1.35L5.41 20z\"/>\n",
              "  </svg>\n",
              "      </button>\n",
              "      \n",
              "  <style>\n",
              "    .colab-df-container {\n",
              "      display:flex;\n",
              "      flex-wrap:wrap;\n",
              "      gap: 12px;\n",
              "    }\n",
              "\n",
              "    .colab-df-convert {\n",
              "      background-color: #E8F0FE;\n",
              "      border: none;\n",
              "      border-radius: 50%;\n",
              "      cursor: pointer;\n",
              "      display: none;\n",
              "      fill: #1967D2;\n",
              "      height: 32px;\n",
              "      padding: 0 0 0 0;\n",
              "      width: 32px;\n",
              "    }\n",
              "\n",
              "    .colab-df-convert:hover {\n",
              "      background-color: #E2EBFA;\n",
              "      box-shadow: 0px 1px 2px rgba(60, 64, 67, 0.3), 0px 1px 3px 1px rgba(60, 64, 67, 0.15);\n",
              "      fill: #174EA6;\n",
              "    }\n",
              "\n",
              "    [theme=dark] .colab-df-convert {\n",
              "      background-color: #3B4455;\n",
              "      fill: #D2E3FC;\n",
              "    }\n",
              "\n",
              "    [theme=dark] .colab-df-convert:hover {\n",
              "      background-color: #434B5C;\n",
              "      box-shadow: 0px 1px 3px 1px rgba(0, 0, 0, 0.15);\n",
              "      filter: drop-shadow(0px 1px 2px rgba(0, 0, 0, 0.3));\n",
              "      fill: #FFFFFF;\n",
              "    }\n",
              "  </style>\n",
              "\n",
              "      <script>\n",
              "        const buttonEl =\n",
              "          document.querySelector('#df-f4ff8925-2d5d-4b38-86a8-93dd5cf59f91 button.colab-df-convert');\n",
              "        buttonEl.style.display =\n",
              "          google.colab.kernel.accessAllowed ? 'block' : 'none';\n",
              "\n",
              "        async function convertToInteractive(key) {\n",
              "          const element = document.querySelector('#df-f4ff8925-2d5d-4b38-86a8-93dd5cf59f91');\n",
              "          const dataTable =\n",
              "            await google.colab.kernel.invokeFunction('convertToInteractive',\n",
              "                                                     [key], {});\n",
              "          if (!dataTable) return;\n",
              "\n",
              "          const docLinkHtml = 'Like what you see? Visit the ' +\n",
              "            '<a target=\"_blank\" href=https://colab.research.google.com/notebooks/data_table.ipynb>data table notebook</a>'\n",
              "            + ' to learn more about interactive tables.';\n",
              "          element.innerHTML = '';\n",
              "          dataTable['output_type'] = 'display_data';\n",
              "          await google.colab.output.renderOutput(dataTable, element);\n",
              "          const docLink = document.createElement('div');\n",
              "          docLink.innerHTML = docLinkHtml;\n",
              "          element.appendChild(docLink);\n",
              "        }\n",
              "      </script>\n",
              "    </div>\n",
              "  </div>\n",
              "  "
            ]
          },
          "metadata": {},
          "execution_count": 93
        }
      ]
    },
    {
      "cell_type": "code",
      "source": [
        "from scipy.optimize import RootResults\n",
        "salida_fusion = []\n",
        "for index, row in df_fusion.iterrows(): \n",
        "    lista_vot = [row['SVM_MODEL'],row['ARBOL_MODEL'],row['NN_MODEL']]\n",
        "    result = mode(lista_vot)\n",
        "    salida_fusion.append(result)\n",
        "    "
      ],
      "metadata": {
        "id": "PbFnh3fR9Bv_"
      },
      "execution_count": null,
      "outputs": []
    },
    {
      "cell_type": "code",
      "source": [
        "df_fusion['Salida'] = salida_fusion\n",
        "df_fusion"
      ],
      "metadata": {
        "colab": {
          "base_uri": "https://localhost:8080/",
          "height": 424
        },
        "id": "lMU-GkRz9_jK",
        "outputId": "087fc29c-9fc4-4eb8-fb26-86d949562f22"
      },
      "execution_count": null,
      "outputs": [
        {
          "output_type": "execute_result",
          "data": {
            "text/plain": [
              "        SVM_MODEL  ARBOL_MODEL  NN_MODEL  Salida\n",
              "0               0            1         1       1\n",
              "1               1            0         1       1\n",
              "2               0            0         0       0\n",
              "3               1            1         1       1\n",
              "4               1            1         0       1\n",
              "...           ...          ...       ...     ...\n",
              "202180          0            0         1       0\n",
              "202181          1            1         0       1\n",
              "202182          0            1         0       0\n",
              "202183          1            1         0       1\n",
              "202184          1            1         0       1\n",
              "\n",
              "[202185 rows x 4 columns]"
            ],
            "text/html": [
              "\n",
              "  <div id=\"df-b94eba80-cc34-4ba0-81ef-1f46e21757dd\">\n",
              "    <div class=\"colab-df-container\">\n",
              "      <div>\n",
              "<style scoped>\n",
              "    .dataframe tbody tr th:only-of-type {\n",
              "        vertical-align: middle;\n",
              "    }\n",
              "\n",
              "    .dataframe tbody tr th {\n",
              "        vertical-align: top;\n",
              "    }\n",
              "\n",
              "    .dataframe thead th {\n",
              "        text-align: right;\n",
              "    }\n",
              "</style>\n",
              "<table border=\"1\" class=\"dataframe\">\n",
              "  <thead>\n",
              "    <tr style=\"text-align: right;\">\n",
              "      <th></th>\n",
              "      <th>SVM_MODEL</th>\n",
              "      <th>ARBOL_MODEL</th>\n",
              "      <th>NN_MODEL</th>\n",
              "      <th>Salida</th>\n",
              "    </tr>\n",
              "  </thead>\n",
              "  <tbody>\n",
              "    <tr>\n",
              "      <th>0</th>\n",
              "      <td>0</td>\n",
              "      <td>1</td>\n",
              "      <td>1</td>\n",
              "      <td>1</td>\n",
              "    </tr>\n",
              "    <tr>\n",
              "      <th>1</th>\n",
              "      <td>1</td>\n",
              "      <td>0</td>\n",
              "      <td>1</td>\n",
              "      <td>1</td>\n",
              "    </tr>\n",
              "    <tr>\n",
              "      <th>2</th>\n",
              "      <td>0</td>\n",
              "      <td>0</td>\n",
              "      <td>0</td>\n",
              "      <td>0</td>\n",
              "    </tr>\n",
              "    <tr>\n",
              "      <th>3</th>\n",
              "      <td>1</td>\n",
              "      <td>1</td>\n",
              "      <td>1</td>\n",
              "      <td>1</td>\n",
              "    </tr>\n",
              "    <tr>\n",
              "      <th>4</th>\n",
              "      <td>1</td>\n",
              "      <td>1</td>\n",
              "      <td>0</td>\n",
              "      <td>1</td>\n",
              "    </tr>\n",
              "    <tr>\n",
              "      <th>...</th>\n",
              "      <td>...</td>\n",
              "      <td>...</td>\n",
              "      <td>...</td>\n",
              "      <td>...</td>\n",
              "    </tr>\n",
              "    <tr>\n",
              "      <th>202180</th>\n",
              "      <td>0</td>\n",
              "      <td>0</td>\n",
              "      <td>1</td>\n",
              "      <td>0</td>\n",
              "    </tr>\n",
              "    <tr>\n",
              "      <th>202181</th>\n",
              "      <td>1</td>\n",
              "      <td>1</td>\n",
              "      <td>0</td>\n",
              "      <td>1</td>\n",
              "    </tr>\n",
              "    <tr>\n",
              "      <th>202182</th>\n",
              "      <td>0</td>\n",
              "      <td>1</td>\n",
              "      <td>0</td>\n",
              "      <td>0</td>\n",
              "    </tr>\n",
              "    <tr>\n",
              "      <th>202183</th>\n",
              "      <td>1</td>\n",
              "      <td>1</td>\n",
              "      <td>0</td>\n",
              "      <td>1</td>\n",
              "    </tr>\n",
              "    <tr>\n",
              "      <th>202184</th>\n",
              "      <td>1</td>\n",
              "      <td>1</td>\n",
              "      <td>0</td>\n",
              "      <td>1</td>\n",
              "    </tr>\n",
              "  </tbody>\n",
              "</table>\n",
              "<p>202185 rows × 4 columns</p>\n",
              "</div>\n",
              "      <button class=\"colab-df-convert\" onclick=\"convertToInteractive('df-b94eba80-cc34-4ba0-81ef-1f46e21757dd')\"\n",
              "              title=\"Convert this dataframe to an interactive table.\"\n",
              "              style=\"display:none;\">\n",
              "        \n",
              "  <svg xmlns=\"http://www.w3.org/2000/svg\" height=\"24px\"viewBox=\"0 0 24 24\"\n",
              "       width=\"24px\">\n",
              "    <path d=\"M0 0h24v24H0V0z\" fill=\"none\"/>\n",
              "    <path d=\"M18.56 5.44l.94 2.06.94-2.06 2.06-.94-2.06-.94-.94-2.06-.94 2.06-2.06.94zm-11 1L8.5 8.5l.94-2.06 2.06-.94-2.06-.94L8.5 2.5l-.94 2.06-2.06.94zm10 10l.94 2.06.94-2.06 2.06-.94-2.06-.94-.94-2.06-.94 2.06-2.06.94z\"/><path d=\"M17.41 7.96l-1.37-1.37c-.4-.4-.92-.59-1.43-.59-.52 0-1.04.2-1.43.59L10.3 9.45l-7.72 7.72c-.78.78-.78 2.05 0 2.83L4 21.41c.39.39.9.59 1.41.59.51 0 1.02-.2 1.41-.59l7.78-7.78 2.81-2.81c.8-.78.8-2.07 0-2.86zM5.41 20L4 18.59l7.72-7.72 1.47 1.35L5.41 20z\"/>\n",
              "  </svg>\n",
              "      </button>\n",
              "      \n",
              "  <style>\n",
              "    .colab-df-container {\n",
              "      display:flex;\n",
              "      flex-wrap:wrap;\n",
              "      gap: 12px;\n",
              "    }\n",
              "\n",
              "    .colab-df-convert {\n",
              "      background-color: #E8F0FE;\n",
              "      border: none;\n",
              "      border-radius: 50%;\n",
              "      cursor: pointer;\n",
              "      display: none;\n",
              "      fill: #1967D2;\n",
              "      height: 32px;\n",
              "      padding: 0 0 0 0;\n",
              "      width: 32px;\n",
              "    }\n",
              "\n",
              "    .colab-df-convert:hover {\n",
              "      background-color: #E2EBFA;\n",
              "      box-shadow: 0px 1px 2px rgba(60, 64, 67, 0.3), 0px 1px 3px 1px rgba(60, 64, 67, 0.15);\n",
              "      fill: #174EA6;\n",
              "    }\n",
              "\n",
              "    [theme=dark] .colab-df-convert {\n",
              "      background-color: #3B4455;\n",
              "      fill: #D2E3FC;\n",
              "    }\n",
              "\n",
              "    [theme=dark] .colab-df-convert:hover {\n",
              "      background-color: #434B5C;\n",
              "      box-shadow: 0px 1px 3px 1px rgba(0, 0, 0, 0.15);\n",
              "      filter: drop-shadow(0px 1px 2px rgba(0, 0, 0, 0.3));\n",
              "      fill: #FFFFFF;\n",
              "    }\n",
              "  </style>\n",
              "\n",
              "      <script>\n",
              "        const buttonEl =\n",
              "          document.querySelector('#df-b94eba80-cc34-4ba0-81ef-1f46e21757dd button.colab-df-convert');\n",
              "        buttonEl.style.display =\n",
              "          google.colab.kernel.accessAllowed ? 'block' : 'none';\n",
              "\n",
              "        async function convertToInteractive(key) {\n",
              "          const element = document.querySelector('#df-b94eba80-cc34-4ba0-81ef-1f46e21757dd');\n",
              "          const dataTable =\n",
              "            await google.colab.kernel.invokeFunction('convertToInteractive',\n",
              "                                                     [key], {});\n",
              "          if (!dataTable) return;\n",
              "\n",
              "          const docLinkHtml = 'Like what you see? Visit the ' +\n",
              "            '<a target=\"_blank\" href=https://colab.research.google.com/notebooks/data_table.ipynb>data table notebook</a>'\n",
              "            + ' to learn more about interactive tables.';\n",
              "          element.innerHTML = '';\n",
              "          dataTable['output_type'] = 'display_data';\n",
              "          await google.colab.output.renderOutput(dataTable, element);\n",
              "          const docLink = document.createElement('div');\n",
              "          docLink.innerHTML = docLinkHtml;\n",
              "          element.appendChild(docLink);\n",
              "        }\n",
              "      </script>\n",
              "    </div>\n",
              "  </div>\n",
              "  "
            ]
          },
          "metadata": {},
          "execution_count": 99
        }
      ]
    },
    {
      "cell_type": "code",
      "source": [
        "f1_score(y_test_3, salida_fusion)"
      ],
      "metadata": {
        "colab": {
          "base_uri": "https://localhost:8080/"
        },
        "id": "iTEDhHZv-Yde",
        "outputId": "43639cfa-8eec-48b5-81f5-32260429f970"
      },
      "execution_count": null,
      "outputs": [
        {
          "output_type": "execute_result",
          "data": {
            "text/plain": [
              "0.8209301713077406"
            ]
          },
          "metadata": {},
          "execution_count": 100
        }
      ]
    },
    {
      "cell_type": "code",
      "source": [
        "conf_matrix = confusion_matrix(y_test_3, salida_fusion)\n",
        "plt.figure(figsize=(12, 12))\n",
        "sns.heatmap(conf_matrix, annot=True, fmt=\"d\");\n",
        "plt.title(\"Confusion matrix\")\n",
        "plt.ylabel('True class')\n",
        "plt.xlabel('Predicted class')\n",
        "plt.show()\n",
        "print (classification_report(y_test_3, salida_fusion))"
      ],
      "metadata": {
        "colab": {
          "base_uri": "https://localhost:8080/",
          "height": 886
        },
        "id": "M-fNjiWm_5G2",
        "outputId": "69e731f0-1af0-435e-edb4-41067b00b2bf"
      },
      "execution_count": null,
      "outputs": [
        {
          "output_type": "display_data",
          "data": {
            "text/plain": [
              "<Figure size 864x864 with 2 Axes>"
            ],
            "image/png": "[encoded data removed]"
          },
          "metadata": {
            "needs_background": "light"
          }
        },
        {
          "output_type": "stream",
          "name": "stdout",
          "text": [
            "              precision    recall  f1-score   support\n",
            "\n",
            "           0       0.72      0.61      0.66     74972\n",
            "           1       0.79      0.86      0.82    127213\n",
            "\n",
            "    accuracy                           0.76    202185\n",
            "   macro avg       0.75      0.73      0.74    202185\n",
            "weighted avg       0.76      0.76      0.76    202185\n",
            "\n"
          ]
        }
      ]
    },
    {
      "cell_type": "code",
      "source": [
        "f1_score(y_test_2, salida_fusion)"
      ],
      "metadata": {
        "colab": {
          "base_uri": "https://localhost:8080/"
        },
        "id": "y2S-WmsS-18I",
        "outputId": "f72a209e-979f-4ff9-d8ca-5c3a9571c8b7"
      },
      "execution_count": null,
      "outputs": [
        {
          "output_type": "execute_result",
          "data": {
            "text/plain": [
              "0.8199895401818804"
            ]
          },
          "metadata": {},
          "execution_count": 101
        }
      ]
    },
    {
      "cell_type": "code",
      "source": [
        "conf_matrix = confusion_matrix(y_test_2, salida_fusion)\n",
        "plt.figure(figsize=(12, 12))\n",
        "sns.heatmap(conf_matrix, annot=True, fmt=\"d\");\n",
        "plt.title(\"Confusion matrix\")\n",
        "plt.ylabel('True class')\n",
        "plt.xlabel('Predicted class')\n",
        "plt.show()\n",
        "print (classification_report(y_test_2, salida_fusion))"
      ],
      "metadata": {
        "colab": {
          "base_uri": "https://localhost:8080/",
          "height": 886
        },
        "id": "jKftmRoRAOpe",
        "outputId": "e249e81e-2735-4921-af30-559aeadb6551"
      },
      "execution_count": null,
      "outputs": [
        {
          "output_type": "display_data",
          "data": {
            "text/plain": [
              "<Figure size 864x864 with 2 Axes>"
            ],
            "image/png": "[encoded data removed]"
          },
          "metadata": {
            "needs_background": "light"
          }
        },
        {
          "output_type": "stream",
          "name": "stdout",
          "text": [
            "              precision    recall  f1-score   support\n",
            "\n",
            "           0       0.71      0.61      0.65     74972\n",
            "           1       0.79      0.86      0.82    127213\n",
            "\n",
            "    accuracy                           0.76    202185\n",
            "   macro avg       0.75      0.73      0.74    202185\n",
            "weighted avg       0.76      0.76      0.76    202185\n",
            "\n"
          ]
        }
      ]
    },
    {
      "cell_type": "code",
      "source": [
        "f1_score(y_test, salida_fusion)"
      ],
      "metadata": {
        "colab": {
          "base_uri": "https://localhost:8080/"
        },
        "id": "40StPSRf-5Tm",
        "outputId": "1769fcc4-9159-47fd-932a-8f138f05e59a"
      },
      "execution_count": null,
      "outputs": [
        {
          "output_type": "execute_result",
          "data": {
            "text/plain": [
              "0.8205614439064034"
            ]
          },
          "metadata": {},
          "execution_count": 102
        }
      ]
    },
    {
      "cell_type": "code",
      "source": [
        "conf_matrix = confusion_matrix(y_test, salida_fusion)\n",
        "plt.figure(figsize=(12, 12))\n",
        "sns.heatmap(conf_matrix, annot=True, fmt=\"d\");\n",
        "plt.title(\"Confusion matrix\")\n",
        "plt.ylabel('True class')\n",
        "plt.xlabel('Predicted class')\n",
        "plt.show()\n",
        "print (classification_report(y_test, salida_fusion))"
      ],
      "metadata": {
        "colab": {
          "base_uri": "https://localhost:8080/",
          "height": 886
        },
        "id": "6xzFp4zUAUQ0",
        "outputId": "c2579876-14f7-4fc8-cc92-c55432da4b74"
      },
      "execution_count": null,
      "outputs": [
        {
          "output_type": "display_data",
          "data": {
            "text/plain": [
              "<Figure size 864x864 with 2 Axes>"
            ],
            "image/png": "[encoded data removed]"
          },
          "metadata": {
            "needs_background": "light"
          }
        },
        {
          "output_type": "stream",
          "name": "stdout",
          "text": [
            "              precision    recall  f1-score   support\n",
            "\n",
            "           0       0.71      0.61      0.66     74972\n",
            "           1       0.79      0.86      0.82    127213\n",
            "\n",
            "    accuracy                           0.76    202185\n",
            "   macro avg       0.75      0.73      0.74    202185\n",
            "weighted avg       0.76      0.76      0.76    202185\n",
            "\n"
          ]
        }
      ]
    },
    {
      "cell_type": "markdown",
      "source": [
        "Conclusion:\n",
        "\n",
        "Como podemos ver apoyados con solo con el score, si no con la matriz de confusion podemos ver la razon por la cual nuestro modelo en vez de mejorar a empeorado ya que el valor de los **Falsos Positivos** aumento considerablemente, lo que nos estaria generando errores de clasificación\n"
      ],
      "metadata": {
        "id": "amun5lt1qS-N"
      }
    },
    {
      "cell_type": "markdown",
      "source": [
        "## **Tercer Punto**"
      ],
      "metadata": {
        "id": "4AqK1LqFGwzA"
      }
    },
    {
      "cell_type": "markdown",
      "source": [
        "## Air Quality Prediction UCI"
      ],
      "metadata": {
        "id": "5kJMQrR6MNDY"
      }
    },
    {
      "cell_type": "markdown",
      "source": [
        "## Informacion del DataSet:\n",
        "El conjunto de datos contiene 9358 instancias de respuestas promediadas por hora de un conjunto de 5 sensores químicos de óxido metálico integrados en un dispositivo multisensor químico de calidad del aire. El dispositivo estaba situado sobre el terreno en una zona significativamente contaminada, a nivel de carretera, dentro de una ciudad italiana. Los datos se registraron desde marzo de 2004 hasta febrero de 2005 (un año), lo que representa el mayor registro disponible de respuestas de dispositivos de sensores químicos de calidad del aire desplegados sobre el terreno. Las concentraciones medias horarias de CO, hidrocarburos no metálicos, benceno, óxidos de nitrógeno (NOx) y dióxido de nitrógeno (NO2) fueron proporcionadas por un analizador de referencia certificado. Existen evidencias de sensibilidades cruzadas, así como de derivas del concepto y del sensor, como se describe en De Vito et al., Sens. And Act. B, Vol. 129,2,2008 (cita requerida) afectando eventualmente a la capacidad de estimación de la concentración de los sensores. Los valores perdidos se etiquetan con el valor -200.\n",
        "Este conjunto de datos puede utilizarse exclusivamente con fines de investigación. Los fines comerciales están totalmente excluidos.\n",
        "\n",
        "### Información de atributos:\n",
        "\n",
        "0 Fecha (DD/MM/AAAA)  \n",
        "1 Hora (HH.MM.SS)  \n",
        "2 Concentración media horaria real de CO en mg/m^3 (analizador de referencia)  \n",
        "3 Respuesta media horaria del sensor PT08.S1 (óxido de estaño) (nominalmente orientado al CO)  \n",
        "4 Promedio horario real de la concentración global de hidrocarburos no metánicos en microg/m^3 (analizador de referencia)  \n",
        "5 Concentración de benceno de media horaria real en microg/m^3 (analizador de referencia)  \n",
        "6 Respuesta media horaria del sensor PT08.S2 (titanio) (objetivo nominal de NMHC)  \n",
        "7 Concentración de NOx de media horaria real en ppb (analizador de referencia)  \n",
        "8 PT08.S3 (óxido de tungsteno) respuesta media horaria del sensor (objetivo nominal de NOx)  \n",
        "9 Concentración de NO2 real media horaria en microg/m^3 (analizador de referencia)  \n",
        "10 PT08.S4 (óxido de tungsteno) respuesta media horaria del sensor (objetivo nominal de NO2)  \n",
        "11 PT08.S5 (óxido de indio) respuesta media horaria del sensor (objetivo nominal de O3)  \n",
        "12 Temperatura en Â°C  \n",
        "13 Humedad relativa (%)  \n",
        "14 Humedad absoluta AH  \n"
      ],
      "metadata": {
        "id": "kp66U8FZeLHb"
      }
    },
    {
      "cell_type": "code",
      "source": [
        "data_air = pd.read_excel('AirQualityUCI.xlsx')\n",
        "data_air"
      ],
      "metadata": {
        "colab": {
          "base_uri": "https://localhost:8080/",
          "height": 661
        },
        "id": "p4ix7TUkMLtC",
        "outputId": "590f14df-49a3-47f0-c01b-fa1911c1a020"
      },
      "execution_count": null,
      "outputs": [
        {
          "output_type": "execute_result",
          "data": {
            "text/plain": [
              "           Date      Time  CO(GT)  PT08.S1(CO)  NMHC(GT)   C6H6(GT)  \\\n",
              "0    2004-03-10  18:00:00     2.6      1360.00       150  11.881723   \n",
              "1    2004-03-10  19:00:00     2.0      1292.25       112   9.397165   \n",
              "2    2004-03-10  20:00:00     2.2      1402.00        88   8.997817   \n",
              "3    2004-03-10  21:00:00     2.2      1375.50        80   9.228796   \n",
              "4    2004-03-10  22:00:00     1.6      1272.25        51   6.518224   \n",
              "...         ...       ...     ...          ...       ...        ...   \n",
              "9352 2005-04-04  10:00:00     3.1      1314.25      -200  13.529605   \n",
              "9353 2005-04-04  11:00:00     2.4      1162.50      -200  11.355157   \n",
              "9354 2005-04-04  12:00:00     2.4      1142.00      -200  12.374538   \n",
              "9355 2005-04-04  13:00:00     2.1      1002.50      -200   9.547187   \n",
              "9356 2005-04-04  14:00:00     2.2      1070.75      -200  11.932060   \n",
              "\n",
              "      PT08.S2(NMHC)  NOx(GT)  PT08.S3(NOx)  NO2(GT)  PT08.S4(NO2)  \\\n",
              "0           1045.50    166.0       1056.25    113.0       1692.00   \n",
              "1            954.75    103.0       1173.75     92.0       1558.75   \n",
              "2            939.25    131.0       1140.00    114.0       1554.50   \n",
              "3            948.25    172.0       1092.00    122.0       1583.75   \n",
              "4            835.50    131.0       1205.00    116.0       1490.00   \n",
              "...             ...      ...           ...      ...           ...   \n",
              "9352        1101.25    471.7        538.50    189.8       1374.25   \n",
              "9353        1027.00    353.3        603.75    179.2       1263.50   \n",
              "9354        1062.50    293.0        603.25    174.7       1240.75   \n",
              "9355         960.50    234.5        701.50    155.7       1041.00   \n",
              "9356        1047.25    265.2        654.00    167.7       1128.50   \n",
              "\n",
              "      PT08.S5(O3)       T         RH        AH  \n",
              "0         1267.50  13.600  48.875001  0.757754  \n",
              "1          972.25  13.300  47.700000  0.725487  \n",
              "2         1074.00  11.900  53.975000  0.750239  \n",
              "3         1203.25  11.000  60.000000  0.786713  \n",
              "4         1110.00  11.150  59.575001  0.788794  \n",
              "...           ...     ...        ...       ...  \n",
              "9352      1728.50  21.850  29.250000  0.756824  \n",
              "9353      1269.00  24.325  23.725000  0.711864  \n",
              "9354      1092.00  26.900  18.350000  0.640649  \n",
              "9355       769.75  28.325  13.550000  0.513866  \n",
              "9356       816.00  28.500  13.125000  0.502804  \n",
              "\n",
              "[9357 rows x 15 columns]"
            ],
            "text/html": [
              "\n",
              "  <div id=\"df-6becea04-147a-4387-963f-dc0f62f55c46\">\n",
              "    <div class=\"colab-df-container\">\n",
              "      <div>\n",
              "<style scoped>\n",
              "    .dataframe tbody tr th:only-of-type {\n",
              "        vertical-align: middle;\n",
              "    }\n",
              "\n",
              "    .dataframe tbody tr th {\n",
              "        vertical-align: top;\n",
              "    }\n",
              "\n",
              "    .dataframe thead th {\n",
              "        text-align: right;\n",
              "    }\n",
              "</style>\n",
              "<table border=\"1\" class=\"dataframe\">\n",
              "  <thead>\n",
              "    <tr style=\"text-align: right;\">\n",
              "      <th></th>\n",
              "      <th>Date</th>\n",
              "      <th>Time</th>\n",
              "      <th>CO(GT)</th>\n",
              "      <th>PT08.S1(CO)</th>\n",
              "      <th>NMHC(GT)</th>\n",
              "      <th>C6H6(GT)</th>\n",
              "      <th>PT08.S2(NMHC)</th>\n",
              "      <th>NOx(GT)</th>\n",
              "      <th>PT08.S3(NOx)</th>\n",
              "      <th>NO2(GT)</th>\n",
              "      <th>PT08.S4(NO2)</th>\n",
              "      <th>PT08.S5(O3)</th>\n",
              "      <th>T</th>\n",
              "      <th>RH</th>\n",
              "      <th>AH</th>\n",
              "    </tr>\n",
              "  </thead>\n",
              "  <tbody>\n",
              "    <tr>\n",
              "      <th>0</th>\n",
              "      <td>2004-03-10</td>\n",
              "      <td>18:00:00</td>\n",
              "      <td>2.6</td>\n",
              "      <td>1360.00</td>\n",
              "      <td>150</td>\n",
              "      <td>11.881723</td>\n",
              "      <td>1045.50</td>\n",
              "      <td>166.0</td>\n",
              "      <td>1056.25</td>\n",
              "      <td>113.0</td>\n",
              "      <td>1692.00</td>\n",
              "      <td>1267.50</td>\n",
              "      <td>13.600</td>\n",
              "      <td>48.875001</td>\n",
              "      <td>0.757754</td>\n",
              "    </tr>\n",
              "    <tr>\n",
              "      <th>1</th>\n",
              "      <td>2004-03-10</td>\n",
              "      <td>19:00:00</td>\n",
              "      <td>2.0</td>\n",
              "      <td>1292.25</td>\n",
              "      <td>112</td>\n",
              "      <td>9.397165</td>\n",
              "      <td>954.75</td>\n",
              "      <td>103.0</td>\n",
              "      <td>1173.75</td>\n",
              "      <td>92.0</td>\n",
              "      <td>1558.75</td>\n",
              "      <td>972.25</td>\n",
              "      <td>13.300</td>\n",
              "      <td>47.700000</td>\n",
              "      <td>0.725487</td>\n",
              "    </tr>\n",
              "    <tr>\n",
              "      <th>2</th>\n",
              "      <td>2004-03-10</td>\n",
              "      <td>20:00:00</td>\n",
              "      <td>2.2</td>\n",
              "      <td>1402.00</td>\n",
              "      <td>88</td>\n",
              "      <td>8.997817</td>\n",
              "      <td>939.25</td>\n",
              "      <td>131.0</td>\n",
              "      <td>1140.00</td>\n",
              "      <td>114.0</td>\n",
              "      <td>1554.50</td>\n",
              "      <td>1074.00</td>\n",
              "      <td>11.900</td>\n",
              "      <td>53.975000</td>\n",
              "      <td>0.750239</td>\n",
              "    </tr>\n",
              "    <tr>\n",
              "      <th>3</th>\n",
              "      <td>2004-03-10</td>\n",
              "      <td>21:00:00</td>\n",
              "      <td>2.2</td>\n",
              "      <td>1375.50</td>\n",
              "      <td>80</td>\n",
              "      <td>9.228796</td>\n",
              "      <td>948.25</td>\n",
              "      <td>172.0</td>\n",
              "      <td>1092.00</td>\n",
              "      <td>122.0</td>\n",
              "      <td>1583.75</td>\n",
              "      <td>1203.25</td>\n",
              "      <td>11.000</td>\n",
              "      <td>60.000000</td>\n",
              "      <td>0.786713</td>\n",
              "    </tr>\n",
              "    <tr>\n",
              "      <th>4</th>\n",
              "      <td>2004-03-10</td>\n",
              "      <td>22:00:00</td>\n",
              "      <td>1.6</td>\n",
              "      <td>1272.25</td>\n",
              "      <td>51</td>\n",
              "      <td>6.518224</td>\n",
              "      <td>835.50</td>\n",
              "      <td>131.0</td>\n",
              "      <td>1205.00</td>\n",
              "      <td>116.0</td>\n",
              "      <td>1490.00</td>\n",
              "      <td>1110.00</td>\n",
              "      <td>11.150</td>\n",
              "      <td>59.575001</td>\n",
              "      <td>0.788794</td>\n",
              "    </tr>\n",
              "    <tr>\n",
              "      <th>...</th>\n",
              "      <td>...</td>\n",
              "      <td>...</td>\n",
              "      <td>...</td>\n",
              "      <td>...</td>\n",
              "      <td>...</td>\n",
              "      <td>...</td>\n",
              "      <td>...</td>\n",
              "      <td>...</td>\n",
              "      <td>...</td>\n",
              "      <td>...</td>\n",
              "      <td>...</td>\n",
              "      <td>...</td>\n",
              "      <td>...</td>\n",
              "      <td>...</td>\n",
              "      <td>...</td>\n",
              "    </tr>\n",
              "    <tr>\n",
              "      <th>9352</th>\n",
              "      <td>2005-04-04</td>\n",
              "      <td>10:00:00</td>\n",
              "      <td>3.1</td>\n",
              "      <td>1314.25</td>\n",
              "      <td>-200</td>\n",
              "      <td>13.529605</td>\n",
              "      <td>1101.25</td>\n",
              "      <td>471.7</td>\n",
              "      <td>538.50</td>\n",
              "      <td>189.8</td>\n",
              "      <td>1374.25</td>\n",
              "      <td>1728.50</td>\n",
              "      <td>21.850</td>\n",
              "      <td>29.250000</td>\n",
              "      <td>0.756824</td>\n",
              "    </tr>\n",
              "    <tr>\n",
              "      <th>9353</th>\n",
              "      <td>2005-04-04</td>\n",
              "      <td>11:00:00</td>\n",
              "      <td>2.4</td>\n",
              "      <td>1162.50</td>\n",
              "      <td>-200</td>\n",
              "      <td>11.355157</td>\n",
              "      <td>1027.00</td>\n",
              "      <td>353.3</td>\n",
              "      <td>603.75</td>\n",
              "      <td>179.2</td>\n",
              "      <td>1263.50</td>\n",
              "      <td>1269.00</td>\n",
              "      <td>24.325</td>\n",
              "      <td>23.725000</td>\n",
              "      <td>0.711864</td>\n",
              "    </tr>\n",
              "    <tr>\n",
              "      <th>9354</th>\n",
              "      <td>2005-04-04</td>\n",
              "      <td>12:00:00</td>\n",
              "      <td>2.4</td>\n",
              "      <td>1142.00</td>\n",
              "      <td>-200</td>\n",
              "      <td>12.374538</td>\n",
              "      <td>1062.50</td>\n",
              "      <td>293.0</td>\n",
              "      <td>603.25</td>\n",
              "      <td>174.7</td>\n",
              "      <td>1240.75</td>\n",
              "      <td>1092.00</td>\n",
              "      <td>26.900</td>\n",
              "      <td>18.350000</td>\n",
              "      <td>0.640649</td>\n",
              "    </tr>\n",
              "    <tr>\n",
              "      <th>9355</th>\n",
              "      <td>2005-04-04</td>\n",
              "      <td>13:00:00</td>\n",
              "      <td>2.1</td>\n",
              "      <td>1002.50</td>\n",
              "      <td>-200</td>\n",
              "      <td>9.547187</td>\n",
              "      <td>960.50</td>\n",
              "      <td>234.5</td>\n",
              "      <td>701.50</td>\n",
              "      <td>155.7</td>\n",
              "      <td>1041.00</td>\n",
              "      <td>769.75</td>\n",
              "      <td>28.325</td>\n",
              "      <td>13.550000</td>\n",
              "      <td>0.513866</td>\n",
              "    </tr>\n",
              "    <tr>\n",
              "      <th>9356</th>\n",
              "      <td>2005-04-04</td>\n",
              "      <td>14:00:00</td>\n",
              "      <td>2.2</td>\n",
              "      <td>1070.75</td>\n",
              "      <td>-200</td>\n",
              "      <td>11.932060</td>\n",
              "      <td>1047.25</td>\n",
              "      <td>265.2</td>\n",
              "      <td>654.00</td>\n",
              "      <td>167.7</td>\n",
              "      <td>1128.50</td>\n",
              "      <td>816.00</td>\n",
              "      <td>28.500</td>\n",
              "      <td>13.125000</td>\n",
              "      <td>0.502804</td>\n",
              "    </tr>\n",
              "  </tbody>\n",
              "</table>\n",
              "<p>9357 rows × 15 columns</p>\n",
              "</div>\n",
              "      <button class=\"colab-df-convert\" onclick=\"convertToInteractive('df-6becea04-147a-4387-963f-dc0f62f55c46')\"\n",
              "              title=\"Convert this dataframe to an interactive table.\"\n",
              "              style=\"display:none;\">\n",
              "        \n",
              "  <svg xmlns=\"http://www.w3.org/2000/svg\" height=\"24px\"viewBox=\"0 0 24 24\"\n",
              "       width=\"24px\">\n",
              "    <path d=\"M0 0h24v24H0V0z\" fill=\"none\"/>\n",
              "    <path d=\"M18.56 5.44l.94 2.06.94-2.06 2.06-.94-2.06-.94-.94-2.06-.94 2.06-2.06.94zm-11 1L8.5 8.5l.94-2.06 2.06-.94-2.06-.94L8.5 2.5l-.94 2.06-2.06.94zm10 10l.94 2.06.94-2.06 2.06-.94-2.06-.94-.94-2.06-.94 2.06-2.06.94z\"/><path d=\"M17.41 7.96l-1.37-1.37c-.4-.4-.92-.59-1.43-.59-.52 0-1.04.2-1.43.59L10.3 9.45l-7.72 7.72c-.78.78-.78 2.05 0 2.83L4 21.41c.39.39.9.59 1.41.59.51 0 1.02-.2 1.41-.59l7.78-7.78 2.81-2.81c.8-.78.8-2.07 0-2.86zM5.41 20L4 18.59l7.72-7.72 1.47 1.35L5.41 20z\"/>\n",
              "  </svg>\n",
              "      </button>\n",
              "      \n",
              "  <style>\n",
              "    .colab-df-container {\n",
              "      display:flex;\n",
              "      flex-wrap:wrap;\n",
              "      gap: 12px;\n",
              "    }\n",
              "\n",
              "    .colab-df-convert {\n",
              "      background-color: #E8F0FE;\n",
              "      border: none;\n",
              "      border-radius: 50%;\n",
              "      cursor: pointer;\n",
              "      display: none;\n",
              "      fill: #1967D2;\n",
              "      height: 32px;\n",
              "      padding: 0 0 0 0;\n",
              "      width: 32px;\n",
              "    }\n",
              "\n",
              "    .colab-df-convert:hover {\n",
              "      background-color: #E2EBFA;\n",
              "      box-shadow: 0px 1px 2px rgba(60, 64, 67, 0.3), 0px 1px 3px 1px rgba(60, 64, 67, 0.15);\n",
              "      fill: #174EA6;\n",
              "    }\n",
              "\n",
              "    [theme=dark] .colab-df-convert {\n",
              "      background-color: #3B4455;\n",
              "      fill: #D2E3FC;\n",
              "    }\n",
              "\n",
              "    [theme=dark] .colab-df-convert:hover {\n",
              "      background-color: #434B5C;\n",
              "      box-shadow: 0px 1px 3px 1px rgba(0, 0, 0, 0.15);\n",
              "      filter: drop-shadow(0px 1px 2px rgba(0, 0, 0, 0.3));\n",
              "      fill: #FFFFFF;\n",
              "    }\n",
              "  </style>\n",
              "\n",
              "      <script>\n",
              "        const buttonEl =\n",
              "          document.querySelector('#df-6becea04-147a-4387-963f-dc0f62f55c46 button.colab-df-convert');\n",
              "        buttonEl.style.display =\n",
              "          google.colab.kernel.accessAllowed ? 'block' : 'none';\n",
              "\n",
              "        async function convertToInteractive(key) {\n",
              "          const element = document.querySelector('#df-6becea04-147a-4387-963f-dc0f62f55c46');\n",
              "          const dataTable =\n",
              "            await google.colab.kernel.invokeFunction('convertToInteractive',\n",
              "                                                     [key], {});\n",
              "          if (!dataTable) return;\n",
              "\n",
              "          const docLinkHtml = 'Like what you see? Visit the ' +\n",
              "            '<a target=\"_blank\" href=https://colab.research.google.com/notebooks/data_table.ipynb>data table notebook</a>'\n",
              "            + ' to learn more about interactive tables.';\n",
              "          element.innerHTML = '';\n",
              "          dataTable['output_type'] = 'display_data';\n",
              "          await google.colab.output.renderOutput(dataTable, element);\n",
              "          const docLink = document.createElement('div');\n",
              "          docLink.innerHTML = docLinkHtml;\n",
              "          element.appendChild(docLink);\n",
              "        }\n",
              "      </script>\n",
              "    </div>\n",
              "  </div>\n",
              "  "
            ]
          },
          "metadata": {},
          "execution_count": 3
        }
      ]
    },
    {
      "cell_type": "code",
      "source": [
        "for (label, content) in data_air.iteritems():\n",
        "  print(data_air[label].value_counts())"
      ],
      "metadata": {
        "colab": {
          "base_uri": "https://localhost:8080/"
        },
        "id": "otZx2VGXa235",
        "outputId": "fa092bc5-9d6c-4e6e-9ac1-e361528aaca0"
      },
      "execution_count": null,
      "outputs": [
        {
          "output_type": "stream",
          "name": "stdout",
          "text": [
            "2004-09-21    24\n",
            "2004-11-09    24\n",
            "2004-12-01    24\n",
            "2004-11-30    24\n",
            "2004-11-29    24\n",
            "              ..\n",
            "2004-07-13    24\n",
            "2004-07-12    24\n",
            "2005-04-02    24\n",
            "2005-04-04    15\n",
            "2004-03-10     6\n",
            "Name: Date, Length: 391, dtype: int64\n",
            "18:00:00    390\n",
            "05:00:00    390\n",
            "14:00:00    390\n",
            "13:00:00    390\n",
            "12:00:00    390\n",
            "11:00:00    390\n",
            "10:00:00    390\n",
            "09:00:00    390\n",
            "08:00:00    390\n",
            "07:00:00    390\n",
            "19:00:00    390\n",
            "06:00:00    390\n",
            "04:00:00    390\n",
            "03:00:00    390\n",
            "02:00:00    390\n",
            "01:00:00    390\n",
            "00:00:00    390\n",
            "23:00:00    390\n",
            "22:00:00    390\n",
            "21:00:00    390\n",
            "20:00:00    390\n",
            "15:00:00    389\n",
            "16:00:00    389\n",
            "17:00:00    389\n",
            "Name: Time, dtype: int64\n",
            "-200.0    1683\n",
            " 1.0       305\n",
            " 1.4       279\n",
            " 1.6       275\n",
            " 1.5       273\n",
            "          ... \n",
            " 9.9         1\n",
            " 7.6         1\n",
            " 9.3         1\n",
            " 7.0         1\n",
            " 8.5         1\n",
            "Name: CO(GT), Length: 97, dtype: int64\n",
            "-200.000000     366\n",
            " 1099.500000     12\n",
            " 954.250000      12\n",
            " 986.750000      12\n",
            " 888.000000      11\n",
            "               ... \n",
            " 808.000000       1\n",
            " 834.333333       1\n",
            " 891.666667       1\n",
            " 748.500000       1\n",
            " 1314.250000      1\n",
            "Name: PT08.S1(CO), Length: 3246, dtype: int64\n",
            "-200    8443\n",
            " 66       14\n",
            " 40        9\n",
            " 29        9\n",
            " 88        8\n",
            "        ... \n",
            " 422       1\n",
            " 424       1\n",
            " 339       1\n",
            " 445       1\n",
            " 307       1\n",
            "Name: NMHC(GT), Length: 430, dtype: int64\n",
            "-200.000000    366\n",
            " 6.849892       13\n",
            " 10.184263       9\n",
            " 5.560496        9\n",
            " 4.045717        9\n",
            "              ... \n",
            " 26.798408       1\n",
            " 18.833976       1\n",
            " 21.837693       1\n",
            " 21.275833       1\n",
            " 1.307608        1\n",
            "Name: C6H6(GT), Length: 3773, dtype: int64\n",
            "-200.000000     366\n",
            " 850.250000      13\n",
            " 984.500000       9\n",
            " 791.000000       9\n",
            " 713.250000       9\n",
            "               ... \n",
            " 1474.000000      1\n",
            " 1263.500000      1\n",
            " 1346.666667      1\n",
            " 1331.500000      1\n",
            " 528.000000       1\n",
            "Name: PT08.S2(NMHC), Length: 3773, dtype: int64\n",
            "-200.0    1639\n",
            " 65.0       37\n",
            " 89.0       36\n",
            " 41.0       36\n",
            " 57.0       32\n",
            "          ... \n",
            " 450.9       1\n",
            " 564.7       1\n",
            " 715.8       1\n",
            " 794.1       1\n",
            " 353.3       1\n",
            "Name: NOx(GT), Length: 2467, dtype: int64\n",
            "-200.00     366\n",
            " 829.50      11\n",
            " 866.25      10\n",
            " 683.25      10\n",
            " 844.50       9\n",
            "           ... \n",
            " 1429.25      1\n",
            " 1587.25      1\n",
            " 1056.50      1\n",
            " 637.25       1\n",
            " 414.75       1\n",
            "Name: PT08.S3(NOx), Length: 3519, dtype: int64\n",
            "-200.0    1642\n",
            " 97.0       68\n",
            " 95.0       66\n",
            " 101.0      65\n",
            " 114.0      63\n",
            "          ... \n",
            " 290.6       1\n",
            " 275.9       1\n",
            " 249.8       1\n",
            " 251.2       1\n",
            " 167.7       1\n",
            "Name: NO2(GT), Length: 1420, dtype: int64\n",
            "-200.00     366\n",
            " 1490.00     10\n",
            " 1363.00      9\n",
            " 1479.25      8\n",
            " 1533.50      8\n",
            "           ... \n",
            " 1123.25      1\n",
            " 2185.00      1\n",
            " 2165.50      1\n",
            " 1370.25      1\n",
            " 987.00       1\n",
            "Name: PT08.S4(NO2), Length: 4408, dtype: int64\n",
            "-200.00     366\n",
            " 825.75      10\n",
            " 904.50       8\n",
            " 779.00       8\n",
            " 835.50       8\n",
            "           ... \n",
            " 663.75       1\n",
            " 593.25       1\n",
            " 610.50       1\n",
            " 410.00       1\n",
            " 1269.00      1\n",
            "Name: PT08.S5(O3), Length: 4679, dtype: int64\n",
            "-200.000000    366\n",
            " 23.050000      15\n",
            " 15.050000      15\n",
            " 24.000000      13\n",
            " 20.800000      13\n",
            "              ... \n",
            " 36.849999       1\n",
            " 36.325001       1\n",
            " 35.825001       1\n",
            " 32.150000       1\n",
            " 28.500000       1\n",
            "Name: T, Length: 3368, dtype: int64\n",
            "-200.000000    366\n",
            " 47.750000      11\n",
            " 51.450000       9\n",
            " 49.675000       8\n",
            " 55.950000       8\n",
            "              ... \n",
            " 55.474999       1\n",
            " 61.750000       1\n",
            " 25.600000       1\n",
            " 26.350000       1\n",
            " 18.350000       1\n",
            "Name: RH, Length: 4903, dtype: int64\n",
            "-200.000000    366\n",
            " 1.471326        2\n",
            " 0.779770        2\n",
            " 0.705801        2\n",
            " 1.320841        2\n",
            "              ... \n",
            " 1.082815        1\n",
            " 1.011949        1\n",
            " 0.909946        1\n",
            " 1.004462        1\n",
            " 0.502804        1\n",
            "Name: AH, Length: 8988, dtype: int64\n"
          ]
        }
      ]
    },
    {
      "cell_type": "code",
      "source": [
        "df = data_air.copy()\n",
        "for (label, content) in df.iteritems():\n",
        "    df = df.drop(df[df[label]==-200].index)\n",
        "    \n",
        "df"
      ],
      "metadata": {
        "colab": {
          "base_uri": "https://localhost:8080/",
          "height": 661
        },
        "id": "e91yVyhFYUSK",
        "outputId": "dc62566d-5588-494e-8213-7d5517632315"
      },
      "execution_count": null,
      "outputs": [
        {
          "output_type": "execute_result",
          "data": {
            "text/plain": [
              "           Date      Time  CO(GT)  PT08.S1(CO)  NMHC(GT)   C6H6(GT)  \\\n",
              "0    2004-03-10  18:00:00     2.6      1360.00       150  11.881723   \n",
              "1    2004-03-10  19:00:00     2.0      1292.25       112   9.397165   \n",
              "2    2004-03-10  20:00:00     2.2      1402.00        88   8.997817   \n",
              "3    2004-03-10  21:00:00     2.2      1375.50        80   9.228796   \n",
              "4    2004-03-10  22:00:00     1.6      1272.25        51   6.518224   \n",
              "...         ...       ...     ...          ...       ...        ...   \n",
              "1226 2004-04-30  20:00:00     4.4      1449.25       501  19.494597   \n",
              "1227 2004-04-30  21:00:00     3.1      1362.50       234  15.100351   \n",
              "1228 2004-04-30  22:00:00     3.0      1371.25       212  14.594739   \n",
              "1229 2004-04-30  23:00:00     3.1      1406.25       275  13.697100   \n",
              "1230 2004-05-01  00:00:00     3.5      1424.50       275  15.187992   \n",
              "\n",
              "      PT08.S2(NMHC)  NOx(GT)  PT08.S3(NOx)  NO2(GT)  PT08.S4(NO2)  \\\n",
              "0           1045.50    166.0       1056.25    113.0       1692.00   \n",
              "1            954.75    103.0       1173.75     92.0       1558.75   \n",
              "2            939.25    131.0       1140.00    114.0       1554.50   \n",
              "3            948.25    172.0       1092.00    122.0       1583.75   \n",
              "4            835.50    131.0       1205.00    116.0       1490.00   \n",
              "...             ...      ...           ...      ...           ...   \n",
              "1226        1282.25    254.0        625.00    133.0       2099.50   \n",
              "1227        1151.75    189.0        683.75    110.0       1951.25   \n",
              "1228        1135.75    174.0        689.00    102.0       1926.75   \n",
              "1229        1106.75    167.0        718.25    108.0       1871.50   \n",
              "1230        1154.50    185.0        709.25    110.0       1935.75   \n",
              "\n",
              "      PT08.S5(O3)       T         RH        AH  \n",
              "0         1267.50  13.600  48.875001  0.757754  \n",
              "1          972.25  13.300  47.700000  0.725487  \n",
              "2         1074.00  11.900  53.975000  0.750239  \n",
              "3         1203.25  11.000  60.000000  0.786713  \n",
              "4         1110.00  11.150  59.575001  0.788794  \n",
              "...           ...     ...        ...       ...  \n",
              "1226      1568.50  19.075  61.075001  1.334500  \n",
              "1227      1494.75  18.200  65.350002  1.352888  \n",
              "1228      1471.25  18.075  66.100000  1.357869  \n",
              "1229      1383.75  17.700  66.875000  1.342218  \n",
              "1230      1788.75  17.775  66.750002  1.345960  \n",
              "\n",
              "[827 rows x 15 columns]"
            ],
            "text/html": [
              "\n",
              "  <div id=\"df-531c745a-2cd0-40f9-a4d3-8cc792a1750b\">\n",
              "    <div class=\"colab-df-container\">\n",
              "      <div>\n",
              "<style scoped>\n",
              "    .dataframe tbody tr th:only-of-type {\n",
              "        vertical-align: middle;\n",
              "    }\n",
              "\n",
              "    .dataframe tbody tr th {\n",
              "        vertical-align: top;\n",
              "    }\n",
              "\n",
              "    .dataframe thead th {\n",
              "        text-align: right;\n",
              "    }\n",
              "</style>\n",
              "<table border=\"1\" class=\"dataframe\">\n",
              "  <thead>\n",
              "    <tr style=\"text-align: right;\">\n",
              "      <th></th>\n",
              "      <th>Date</th>\n",
              "      <th>Time</th>\n",
              "      <th>CO(GT)</th>\n",
              "      <th>PT08.S1(CO)</th>\n",
              "      <th>NMHC(GT)</th>\n",
              "      <th>C6H6(GT)</th>\n",
              "      <th>PT08.S2(NMHC)</th>\n",
              "      <th>NOx(GT)</th>\n",
              "      <th>PT08.S3(NOx)</th>\n",
              "      <th>NO2(GT)</th>\n",
              "      <th>PT08.S4(NO2)</th>\n",
              "      <th>PT08.S5(O3)</th>\n",
              "      <th>T</th>\n",
              "      <th>RH</th>\n",
              "      <th>AH</th>\n",
              "    </tr>\n",
              "  </thead>\n",
              "  <tbody>\n",
              "    <tr>\n",
              "      <th>0</th>\n",
              "      <td>2004-03-10</td>\n",
              "      <td>18:00:00</td>\n",
              "      <td>2.6</td>\n",
              "      <td>1360.00</td>\n",
              "      <td>150</td>\n",
              "      <td>11.881723</td>\n",
              "      <td>1045.50</td>\n",
              "      <td>166.0</td>\n",
              "      <td>1056.25</td>\n",
              "      <td>113.0</td>\n",
              "      <td>1692.00</td>\n",
              "      <td>1267.50</td>\n",
              "      <td>13.600</td>\n",
              "      <td>48.875001</td>\n",
              "      <td>0.757754</td>\n",
              "    </tr>\n",
              "    <tr>\n",
              "      <th>1</th>\n",
              "      <td>2004-03-10</td>\n",
              "      <td>19:00:00</td>\n",
              "      <td>2.0</td>\n",
              "      <td>1292.25</td>\n",
              "      <td>112</td>\n",
              "      <td>9.397165</td>\n",
              "      <td>954.75</td>\n",
              "      <td>103.0</td>\n",
              "      <td>1173.75</td>\n",
              "      <td>92.0</td>\n",
              "      <td>1558.75</td>\n",
              "      <td>972.25</td>\n",
              "      <td>13.300</td>\n",
              "      <td>47.700000</td>\n",
              "      <td>0.725487</td>\n",
              "    </tr>\n",
              "    <tr>\n",
              "      <th>2</th>\n",
              "      <td>2004-03-10</td>\n",
              "      <td>20:00:00</td>\n",
              "      <td>2.2</td>\n",
              "      <td>1402.00</td>\n",
              "      <td>88</td>\n",
              "      <td>8.997817</td>\n",
              "      <td>939.25</td>\n",
              "      <td>131.0</td>\n",
              "      <td>1140.00</td>\n",
              "      <td>114.0</td>\n",
              "      <td>1554.50</td>\n",
              "      <td>1074.00</td>\n",
              "      <td>11.900</td>\n",
              "      <td>53.975000</td>\n",
              "      <td>0.750239</td>\n",
              "    </tr>\n",
              "    <tr>\n",
              "      <th>3</th>\n",
              "      <td>2004-03-10</td>\n",
              "      <td>21:00:00</td>\n",
              "      <td>2.2</td>\n",
              "      <td>1375.50</td>\n",
              "      <td>80</td>\n",
              "      <td>9.228796</td>\n",
              "      <td>948.25</td>\n",
              "      <td>172.0</td>\n",
              "      <td>1092.00</td>\n",
              "      <td>122.0</td>\n",
              "      <td>1583.75</td>\n",
              "      <td>1203.25</td>\n",
              "      <td>11.000</td>\n",
              "      <td>60.000000</td>\n",
              "      <td>0.786713</td>\n",
              "    </tr>\n",
              "    <tr>\n",
              "      <th>4</th>\n",
              "      <td>2004-03-10</td>\n",
              "      <td>22:00:00</td>\n",
              "      <td>1.6</td>\n",
              "      <td>1272.25</td>\n",
              "      <td>51</td>\n",
              "      <td>6.518224</td>\n",
              "      <td>835.50</td>\n",
              "      <td>131.0</td>\n",
              "      <td>1205.00</td>\n",
              "      <td>116.0</td>\n",
              "      <td>1490.00</td>\n",
              "      <td>1110.00</td>\n",
              "      <td>11.150</td>\n",
              "      <td>59.575001</td>\n",
              "      <td>0.788794</td>\n",
              "    </tr>\n",
              "    <tr>\n",
              "      <th>...</th>\n",
              "      <td>...</td>\n",
              "      <td>...</td>\n",
              "      <td>...</td>\n",
              "      <td>...</td>\n",
              "      <td>...</td>\n",
              "      <td>...</td>\n",
              "      <td>...</td>\n",
              "      <td>...</td>\n",
              "      <td>...</td>\n",
              "      <td>...</td>\n",
              "      <td>...</td>\n",
              "      <td>...</td>\n",
              "      <td>...</td>\n",
              "      <td>...</td>\n",
              "      <td>...</td>\n",
              "    </tr>\n",
              "    <tr>\n",
              "      <th>1226</th>\n",
              "      <td>2004-04-30</td>\n",
              "      <td>20:00:00</td>\n",
              "      <td>4.4</td>\n",
              "      <td>1449.25</td>\n",
              "      <td>501</td>\n",
              "      <td>19.494597</td>\n",
              "      <td>1282.25</td>\n",
              "      <td>254.0</td>\n",
              "      <td>625.00</td>\n",
              "      <td>133.0</td>\n",
              "      <td>2099.50</td>\n",
              "      <td>1568.50</td>\n",
              "      <td>19.075</td>\n",
              "      <td>61.075001</td>\n",
              "      <td>1.334500</td>\n",
              "    </tr>\n",
              "    <tr>\n",
              "      <th>1227</th>\n",
              "      <td>2004-04-30</td>\n",
              "      <td>21:00:00</td>\n",
              "      <td>3.1</td>\n",
              "      <td>1362.50</td>\n",
              "      <td>234</td>\n",
              "      <td>15.100351</td>\n",
              "      <td>1151.75</td>\n",
              "      <td>189.0</td>\n",
              "      <td>683.75</td>\n",
              "      <td>110.0</td>\n",
              "      <td>1951.25</td>\n",
              "      <td>1494.75</td>\n",
              "      <td>18.200</td>\n",
              "      <td>65.350002</td>\n",
              "      <td>1.352888</td>\n",
              "    </tr>\n",
              "    <tr>\n",
              "      <th>1228</th>\n",
              "      <td>2004-04-30</td>\n",
              "      <td>22:00:00</td>\n",
              "      <td>3.0</td>\n",
              "      <td>1371.25</td>\n",
              "      <td>212</td>\n",
              "      <td>14.594739</td>\n",
              "      <td>1135.75</td>\n",
              "      <td>174.0</td>\n",
              "      <td>689.00</td>\n",
              "      <td>102.0</td>\n",
              "      <td>1926.75</td>\n",
              "      <td>1471.25</td>\n",
              "      <td>18.075</td>\n",
              "      <td>66.100000</td>\n",
              "      <td>1.357869</td>\n",
              "    </tr>\n",
              "    <tr>\n",
              "      <th>1229</th>\n",
              "      <td>2004-04-30</td>\n",
              "      <td>23:00:00</td>\n",
              "      <td>3.1</td>\n",
              "      <td>1406.25</td>\n",
              "      <td>275</td>\n",
              "      <td>13.697100</td>\n",
              "      <td>1106.75</td>\n",
              "      <td>167.0</td>\n",
              "      <td>718.25</td>\n",
              "      <td>108.0</td>\n",
              "      <td>1871.50</td>\n",
              "      <td>1383.75</td>\n",
              "      <td>17.700</td>\n",
              "      <td>66.875000</td>\n",
              "      <td>1.342218</td>\n",
              "    </tr>\n",
              "    <tr>\n",
              "      <th>1230</th>\n",
              "      <td>2004-05-01</td>\n",
              "      <td>00:00:00</td>\n",
              "      <td>3.5</td>\n",
              "      <td>1424.50</td>\n",
              "      <td>275</td>\n",
              "      <td>15.187992</td>\n",
              "      <td>1154.50</td>\n",
              "      <td>185.0</td>\n",
              "      <td>709.25</td>\n",
              "      <td>110.0</td>\n",
              "      <td>1935.75</td>\n",
              "      <td>1788.75</td>\n",
              "      <td>17.775</td>\n",
              "      <td>66.750002</td>\n",
              "      <td>1.345960</td>\n",
              "    </tr>\n",
              "  </tbody>\n",
              "</table>\n",
              "<p>827 rows × 15 columns</p>\n",
              "</div>\n",
              "      <button class=\"colab-df-convert\" onclick=\"convertToInteractive('df-531c745a-2cd0-40f9-a4d3-8cc792a1750b')\"\n",
              "              title=\"Convert this dataframe to an interactive table.\"\n",
              "              style=\"display:none;\">\n",
              "        \n",
              "  <svg xmlns=\"http://www.w3.org/2000/svg\" height=\"24px\"viewBox=\"0 0 24 24\"\n",
              "       width=\"24px\">\n",
              "    <path d=\"M0 0h24v24H0V0z\" fill=\"none\"/>\n",
              "    <path d=\"M18.56 5.44l.94 2.06.94-2.06 2.06-.94-2.06-.94-.94-2.06-.94 2.06-2.06.94zm-11 1L8.5 8.5l.94-2.06 2.06-.94-2.06-.94L8.5 2.5l-.94 2.06-2.06.94zm10 10l.94 2.06.94-2.06 2.06-.94-2.06-.94-.94-2.06-.94 2.06-2.06.94z\"/><path d=\"M17.41 7.96l-1.37-1.37c-.4-.4-.92-.59-1.43-.59-.52 0-1.04.2-1.43.59L10.3 9.45l-7.72 7.72c-.78.78-.78 2.05 0 2.83L4 21.41c.39.39.9.59 1.41.59.51 0 1.02-.2 1.41-.59l7.78-7.78 2.81-2.81c.8-.78.8-2.07 0-2.86zM5.41 20L4 18.59l7.72-7.72 1.47 1.35L5.41 20z\"/>\n",
              "  </svg>\n",
              "      </button>\n",
              "      \n",
              "  <style>\n",
              "    .colab-df-container {\n",
              "      display:flex;\n",
              "      flex-wrap:wrap;\n",
              "      gap: 12px;\n",
              "    }\n",
              "\n",
              "    .colab-df-convert {\n",
              "      background-color: #E8F0FE;\n",
              "      border: none;\n",
              "      border-radius: 50%;\n",
              "      cursor: pointer;\n",
              "      display: none;\n",
              "      fill: #1967D2;\n",
              "      height: 32px;\n",
              "      padding: 0 0 0 0;\n",
              "      width: 32px;\n",
              "    }\n",
              "\n",
              "    .colab-df-convert:hover {\n",
              "      background-color: #E2EBFA;\n",
              "      box-shadow: 0px 1px 2px rgba(60, 64, 67, 0.3), 0px 1px 3px 1px rgba(60, 64, 67, 0.15);\n",
              "      fill: #174EA6;\n",
              "    }\n",
              "\n",
              "    [theme=dark] .colab-df-convert {\n",
              "      background-color: #3B4455;\n",
              "      fill: #D2E3FC;\n",
              "    }\n",
              "\n",
              "    [theme=dark] .colab-df-convert:hover {\n",
              "      background-color: #434B5C;\n",
              "      box-shadow: 0px 1px 3px 1px rgba(0, 0, 0, 0.15);\n",
              "      filter: drop-shadow(0px 1px 2px rgba(0, 0, 0, 0.3));\n",
              "      fill: #FFFFFF;\n",
              "    }\n",
              "  </style>\n",
              "\n",
              "      <script>\n",
              "        const buttonEl =\n",
              "          document.querySelector('#df-531c745a-2cd0-40f9-a4d3-8cc792a1750b button.colab-df-convert');\n",
              "        buttonEl.style.display =\n",
              "          google.colab.kernel.accessAllowed ? 'block' : 'none';\n",
              "\n",
              "        async function convertToInteractive(key) {\n",
              "          const element = document.querySelector('#df-531c745a-2cd0-40f9-a4d3-8cc792a1750b');\n",
              "          const dataTable =\n",
              "            await google.colab.kernel.invokeFunction('convertToInteractive',\n",
              "                                                     [key], {});\n",
              "          if (!dataTable) return;\n",
              "\n",
              "          const docLinkHtml = 'Like what you see? Visit the ' +\n",
              "            '<a target=\"_blank\" href=https://colab.research.google.com/notebooks/data_table.ipynb>data table notebook</a>'\n",
              "            + ' to learn more about interactive tables.';\n",
              "          element.innerHTML = '';\n",
              "          dataTable['output_type'] = 'display_data';\n",
              "          await google.colab.output.renderOutput(dataTable, element);\n",
              "          const docLink = document.createElement('div');\n",
              "          docLink.innerHTML = docLinkHtml;\n",
              "          element.appendChild(docLink);\n",
              "        }\n",
              "      </script>\n",
              "    </div>\n",
              "  </div>\n",
              "  "
            ]
          },
          "metadata": {},
          "execution_count": 5
        }
      ]
    },
    {
      "cell_type": "code",
      "source": [
        "print(data_air.shape)\n",
        "print(df.shape)"
      ],
      "metadata": {
        "colab": {
          "base_uri": "https://localhost:8080/"
        },
        "id": "SK8LZBlcZgW5",
        "outputId": "11e6e7b3-81fd-4e83-e571-6b98b0b455d6"
      },
      "execution_count": null,
      "outputs": [
        {
          "output_type": "stream",
          "name": "stdout",
          "text": [
            "(9357, 15)\n",
            "(827, 15)\n"
          ]
        }
      ]
    },
    {
      "cell_type": "code",
      "source": [
        "salida_etiqueta_air = []\n",
        "for i in df['CO(GT)']:\n",
        "  if i <= 1.0:  # Contaminacion leve\n",
        "    salida_etiqueta_air.append(0)\n",
        "  else:\n",
        "    if i > 1.0 and i <= 4.0:\n",
        "      salida_etiqueta_air.append(1)\n",
        "    else:\n",
        "      if i > 4.0:\n",
        "        salida_etiqueta_air.append(2)\n",
        "\n",
        "df['Salida'] = salida_etiqueta_air\n",
        "df"
      ],
      "metadata": {
        "colab": {
          "base_uri": "https://localhost:8080/",
          "height": 661
        },
        "id": "eeiQH2GhiOw1",
        "outputId": "e5b3478d-3b3f-4b4f-da3c-997533e131d1"
      },
      "execution_count": null,
      "outputs": [
        {
          "output_type": "execute_result",
          "data": {
            "text/plain": [
              "           Date      Time  CO(GT)  PT08.S1(CO)  NMHC(GT)   C6H6(GT)  \\\n",
              "0    2004-03-10  18:00:00     2.6      1360.00       150  11.881723   \n",
              "1    2004-03-10  19:00:00     2.0      1292.25       112   9.397165   \n",
              "2    2004-03-10  20:00:00     2.2      1402.00        88   8.997817   \n",
              "3    2004-03-10  21:00:00     2.2      1375.50        80   9.228796   \n",
              "4    2004-03-10  22:00:00     1.6      1272.25        51   6.518224   \n",
              "...         ...       ...     ...          ...       ...        ...   \n",
              "1226 2004-04-30  20:00:00     4.4      1449.25       501  19.494597   \n",
              "1227 2004-04-30  21:00:00     3.1      1362.50       234  15.100351   \n",
              "1228 2004-04-30  22:00:00     3.0      1371.25       212  14.594739   \n",
              "1229 2004-04-30  23:00:00     3.1      1406.25       275  13.697100   \n",
              "1230 2004-05-01  00:00:00     3.5      1424.50       275  15.187992   \n",
              "\n",
              "      PT08.S2(NMHC)  NOx(GT)  PT08.S3(NOx)  NO2(GT)  PT08.S4(NO2)  \\\n",
              "0           1045.50    166.0       1056.25    113.0       1692.00   \n",
              "1            954.75    103.0       1173.75     92.0       1558.75   \n",
              "2            939.25    131.0       1140.00    114.0       1554.50   \n",
              "3            948.25    172.0       1092.00    122.0       1583.75   \n",
              "4            835.50    131.0       1205.00    116.0       1490.00   \n",
              "...             ...      ...           ...      ...           ...   \n",
              "1226        1282.25    254.0        625.00    133.0       2099.50   \n",
              "1227        1151.75    189.0        683.75    110.0       1951.25   \n",
              "1228        1135.75    174.0        689.00    102.0       1926.75   \n",
              "1229        1106.75    167.0        718.25    108.0       1871.50   \n",
              "1230        1154.50    185.0        709.25    110.0       1935.75   \n",
              "\n",
              "      PT08.S5(O3)       T         RH        AH  Salida  \n",
              "0         1267.50  13.600  48.875001  0.757754       1  \n",
              "1          972.25  13.300  47.700000  0.725487       1  \n",
              "2         1074.00  11.900  53.975000  0.750239       1  \n",
              "3         1203.25  11.000  60.000000  0.786713       1  \n",
              "4         1110.00  11.150  59.575001  0.788794       1  \n",
              "...           ...     ...        ...       ...     ...  \n",
              "1226      1568.50  19.075  61.075001  1.334500       2  \n",
              "1227      1494.75  18.200  65.350002  1.352888       1  \n",
              "1228      1471.25  18.075  66.100000  1.357869       1  \n",
              "1229      1383.75  17.700  66.875000  1.342218       1  \n",
              "1230      1788.75  17.775  66.750002  1.345960       1  \n",
              "\n",
              "[827 rows x 16 columns]"
            ],
            "text/html": [
              "\n",
              "  <div id=\"df-6fb061dc-19a3-42a9-a8d3-ccf4fee06ae7\">\n",
              "    <div class=\"colab-df-container\">\n",
              "      <div>\n",
              "<style scoped>\n",
              "    .dataframe tbody tr th:only-of-type {\n",
              "        vertical-align: middle;\n",
              "    }\n",
              "\n",
              "    .dataframe tbody tr th {\n",
              "        vertical-align: top;\n",
              "    }\n",
              "\n",
              "    .dataframe thead th {\n",
              "        text-align: right;\n",
              "    }\n",
              "</style>\n",
              "<table border=\"1\" class=\"dataframe\">\n",
              "  <thead>\n",
              "    <tr style=\"text-align: right;\">\n",
              "      <th></th>\n",
              "      <th>Date</th>\n",
              "      <th>Time</th>\n",
              "      <th>CO(GT)</th>\n",
              "      <th>PT08.S1(CO)</th>\n",
              "      <th>NMHC(GT)</th>\n",
              "      <th>C6H6(GT)</th>\n",
              "      <th>PT08.S2(NMHC)</th>\n",
              "      <th>NOx(GT)</th>\n",
              "      <th>PT08.S3(NOx)</th>\n",
              "      <th>NO2(GT)</th>\n",
              "      <th>PT08.S4(NO2)</th>\n",
              "      <th>PT08.S5(O3)</th>\n",
              "      <th>T</th>\n",
              "      <th>RH</th>\n",
              "      <th>AH</th>\n",
              "      <th>Salida</th>\n",
              "    </tr>\n",
              "  </thead>\n",
              "  <tbody>\n",
              "    <tr>\n",
              "      <th>0</th>\n",
              "      <td>2004-03-10</td>\n",
              "      <td>18:00:00</td>\n",
              "      <td>2.6</td>\n",
              "      <td>1360.00</td>\n",
              "      <td>150</td>\n",
              "      <td>11.881723</td>\n",
              "      <td>1045.50</td>\n",
              "      <td>166.0</td>\n",
              "      <td>1056.25</td>\n",
              "      <td>113.0</td>\n",
              "      <td>1692.00</td>\n",
              "      <td>1267.50</td>\n",
              "      <td>13.600</td>\n",
              "      <td>48.875001</td>\n",
              "      <td>0.757754</td>\n",
              "      <td>1</td>\n",
              "    </tr>\n",
              "    <tr>\n",
              "      <th>1</th>\n",
              "      <td>2004-03-10</td>\n",
              "      <td>19:00:00</td>\n",
              "      <td>2.0</td>\n",
              "      <td>1292.25</td>\n",
              "      <td>112</td>\n",
              "      <td>9.397165</td>\n",
              "      <td>954.75</td>\n",
              "      <td>103.0</td>\n",
              "      <td>1173.75</td>\n",
              "      <td>92.0</td>\n",
              "      <td>1558.75</td>\n",
              "      <td>972.25</td>\n",
              "      <td>13.300</td>\n",
              "      <td>47.700000</td>\n",
              "      <td>0.725487</td>\n",
              "      <td>1</td>\n",
              "    </tr>\n",
              "    <tr>\n",
              "      <th>2</th>\n",
              "      <td>2004-03-10</td>\n",
              "      <td>20:00:00</td>\n",
              "      <td>2.2</td>\n",
              "      <td>1402.00</td>\n",
              "      <td>88</td>\n",
              "      <td>8.997817</td>\n",
              "      <td>939.25</td>\n",
              "      <td>131.0</td>\n",
              "      <td>1140.00</td>\n",
              "      <td>114.0</td>\n",
              "      <td>1554.50</td>\n",
              "      <td>1074.00</td>\n",
              "      <td>11.900</td>\n",
              "      <td>53.975000</td>\n",
              "      <td>0.750239</td>\n",
              "      <td>1</td>\n",
              "    </tr>\n",
              "    <tr>\n",
              "      <th>3</th>\n",
              "      <td>2004-03-10</td>\n",
              "      <td>21:00:00</td>\n",
              "      <td>2.2</td>\n",
              "      <td>1375.50</td>\n",
              "      <td>80</td>\n",
              "      <td>9.228796</td>\n",
              "      <td>948.25</td>\n",
              "      <td>172.0</td>\n",
              "      <td>1092.00</td>\n",
              "      <td>122.0</td>\n",
              "      <td>1583.75</td>\n",
              "      <td>1203.25</td>\n",
              "      <td>11.000</td>\n",
              "      <td>60.000000</td>\n",
              "      <td>0.786713</td>\n",
              "      <td>1</td>\n",
              "    </tr>\n",
              "    <tr>\n",
              "      <th>4</th>\n",
              "      <td>2004-03-10</td>\n",
              "      <td>22:00:00</td>\n",
              "      <td>1.6</td>\n",
              "      <td>1272.25</td>\n",
              "      <td>51</td>\n",
              "      <td>6.518224</td>\n",
              "      <td>835.50</td>\n",
              "      <td>131.0</td>\n",
              "      <td>1205.00</td>\n",
              "      <td>116.0</td>\n",
              "      <td>1490.00</td>\n",
              "      <td>1110.00</td>\n",
              "      <td>11.150</td>\n",
              "      <td>59.575001</td>\n",
              "      <td>0.788794</td>\n",
              "      <td>1</td>\n",
              "    </tr>\n",
              "    <tr>\n",
              "      <th>...</th>\n",
              "      <td>...</td>\n",
              "      <td>...</td>\n",
              "      <td>...</td>\n",
              "      <td>...</td>\n",
              "      <td>...</td>\n",
              "      <td>...</td>\n",
              "      <td>...</td>\n",
              "      <td>...</td>\n",
              "      <td>...</td>\n",
              "      <td>...</td>\n",
              "      <td>...</td>\n",
              "      <td>...</td>\n",
              "      <td>...</td>\n",
              "      <td>...</td>\n",
              "      <td>...</td>\n",
              "      <td>...</td>\n",
              "    </tr>\n",
              "    <tr>\n",
              "      <th>1226</th>\n",
              "      <td>2004-04-30</td>\n",
              "      <td>20:00:00</td>\n",
              "      <td>4.4</td>\n",
              "      <td>1449.25</td>\n",
              "      <td>501</td>\n",
              "      <td>19.494597</td>\n",
              "      <td>1282.25</td>\n",
              "      <td>254.0</td>\n",
              "      <td>625.00</td>\n",
              "      <td>133.0</td>\n",
              "      <td>2099.50</td>\n",
              "      <td>1568.50</td>\n",
              "      <td>19.075</td>\n",
              "      <td>61.075001</td>\n",
              "      <td>1.334500</td>\n",
              "      <td>2</td>\n",
              "    </tr>\n",
              "    <tr>\n",
              "      <th>1227</th>\n",
              "      <td>2004-04-30</td>\n",
              "      <td>21:00:00</td>\n",
              "      <td>3.1</td>\n",
              "      <td>1362.50</td>\n",
              "      <td>234</td>\n",
              "      <td>15.100351</td>\n",
              "      <td>1151.75</td>\n",
              "      <td>189.0</td>\n",
              "      <td>683.75</td>\n",
              "      <td>110.0</td>\n",
              "      <td>1951.25</td>\n",
              "      <td>1494.75</td>\n",
              "      <td>18.200</td>\n",
              "      <td>65.350002</td>\n",
              "      <td>1.352888</td>\n",
              "      <td>1</td>\n",
              "    </tr>\n",
              "    <tr>\n",
              "      <th>1228</th>\n",
              "      <td>2004-04-30</td>\n",
              "      <td>22:00:00</td>\n",
              "      <td>3.0</td>\n",
              "      <td>1371.25</td>\n",
              "      <td>212</td>\n",
              "      <td>14.594739</td>\n",
              "      <td>1135.75</td>\n",
              "      <td>174.0</td>\n",
              "      <td>689.00</td>\n",
              "      <td>102.0</td>\n",
              "      <td>1926.75</td>\n",
              "      <td>1471.25</td>\n",
              "      <td>18.075</td>\n",
              "      <td>66.100000</td>\n",
              "      <td>1.357869</td>\n",
              "      <td>1</td>\n",
              "    </tr>\n",
              "    <tr>\n",
              "      <th>1229</th>\n",
              "      <td>2004-04-30</td>\n",
              "      <td>23:00:00</td>\n",
              "      <td>3.1</td>\n",
              "      <td>1406.25</td>\n",
              "      <td>275</td>\n",
              "      <td>13.697100</td>\n",
              "      <td>1106.75</td>\n",
              "      <td>167.0</td>\n",
              "      <td>718.25</td>\n",
              "      <td>108.0</td>\n",
              "      <td>1871.50</td>\n",
              "      <td>1383.75</td>\n",
              "      <td>17.700</td>\n",
              "      <td>66.875000</td>\n",
              "      <td>1.342218</td>\n",
              "      <td>1</td>\n",
              "    </tr>\n",
              "    <tr>\n",
              "      <th>1230</th>\n",
              "      <td>2004-05-01</td>\n",
              "      <td>00:00:00</td>\n",
              "      <td>3.5</td>\n",
              "      <td>1424.50</td>\n",
              "      <td>275</td>\n",
              "      <td>15.187992</td>\n",
              "      <td>1154.50</td>\n",
              "      <td>185.0</td>\n",
              "      <td>709.25</td>\n",
              "      <td>110.0</td>\n",
              "      <td>1935.75</td>\n",
              "      <td>1788.75</td>\n",
              "      <td>17.775</td>\n",
              "      <td>66.750002</td>\n",
              "      <td>1.345960</td>\n",
              "      <td>1</td>\n",
              "    </tr>\n",
              "  </tbody>\n",
              "</table>\n",
              "<p>827 rows × 16 columns</p>\n",
              "</div>\n",
              "      <button class=\"colab-df-convert\" onclick=\"convertToInteractive('df-6fb061dc-19a3-42a9-a8d3-ccf4fee06ae7')\"\n",
              "              title=\"Convert this dataframe to an interactive table.\"\n",
              "              style=\"display:none;\">\n",
              "        \n",
              "  <svg xmlns=\"http://www.w3.org/2000/svg\" height=\"24px\"viewBox=\"0 0 24 24\"\n",
              "       width=\"24px\">\n",
              "    <path d=\"M0 0h24v24H0V0z\" fill=\"none\"/>\n",
              "    <path d=\"M18.56 5.44l.94 2.06.94-2.06 2.06-.94-2.06-.94-.94-2.06-.94 2.06-2.06.94zm-11 1L8.5 8.5l.94-2.06 2.06-.94-2.06-.94L8.5 2.5l-.94 2.06-2.06.94zm10 10l.94 2.06.94-2.06 2.06-.94-2.06-.94-.94-2.06-.94 2.06-2.06.94z\"/><path d=\"M17.41 7.96l-1.37-1.37c-.4-.4-.92-.59-1.43-.59-.52 0-1.04.2-1.43.59L10.3 9.45l-7.72 7.72c-.78.78-.78 2.05 0 2.83L4 21.41c.39.39.9.59 1.41.59.51 0 1.02-.2 1.41-.59l7.78-7.78 2.81-2.81c.8-.78.8-2.07 0-2.86zM5.41 20L4 18.59l7.72-7.72 1.47 1.35L5.41 20z\"/>\n",
              "  </svg>\n",
              "      </button>\n",
              "      \n",
              "  <style>\n",
              "    .colab-df-container {\n",
              "      display:flex;\n",
              "      flex-wrap:wrap;\n",
              "      gap: 12px;\n",
              "    }\n",
              "\n",
              "    .colab-df-convert {\n",
              "      background-color: #E8F0FE;\n",
              "      border: none;\n",
              "      border-radius: 50%;\n",
              "      cursor: pointer;\n",
              "      display: none;\n",
              "      fill: #1967D2;\n",
              "      height: 32px;\n",
              "      padding: 0 0 0 0;\n",
              "      width: 32px;\n",
              "    }\n",
              "\n",
              "    .colab-df-convert:hover {\n",
              "      background-color: #E2EBFA;\n",
              "      box-shadow: 0px 1px 2px rgba(60, 64, 67, 0.3), 0px 1px 3px 1px rgba(60, 64, 67, 0.15);\n",
              "      fill: #174EA6;\n",
              "    }\n",
              "\n",
              "    [theme=dark] .colab-df-convert {\n",
              "      background-color: #3B4455;\n",
              "      fill: #D2E3FC;\n",
              "    }\n",
              "\n",
              "    [theme=dark] .colab-df-convert:hover {\n",
              "      background-color: #434B5C;\n",
              "      box-shadow: 0px 1px 3px 1px rgba(0, 0, 0, 0.15);\n",
              "      filter: drop-shadow(0px 1px 2px rgba(0, 0, 0, 0.3));\n",
              "      fill: #FFFFFF;\n",
              "    }\n",
              "  </style>\n",
              "\n",
              "      <script>\n",
              "        const buttonEl =\n",
              "          document.querySelector('#df-6fb061dc-19a3-42a9-a8d3-ccf4fee06ae7 button.colab-df-convert');\n",
              "        buttonEl.style.display =\n",
              "          google.colab.kernel.accessAllowed ? 'block' : 'none';\n",
              "\n",
              "        async function convertToInteractive(key) {\n",
              "          const element = document.querySelector('#df-6fb061dc-19a3-42a9-a8d3-ccf4fee06ae7');\n",
              "          const dataTable =\n",
              "            await google.colab.kernel.invokeFunction('convertToInteractive',\n",
              "                                                     [key], {});\n",
              "          if (!dataTable) return;\n",
              "\n",
              "          const docLinkHtml = 'Like what you see? Visit the ' +\n",
              "            '<a target=\"_blank\" href=https://colab.research.google.com/notebooks/data_table.ipynb>data table notebook</a>'\n",
              "            + ' to learn more about interactive tables.';\n",
              "          element.innerHTML = '';\n",
              "          dataTable['output_type'] = 'display_data';\n",
              "          await google.colab.output.renderOutput(dataTable, element);\n",
              "          const docLink = document.createElement('div');\n",
              "          docLink.innerHTML = docLinkHtml;\n",
              "          element.appendChild(docLink);\n",
              "        }\n",
              "      </script>\n",
              "    </div>\n",
              "  </div>\n",
              "  "
            ]
          },
          "metadata": {},
          "execution_count": 20
        }
      ]
    },
    {
      "cell_type": "code",
      "source": [
        "df['Salida'].value_counts()"
      ],
      "metadata": {
        "colab": {
          "base_uri": "https://localhost:8080/"
        },
        "id": "dMY061IAjwNa",
        "outputId": "cc880eea-6a46-4f82-cf07-5709a5f18205"
      },
      "execution_count": null,
      "outputs": [
        {
          "output_type": "execute_result",
          "data": {
            "text/plain": [
              "1    578\n",
              "0    141\n",
              "2    108\n",
              "Name: Salida, dtype: int64"
            ]
          },
          "metadata": {},
          "execution_count": 21
        }
      ]
    },
    {
      "cell_type": "code",
      "source": [
        "sns.countplot(df['Salida'], palette='husl')"
      ],
      "metadata": {
        "colab": {
          "base_uri": "https://localhost:8080/",
          "height": 351
        },
        "id": "B1ywGI8ckMgA",
        "outputId": "82ecc8cd-bb6c-4bd2-897d-c5e1ebd66a30"
      },
      "execution_count": null,
      "outputs": [
        {
          "output_type": "stream",
          "name": "stderr",
          "text": [
            "/usr/local/lib/python3.7/dist-packages/seaborn/_decorators.py:43: FutureWarning: Pass the following variable as a keyword arg: x. From version 0.12, the only valid positional argument will be `data`, and passing other arguments without an explicit keyword will result in an error or misinterpretation.\n",
            "  FutureWarning\n"
          ]
        },
        {
          "output_type": "execute_result",
          "data": {
            "text/plain": [
              "<matplotlib.axes._subplots.AxesSubplot at 0x7f17c9b76190>"
            ]
          },
          "metadata": {},
          "execution_count": 19
        },
        {
          "output_type": "display_data",
          "data": {
            "text/plain": [
              "<Figure size 432x288 with 1 Axes>"
            ],
            "image/png": "[encoded data removed]"
          },
          "metadata": {
            "needs_background": "light"
          }
        }
      ]
    },
    {
      "cell_type": "code",
      "source": [
        "corrmat=df.corr()\n",
        "top_corr_feature=corrmat.index\n",
        "plt.figure(figsize=(30,20))\n",
        "# to plot heat map\n",
        "g=sns.heatmap(df[top_corr_feature].corr(),annot=True,cmap='viridis')"
      ],
      "metadata": {
        "colab": {
          "base_uri": "https://localhost:8080/",
          "height": 825
        },
        "id": "-JSMn6tsqSyx",
        "outputId": "014211bf-257f-4473-f61e-e0a978ad8e2d"
      },
      "execution_count": null,
      "outputs": [
        {
          "output_type": "display_data",
          "data": {
            "text/plain": [
              "<Figure size 2160x1440 with 2 Axes>"
            ],
            "image/png": "[encoded data removed]"
          },
          "metadata": {
            "needs_background": "light"
          }
        }
      ]
    },
    {
      "cell_type": "code",
      "source": [
        "df.columns"
      ],
      "metadata": {
        "colab": {
          "base_uri": "https://localhost:8080/"
        },
        "id": "taSycnv1rB4P",
        "outputId": "df1b2aab-bb36-4f89-f967-726ff16962d4"
      },
      "execution_count": null,
      "outputs": [
        {
          "output_type": "execute_result",
          "data": {
            "text/plain": [
              "Index(['Date', 'Time', 'CO(GT)', 'PT08.S1(CO)', 'NMHC(GT)', 'C6H6(GT)',\n",
              "       'PT08.S2(NMHC)', 'NOx(GT)', 'PT08.S3(NOx)', 'NO2(GT)', 'PT08.S4(NO2)',\n",
              "       'PT08.S5(O3)', 'T', 'RH', 'AH', 'Salida'],\n",
              "      dtype='object')"
            ]
          },
          "metadata": {},
          "execution_count": 41
        }
      ]
    },
    {
      "cell_type": "markdown",
      "source": [
        "### Modelo Redes Neuronales Artificiales (NN)"
      ],
      "metadata": {
        "id": "ZWN43Jpsc0Tr"
      }
    },
    {
      "cell_type": "code",
      "source": [
        "X = df[['CO(GT)','NO2(GT)','PT08.S2(NMHC)','PT08.S1(CO)','C6H6(GT)']]  \n",
        "\n",
        "y = df['Salida']"
      ],
      "metadata": {
        "id": "Q0wqPTGHczcJ"
      },
      "execution_count": null,
      "outputs": []
    },
    {
      "cell_type": "code",
      "source": [
        "X_train, X_test, y_train, y_test = train_test_split(X, y, stratify=y,\n",
        "                                                    train_size=0.3,\n",
        "                                                    )"
      ],
      "metadata": {
        "id": "kt_XLv4vdXX5"
      },
      "execution_count": null,
      "outputs": []
    },
    {
      "cell_type": "code",
      "source": [
        "parameters = {\n",
        "    'hidden_layer_sizes':[(100,),(10,50,10),(20,),(100,100)],\n",
        "    'activation':['logistic', 'tanh', 'relu'],\n",
        "    'learning_rate_init':np.arange(0.001,0.005,0.001),\n",
        "    'tol':np.arange(0.001,0.005,0.001),\n",
        "    'max_iter':np.arange(200,1000,100)\n",
        "}\n",
        "mlp_gs_air = MLPClassifier()\n",
        "RDSCV_air= RandomizedSearchCV(mlp_gs_air, \n",
        "                                       parameters,\n",
        "                                       cv=5, \n",
        "                                       n_iter=3)\n",
        "RDSCV_air.fit(X_train, y_train)"
      ],
      "metadata": {
        "colab": {
          "base_uri": "https://localhost:8080/"
        },
        "id": "Q2YJaDEogHJQ",
        "outputId": "f05a1c4d-0fa0-4966-d555-590ef9f7a706"
      },
      "execution_count": null,
      "outputs": [
        {
          "output_type": "execute_result",
          "data": {
            "text/plain": [
              "RandomizedSearchCV(cv=5, estimator=MLPClassifier(), n_iter=3,\n",
              "                   param_distributions={'activation': ['logistic', 'tanh',\n",
              "                                                       'relu'],\n",
              "                                        'hidden_layer_sizes': [(100,),\n",
              "                                                               (10, 50, 10),\n",
              "                                                               (20,),\n",
              "                                                               (100, 100)],\n",
              "                                        'learning_rate_init': array([0.001, 0.002, 0.003, 0.004]),\n",
              "                                        'max_iter': array([200, 300, 400, 500, 600, 700, 800, 900]),\n",
              "                                        'tol': array([0.001, 0.002, 0.003, 0.004])})"
            ]
          },
          "metadata": {},
          "execution_count": 48
        }
      ]
    },
    {
      "cell_type": "code",
      "source": [
        "print(RDSCV_air.best_score_)\n",
        "print(RDSCV_air.best_params_)"
      ],
      "metadata": {
        "colab": {
          "base_uri": "https://localhost:8080/"
        },
        "id": "rCrxk9kck9PQ",
        "outputId": "b3358f09-07ec-4fcb-bd93-fcd148680644"
      },
      "execution_count": null,
      "outputs": [
        {
          "output_type": "stream",
          "name": "stdout",
          "text": [
            "0.8222857142857143\n",
            "{'tol': 0.003, 'max_iter': 300, 'learning_rate_init': 0.004, 'hidden_layer_sizes': (100,), 'activation': 'logistic'}\n"
          ]
        }
      ]
    },
    {
      "cell_type": "code",
      "source": [
        "pred_y_nn = RDSCV_air.predict(X_test)\n",
        "f1_score(y_test, pred_y_nn,average='weighted')   "
      ],
      "metadata": {
        "id": "PDKsAX4clKS7",
        "colab": {
          "base_uri": "https://localhost:8080/"
        },
        "outputId": "1d3536d5-d229-4d50-ca35-2a91efcc83f6"
      },
      "execution_count": null,
      "outputs": [
        {
          "output_type": "execute_result",
          "data": {
            "text/plain": [
              "0.7065219264701129"
            ]
          },
          "metadata": {},
          "execution_count": 90
        }
      ]
    },
    {
      "cell_type": "markdown",
      "source": [
        "Como no se alcanzo el puntaje objetivo para nuestro modelo se obta por intentar un esquemas de fusion para ver si se puede mejorar el rendimiento"
      ],
      "metadata": {
        "id": "ItmcPXjhtA3r"
      }
    },
    {
      "cell_type": "markdown",
      "source": [
        "### SVM "
      ],
      "metadata": {
        "id": "W25VaF1vtDOR"
      }
    },
    {
      "cell_type": "code",
      "source": [
        "X_2 = df[['CO(GT)','NO2(GT)','PT08.S2(NMHC)','PT08.S1(CO)','C6H6(GT)']]  \n",
        "\n",
        "y_2 = df['Salida']\n",
        "\n",
        "X_train_2, X_test_2, y_train_2, y_test_2 = train_test_split(X_2, y_2, stratify=y_2,\n",
        "                                                    train_size=0.3,\n",
        "                                                    )"
      ],
      "metadata": {
        "id": "fPJmDP4bud_Q"
      },
      "execution_count": null,
      "outputs": []
    },
    {
      "cell_type": "code",
      "source": [
        "scaler = StandardScaler()\n",
        "scaler.fit(X_train_2)\n",
        "x_train_2 = scaler.transform(X_train_2)\n",
        "\n",
        "SVM = svm.SVC()\n",
        "parameters = {\n",
        "    'kernel':['linear', 'poly', 'rbf', 'sigmoid', 'precomputed'],\n",
        "    'decision_function_shape':['ovo', 'ovr']\n",
        "}\n",
        "\n",
        "RDSCV_SVM = RandomizedSearchCV(SVM, \n",
        "                                       parameters,\n",
        "                                       cv=5, \n",
        "                                       n_iter=3)"
      ],
      "metadata": {
        "id": "XfoXBX9-tG3j"
      },
      "execution_count": null,
      "outputs": []
    },
    {
      "cell_type": "code",
      "source": [
        "RDSCV_SVM.fit(X_train_2, y_train_2)"
      ],
      "metadata": {
        "colab": {
          "base_uri": "https://localhost:8080/"
        },
        "id": "2A9Lp2KXtmVf",
        "outputId": "1a8eff00-8bb6-42bc-f627-5c277b589c83"
      },
      "execution_count": null,
      "outputs": [
        {
          "output_type": "execute_result",
          "data": {
            "text/plain": [
              "RandomizedSearchCV(cv=5, estimator=SVC(), n_iter=3,\n",
              "                   param_distributions={'decision_function_shape': ['ovo',\n",
              "                                                                    'ovr'],\n",
              "                                        'kernel': ['linear', 'poly', 'rbf',\n",
              "                                                   'sigmoid', 'precomputed']})"
            ]
          },
          "metadata": {},
          "execution_count": 66
        }
      ]
    },
    {
      "cell_type": "code",
      "source": [
        "print(RDSCV_SVM.best_score_)\n",
        "print(RDSCV_SVM.best_params_)"
      ],
      "metadata": {
        "colab": {
          "base_uri": "https://localhost:8080/"
        },
        "id": "aYqgoSCvu7l6",
        "outputId": "860a11c5-4624-4e91-dd28-76067f3de975"
      },
      "execution_count": null,
      "outputs": [
        {
          "output_type": "stream",
          "name": "stdout",
          "text": [
            "0.9234285714285713\n",
            "{'kernel': 'poly', 'decision_function_shape': 'ovr'}\n"
          ]
        }
      ]
    },
    {
      "cell_type": "code",
      "source": [
        "pred_y_svm = RDSCV_SVM.predict(X_test)\n",
        "f1_score(y_test, pred_y_svm,average='weighted')   "
      ],
      "metadata": {
        "colab": {
          "base_uri": "https://localhost:8080/"
        },
        "id": "cJIuctsitsIo",
        "outputId": "20ed0f96-b4ad-4e84-dcea-f523c10dbea6"
      },
      "execution_count": null,
      "outputs": [
        {
          "output_type": "execute_result",
          "data": {
            "text/plain": [
              "0.9138298526445897"
            ]
          },
          "metadata": {},
          "execution_count": 89
        }
      ]
    },
    {
      "cell_type": "markdown",
      "source": [
        "### Arbol"
      ],
      "metadata": {
        "id": "f33YYkV6vPSJ"
      }
    },
    {
      "cell_type": "code",
      "source": [
        "X_3 = df[['CO(GT)','NO2(GT)','PT08.S2(NMHC)','PT08.S1(CO)','C6H6(GT)']]  \n",
        "\n",
        "y_3 = df['Salida']\n",
        "\n",
        "X_train_3, X_test_3, y_train_3, y_test_3 = train_test_split(X_3, y_3, stratify=y_3,\n",
        "                                                    train_size=0.3,\n",
        "                                                    )"
      ],
      "metadata": {
        "id": "N_UWJ9d6vS8n"
      },
      "execution_count": null,
      "outputs": []
    },
    {
      "cell_type": "code",
      "source": [
        "ARBOL = DecisionTreeClassifier()"
      ],
      "metadata": {
        "id": "0yyApJnSvlsW"
      },
      "execution_count": null,
      "outputs": []
    },
    {
      "cell_type": "code",
      "source": [
        "parameters = {'max_depth' : (3,5,7,9,10,15,20,25)\n",
        "              , 'criterion' : ('gini', 'entropy')\n",
        "              , 'max_features' : ('auto', 'sqrt', 'log2')\n",
        "              , 'min_samples_split' : (2,4,6)\n",
        "              ,'splitter' : ('best', 'random')\n",
        "             }\n"
      ],
      "metadata": {
        "id": "_5-6BwRCvsLu"
      },
      "execution_count": null,
      "outputs": []
    },
    {
      "cell_type": "code",
      "source": [
        "RDSCV_ARBOL  = RandomizedSearchCV(ARBOL, \n",
        "                                  param_distributions = parameters, \n",
        "                                  cv = 5, \n",
        "                                  verbose = True)"
      ],
      "metadata": {
        "id": "hyjEAGOCvxLp"
      },
      "execution_count": null,
      "outputs": []
    },
    {
      "cell_type": "code",
      "source": [
        "RDSCV_ARBOL.fit(X_train_3,y_train_3)"
      ],
      "metadata": {
        "colab": {
          "base_uri": "https://localhost:8080/"
        },
        "id": "Z1qAie42v4V3",
        "outputId": "d27dac90-e825-4691-89c4-3ef2b3f9a0e2"
      },
      "execution_count": null,
      "outputs": [
        {
          "output_type": "stream",
          "name": "stdout",
          "text": [
            "Fitting 5 folds for each of 10 candidates, totalling 50 fits\n"
          ]
        },
        {
          "output_type": "execute_result",
          "data": {
            "text/plain": [
              "RandomizedSearchCV(cv=5, estimator=DecisionTreeClassifier(),\n",
              "                   param_distributions={'criterion': ('gini', 'entropy'),\n",
              "                                        'max_depth': (3, 5, 7, 9, 10, 15, 20,\n",
              "                                                      25),\n",
              "                                        'max_features': ('auto', 'sqrt',\n",
              "                                                         'log2'),\n",
              "                                        'min_samples_split': (2, 4, 6),\n",
              "                                        'splitter': ('best', 'random')},\n",
              "                   verbose=True)"
            ]
          },
          "metadata": {},
          "execution_count": 74
        }
      ]
    },
    {
      "cell_type": "code",
      "source": [
        "print(RDSCV_ARBOL.best_score_)\n",
        "print(RDSCV_ARBOL.best_params_)"
      ],
      "metadata": {
        "colab": {
          "base_uri": "https://localhost:8080/"
        },
        "id": "2-hSE1eVv-Xr",
        "outputId": "60120d64-91c7-4921-8679-7dc1c1e4e6f0"
      },
      "execution_count": null,
      "outputs": [
        {
          "output_type": "stream",
          "name": "stdout",
          "text": [
            "0.9879999999999999\n",
            "{'splitter': 'best', 'min_samples_split': 4, 'max_features': 'auto', 'max_depth': 10, 'criterion': 'gini'}\n"
          ]
        }
      ]
    },
    {
      "cell_type": "code",
      "source": [
        "modelo = DecisionTreeClassifier(splitter='best', min_samples_split= 4, max_features= 'auto', max_depth= 10, criterion= 'gini')\n",
        "modelo.fit(X_train_3,y_train_3)\n",
        "pred_y_arbol = modelo.predict(X_test_3)\n",
        "f1_score(y_test_3, pred_y_arbol,average='weighted')  \n"
      ],
      "metadata": {
        "colab": {
          "base_uri": "https://localhost:8080/"
        },
        "id": "2GcTxJEo4voG",
        "outputId": "37b50004-3db6-4026-9e32-82625a50f971"
      },
      "execution_count": null,
      "outputs": [
        {
          "output_type": "execute_result",
          "data": {
            "text/plain": [
              "0.9897510314929469"
            ]
          },
          "metadata": {},
          "execution_count": 88
        }
      ]
    },
    {
      "cell_type": "markdown",
      "source": [
        "### KNeighborsClassifier"
      ],
      "metadata": {
        "id": "NdG81aFSEATr"
      }
    },
    {
      "cell_type": "code",
      "source": [
        "X_4 = df[['CO(GT)','NO2(GT)','PT08.S2(NMHC)','PT08.S1(CO)','C6H6(GT)']]  \n",
        "\n",
        "y_4 = df['Salida']\n",
        "\n",
        "X_train_4, X_test_4, y_train_4, y_test_4 = train_test_split(X_4, y_4, stratify=y_4,\n",
        "                                                    train_size=0.3,\n",
        "                                                    )"
      ],
      "metadata": {
        "id": "Qqvefh4AFBAH"
      },
      "execution_count": null,
      "outputs": []
    },
    {
      "cell_type": "code",
      "source": [
        "knn = KNeighborsClassifier()"
      ],
      "metadata": {
        "id": "aR9vg8EUEIod"
      },
      "execution_count": null,
      "outputs": []
    },
    {
      "cell_type": "code",
      "source": [
        "parameters = {'n_neighbors' : (5,7,9,10,15,20,25)\n",
        "              , 'weights' : ('uniform', 'distance')\n",
        "              , 'algorithm' : ('auto', 'ball_tree', 'kd_tree','brute')\n",
        "             }"
      ],
      "metadata": {
        "id": "nV35zECVEQUz"
      },
      "execution_count": null,
      "outputs": []
    },
    {
      "cell_type": "code",
      "source": [
        "RDSCV_KNN  = RandomizedSearchCV(knn, \n",
        "                                  param_distributions = parameters, \n",
        "                                  cv = 5, \n",
        "                                  verbose = True)"
      ],
      "metadata": {
        "id": "FTTKUu4bE-RL"
      },
      "execution_count": null,
      "outputs": []
    },
    {
      "cell_type": "code",
      "source": [
        "RDSCV_KNN.fit(X_train_4,y_train_4)"
      ],
      "metadata": {
        "colab": {
          "base_uri": "https://localhost:8080/"
        },
        "id": "eVNwsQpgFUVT",
        "outputId": "9bed97e2-a575-4b2b-d8d8-d311fad7a512"
      },
      "execution_count": null,
      "outputs": [
        {
          "output_type": "stream",
          "name": "stdout",
          "text": [
            "Fitting 5 folds for each of 10 candidates, totalling 50 fits\n"
          ]
        },
        {
          "output_type": "execute_result",
          "data": {
            "text/plain": [
              "RandomizedSearchCV(cv=5, estimator=KNeighborsClassifier(),\n",
              "                   param_distributions={'algorithm': ('auto', 'ball_tree',\n",
              "                                                      'kd_tree', 'brute'),\n",
              "                                        'n_neighbors': (5, 7, 9, 10, 15, 20,\n",
              "                                                        25),\n",
              "                                        'weights': ('uniform', 'distance')},\n",
              "                   verbose=True)"
            ]
          },
          "metadata": {},
          "execution_count": 100
        }
      ]
    },
    {
      "cell_type": "code",
      "source": [
        "print(RDSCV_KNN.best_score_)\n",
        "print(RDSCV_KNN.best_params_)"
      ],
      "metadata": {
        "colab": {
          "base_uri": "https://localhost:8080/"
        },
        "id": "LsqQTMFKFr9f",
        "outputId": "0cd8385b-6ffd-4a00-f018-23361006ec3d"
      },
      "execution_count": null,
      "outputs": [
        {
          "output_type": "stream",
          "name": "stdout",
          "text": [
            "0.931265306122449\n",
            "{'weights': 'distance', 'n_neighbors': 10, 'algorithm': 'ball_tree'}\n"
          ]
        }
      ]
    },
    {
      "cell_type": "code",
      "source": [
        "pred_y_KNN = RDSCV_KNN.predict(X_test_3)\n",
        "f1_score(y_test_4, pred_y_arbol,average='weighted')  "
      ],
      "metadata": {
        "colab": {
          "base_uri": "https://localhost:8080/"
        },
        "id": "fLbVrlW7F2dL",
        "outputId": "a6b40aca-d9dc-4eeb-b1b2-0b821a423c0a"
      },
      "execution_count": null,
      "outputs": [
        {
          "output_type": "execute_result",
          "data": {
            "text/plain": [
              "0.5588523399461092"
            ]
          },
          "metadata": {},
          "execution_count": 102
        }
      ]
    },
    {
      "cell_type": "markdown",
      "source": [
        "### Naive Bayes"
      ],
      "metadata": {
        "id": "n0bK61EmIKjN"
      }
    },
    {
      "cell_type": "code",
      "source": [
        "X_5 = df[['CO(GT)','NO2(GT)','PT08.S2(NMHC)','PT08.S1(CO)','C6H6(GT)']]  \n",
        "\n",
        "y_5 = df['Salida']\n",
        "\n",
        "X_train_5, X_test_5,y_train_5, y_test_5 = train_test_split(X_5, y_5, stratify=y_5,\n",
        "                                                    train_size=0.3,\n",
        "                                                    )"
      ],
      "metadata": {
        "id": "QCB4Cai0Ig7y"
      },
      "execution_count": null,
      "outputs": []
    },
    {
      "cell_type": "code",
      "source": [
        "gnb = GaussianNB()"
      ],
      "metadata": {
        "id": "AzsG6FLqILj0"
      },
      "execution_count": null,
      "outputs": []
    },
    {
      "cell_type": "code",
      "source": [
        "gnb.fit(X_train_5,y_train_5)"
      ],
      "metadata": {
        "colab": {
          "base_uri": "https://localhost:8080/"
        },
        "id": "c3_-j7hAIvLK",
        "outputId": "99b00cd8-63ce-4911-b889-56ef6b2eb6f9"
      },
      "execution_count": null,
      "outputs": [
        {
          "output_type": "execute_result",
          "data": {
            "text/plain": [
              "GaussianNB()"
            ]
          },
          "metadata": {},
          "execution_count": 111
        }
      ]
    },
    {
      "cell_type": "code",
      "source": [
        "gnb.score(X_train_5,y_train_5)"
      ],
      "metadata": {
        "colab": {
          "base_uri": "https://localhost:8080/"
        },
        "id": "wNVZnbNEJCJ6",
        "outputId": "ae4a17ec-cacc-45dc-ff6c-4aff4cd30891"
      },
      "execution_count": null,
      "outputs": [
        {
          "output_type": "execute_result",
          "data": {
            "text/plain": [
              "0.9435483870967742"
            ]
          },
          "metadata": {},
          "execution_count": 112
        }
      ]
    },
    {
      "cell_type": "code",
      "source": [
        "pred_y_NV = gnb.predict(X_test_5)\n",
        "f1_score(y_test_5, pred_y_NV,average='weighted')"
      ],
      "metadata": {
        "colab": {
          "base_uri": "https://localhost:8080/"
        },
        "id": "RomeSIvnJI9r",
        "outputId": "07b5f10c-85b9-4599-c966-f4d4dc0fbea9"
      },
      "execution_count": null,
      "outputs": [
        {
          "output_type": "execute_result",
          "data": {
            "text/plain": [
              "0.8883088791379224"
            ]
          },
          "metadata": {},
          "execution_count": 113
        }
      ]
    },
    {
      "cell_type": "markdown",
      "source": [
        "### Metodo de Fusion"
      ],
      "metadata": {
        "id": "vG3MD4D99Cfk"
      }
    },
    {
      "cell_type": "code",
      "source": [
        "df_fusion = pd.DataFrame()\n",
        "df_fusion['SVM_MODEL'] = pred_y_svm\n",
        "df_fusion['ARBOL_MODEL'] = pred_y_arbol\n",
        "df_fusion['NN_MODEL'] = pred_y_nn\n",
        "df_fusion['KNN_MODEL'] = pred_y_KNN\n",
        "df_fusion['NB_MODEL'] = pred_y_KNN\n",
        "df_fusion"
      ],
      "metadata": {
        "colab": {
          "base_uri": "https://localhost:8080/",
          "height": 424
        },
        "id": "cXwKulwQ9Bu4",
        "outputId": "598cea97-76e5-466b-b7ee-3fb82e6c3bb3"
      },
      "execution_count": null,
      "outputs": [
        {
          "output_type": "execute_result",
          "data": {
            "text/plain": [
              "     SVM_MODEL  ARBOL_MODEL  NN_MODEL  KNN_MODEL  NB_MODEL\n",
              "0            1            1         1          1         1\n",
              "1            1            0         1          0         0\n",
              "2            1            0         1          0         0\n",
              "3            1            1         0          1         1\n",
              "4            1            1         1          1         1\n",
              "..         ...          ...       ...        ...       ...\n",
              "574          1            1         1          1         1\n",
              "575          1            1         1          1         1\n",
              "576          1            2         1          2         2\n",
              "577          1            0         1          1         1\n",
              "578          1            1         1          1         1\n",
              "\n",
              "[579 rows x 5 columns]"
            ],
            "text/html": [
              "\n",
              "  <div id=\"df-67a29433-cf6e-4206-af65-f9effbf67a78\">\n",
              "    <div class=\"colab-df-container\">\n",
              "      <div>\n",
              "<style scoped>\n",
              "    .dataframe tbody tr th:only-of-type {\n",
              "        vertical-align: middle;\n",
              "    }\n",
              "\n",
              "    .dataframe tbody tr th {\n",
              "        vertical-align: top;\n",
              "    }\n",
              "\n",
              "    .dataframe thead th {\n",
              "        text-align: right;\n",
              "    }\n",
              "</style>\n",
              "<table border=\"1\" class=\"dataframe\">\n",
              "  <thead>\n",
              "    <tr style=\"text-align: right;\">\n",
              "      <th></th>\n",
              "      <th>SVM_MODEL</th>\n",
              "      <th>ARBOL_MODEL</th>\n",
              "      <th>NN_MODEL</th>\n",
              "      <th>KNN_MODEL</th>\n",
              "      <th>NB_MODEL</th>\n",
              "    </tr>\n",
              "  </thead>\n",
              "  <tbody>\n",
              "    <tr>\n",
              "      <th>0</th>\n",
              "      <td>1</td>\n",
              "      <td>1</td>\n",
              "      <td>1</td>\n",
              "      <td>1</td>\n",
              "      <td>1</td>\n",
              "    </tr>\n",
              "    <tr>\n",
              "      <th>1</th>\n",
              "      <td>1</td>\n",
              "      <td>0</td>\n",
              "      <td>1</td>\n",
              "      <td>0</td>\n",
              "      <td>0</td>\n",
              "    </tr>\n",
              "    <tr>\n",
              "      <th>2</th>\n",
              "      <td>1</td>\n",
              "      <td>0</td>\n",
              "      <td>1</td>\n",
              "      <td>0</td>\n",
              "      <td>0</td>\n",
              "    </tr>\n",
              "    <tr>\n",
              "      <th>3</th>\n",
              "      <td>1</td>\n",
              "      <td>1</td>\n",
              "      <td>0</td>\n",
              "      <td>1</td>\n",
              "      <td>1</td>\n",
              "    </tr>\n",
              "    <tr>\n",
              "      <th>4</th>\n",
              "      <td>1</td>\n",
              "      <td>1</td>\n",
              "      <td>1</td>\n",
              "      <td>1</td>\n",
              "      <td>1</td>\n",
              "    </tr>\n",
              "    <tr>\n",
              "      <th>...</th>\n",
              "      <td>...</td>\n",
              "      <td>...</td>\n",
              "      <td>...</td>\n",
              "      <td>...</td>\n",
              "      <td>...</td>\n",
              "    </tr>\n",
              "    <tr>\n",
              "      <th>574</th>\n",
              "      <td>1</td>\n",
              "      <td>1</td>\n",
              "      <td>1</td>\n",
              "      <td>1</td>\n",
              "      <td>1</td>\n",
              "    </tr>\n",
              "    <tr>\n",
              "      <th>575</th>\n",
              "      <td>1</td>\n",
              "      <td>1</td>\n",
              "      <td>1</td>\n",
              "      <td>1</td>\n",
              "      <td>1</td>\n",
              "    </tr>\n",
              "    <tr>\n",
              "      <th>576</th>\n",
              "      <td>1</td>\n",
              "      <td>2</td>\n",
              "      <td>1</td>\n",
              "      <td>2</td>\n",
              "      <td>2</td>\n",
              "    </tr>\n",
              "    <tr>\n",
              "      <th>577</th>\n",
              "      <td>1</td>\n",
              "      <td>0</td>\n",
              "      <td>1</td>\n",
              "      <td>1</td>\n",
              "      <td>1</td>\n",
              "    </tr>\n",
              "    <tr>\n",
              "      <th>578</th>\n",
              "      <td>1</td>\n",
              "      <td>1</td>\n",
              "      <td>1</td>\n",
              "      <td>1</td>\n",
              "      <td>1</td>\n",
              "    </tr>\n",
              "  </tbody>\n",
              "</table>\n",
              "<p>579 rows × 5 columns</p>\n",
              "</div>\n",
              "      <button class=\"colab-df-convert\" onclick=\"convertToInteractive('df-67a29433-cf6e-4206-af65-f9effbf67a78')\"\n",
              "              title=\"Convert this dataframe to an interactive table.\"\n",
              "              style=\"display:none;\">\n",
              "        \n",
              "  <svg xmlns=\"http://www.w3.org/2000/svg\" height=\"24px\"viewBox=\"0 0 24 24\"\n",
              "       width=\"24px\">\n",
              "    <path d=\"M0 0h24v24H0V0z\" fill=\"none\"/>\n",
              "    <path d=\"M18.56 5.44l.94 2.06.94-2.06 2.06-.94-2.06-.94-.94-2.06-.94 2.06-2.06.94zm-11 1L8.5 8.5l.94-2.06 2.06-.94-2.06-.94L8.5 2.5l-.94 2.06-2.06.94zm10 10l.94 2.06.94-2.06 2.06-.94-2.06-.94-.94-2.06-.94 2.06-2.06.94z\"/><path d=\"M17.41 7.96l-1.37-1.37c-.4-.4-.92-.59-1.43-.59-.52 0-1.04.2-1.43.59L10.3 9.45l-7.72 7.72c-.78.78-.78 2.05 0 2.83L4 21.41c.39.39.9.59 1.41.59.51 0 1.02-.2 1.41-.59l7.78-7.78 2.81-2.81c.8-.78.8-2.07 0-2.86zM5.41 20L4 18.59l7.72-7.72 1.47 1.35L5.41 20z\"/>\n",
              "  </svg>\n",
              "      </button>\n",
              "      \n",
              "  <style>\n",
              "    .colab-df-container {\n",
              "      display:flex;\n",
              "      flex-wrap:wrap;\n",
              "      gap: 12px;\n",
              "    }\n",
              "\n",
              "    .colab-df-convert {\n",
              "      background-color: #E8F0FE;\n",
              "      border: none;\n",
              "      border-radius: 50%;\n",
              "      cursor: pointer;\n",
              "      display: none;\n",
              "      fill: #1967D2;\n",
              "      height: 32px;\n",
              "      padding: 0 0 0 0;\n",
              "      width: 32px;\n",
              "    }\n",
              "\n",
              "    .colab-df-convert:hover {\n",
              "      background-color: #E2EBFA;\n",
              "      box-shadow: 0px 1px 2px rgba(60, 64, 67, 0.3), 0px 1px 3px 1px rgba(60, 64, 67, 0.15);\n",
              "      fill: #174EA6;\n",
              "    }\n",
              "\n",
              "    [theme=dark] .colab-df-convert {\n",
              "      background-color: #3B4455;\n",
              "      fill: #D2E3FC;\n",
              "    }\n",
              "\n",
              "    [theme=dark] .colab-df-convert:hover {\n",
              "      background-color: #434B5C;\n",
              "      box-shadow: 0px 1px 3px 1px rgba(0, 0, 0, 0.15);\n",
              "      filter: drop-shadow(0px 1px 2px rgba(0, 0, 0, 0.3));\n",
              "      fill: #FFFFFF;\n",
              "    }\n",
              "  </style>\n",
              "\n",
              "      <script>\n",
              "        const buttonEl =\n",
              "          document.querySelector('#df-67a29433-cf6e-4206-af65-f9effbf67a78 button.colab-df-convert');\n",
              "        buttonEl.style.display =\n",
              "          google.colab.kernel.accessAllowed ? 'block' : 'none';\n",
              "\n",
              "        async function convertToInteractive(key) {\n",
              "          const element = document.querySelector('#df-67a29433-cf6e-4206-af65-f9effbf67a78');\n",
              "          const dataTable =\n",
              "            await google.colab.kernel.invokeFunction('convertToInteractive',\n",
              "                                                     [key], {});\n",
              "          if (!dataTable) return;\n",
              "\n",
              "          const docLinkHtml = 'Like what you see? Visit the ' +\n",
              "            '<a target=\"_blank\" href=https://colab.research.google.com/notebooks/data_table.ipynb>data table notebook</a>'\n",
              "            + ' to learn more about interactive tables.';\n",
              "          element.innerHTML = '';\n",
              "          dataTable['output_type'] = 'display_data';\n",
              "          await google.colab.output.renderOutput(dataTable, element);\n",
              "          const docLink = document.createElement('div');\n",
              "          docLink.innerHTML = docLinkHtml;\n",
              "          element.appendChild(docLink);\n",
              "        }\n",
              "      </script>\n",
              "    </div>\n",
              "  </div>\n",
              "  "
            ]
          },
          "metadata": {},
          "execution_count": 114
        }
      ]
    },
    {
      "cell_type": "code",
      "source": [
        "salida_fusion = []\n",
        "for index, row in df_fusion.iterrows(): \n",
        "    lista_vot = [row['SVM_MODEL'],row['ARBOL_MODEL'],row['NN_MODEL'],row['KNN_MODEL'],row['NB_MODEL']]\n",
        "    votos = modaJC(lista_vot)\n",
        "    if len(votos) == 1:\n",
        "      result = votos[0]\n",
        "    else:\n",
        "      result = random.choice(votos)\n",
        "\n",
        "    salida_fusion.append(result)"
      ],
      "metadata": {
        "id": "vNjCUhvp_-zp"
      },
      "execution_count": 120,
      "outputs": []
    },
    {
      "cell_type": "markdown",
      "source": [
        "Como se presentaban empates en algunas casos se opto que cuando sea un empate se escoja de manera aletoria el ganador para que esta sea nuestra salida."
      ],
      "metadata": {
        "id": "JYG6nleHt2hl"
      }
    },
    {
      "cell_type": "code",
      "source": [
        "df_fusion['Salida'] = salida_fusion\n",
        "df_fusion"
      ],
      "metadata": {
        "colab": {
          "base_uri": "https://localhost:8080/",
          "height": 424
        },
        "id": "e_3qhlDgArbM",
        "outputId": "2c288b6d-6686-4b58-be6e-6ccce57d34cb"
      },
      "execution_count": 122,
      "outputs": [
        {
          "output_type": "execute_result",
          "data": {
            "text/plain": [
              "     SVM_MODEL  ARBOL_MODEL  NN_MODEL  KNN_MODEL  NB_MODEL  Salida\n",
              "0            1            1         1          1         1       1\n",
              "1            1            0         1          0         0       0\n",
              "2            1            0         1          0         0       0\n",
              "3            1            1         0          1         1       1\n",
              "4            1            1         1          1         1       1\n",
              "..         ...          ...       ...        ...       ...     ...\n",
              "574          1            1         1          1         1       1\n",
              "575          1            1         1          1         1       1\n",
              "576          1            2         1          2         2       2\n",
              "577          1            0         1          1         1       1\n",
              "578          1            1         1          1         1       1\n",
              "\n",
              "[579 rows x 6 columns]"
            ],
            "text/html": [
              "\n",
              "  <div id=\"df-18692775-94ed-45d7-80ce-7157dfa62656\">\n",
              "    <div class=\"colab-df-container\">\n",
              "      <div>\n",
              "<style scoped>\n",
              "    .dataframe tbody tr th:only-of-type {\n",
              "        vertical-align: middle;\n",
              "    }\n",
              "\n",
              "    .dataframe tbody tr th {\n",
              "        vertical-align: top;\n",
              "    }\n",
              "\n",
              "    .dataframe thead th {\n",
              "        text-align: right;\n",
              "    }\n",
              "</style>\n",
              "<table border=\"1\" class=\"dataframe\">\n",
              "  <thead>\n",
              "    <tr style=\"text-align: right;\">\n",
              "      <th></th>\n",
              "      <th>SVM_MODEL</th>\n",
              "      <th>ARBOL_MODEL</th>\n",
              "      <th>NN_MODEL</th>\n",
              "      <th>KNN_MODEL</th>\n",
              "      <th>NB_MODEL</th>\n",
              "      <th>Salida</th>\n",
              "    </tr>\n",
              "  </thead>\n",
              "  <tbody>\n",
              "    <tr>\n",
              "      <th>0</th>\n",
              "      <td>1</td>\n",
              "      <td>1</td>\n",
              "      <td>1</td>\n",
              "      <td>1</td>\n",
              "      <td>1</td>\n",
              "      <td>1</td>\n",
              "    </tr>\n",
              "    <tr>\n",
              "      <th>1</th>\n",
              "      <td>1</td>\n",
              "      <td>0</td>\n",
              "      <td>1</td>\n",
              "      <td>0</td>\n",
              "      <td>0</td>\n",
              "      <td>0</td>\n",
              "    </tr>\n",
              "    <tr>\n",
              "      <th>2</th>\n",
              "      <td>1</td>\n",
              "      <td>0</td>\n",
              "      <td>1</td>\n",
              "      <td>0</td>\n",
              "      <td>0</td>\n",
              "      <td>0</td>\n",
              "    </tr>\n",
              "    <tr>\n",
              "      <th>3</th>\n",
              "      <td>1</td>\n",
              "      <td>1</td>\n",
              "      <td>0</td>\n",
              "      <td>1</td>\n",
              "      <td>1</td>\n",
              "      <td>1</td>\n",
              "    </tr>\n",
              "    <tr>\n",
              "      <th>4</th>\n",
              "      <td>1</td>\n",
              "      <td>1</td>\n",
              "      <td>1</td>\n",
              "      <td>1</td>\n",
              "      <td>1</td>\n",
              "      <td>1</td>\n",
              "    </tr>\n",
              "    <tr>\n",
              "      <th>...</th>\n",
              "      <td>...</td>\n",
              "      <td>...</td>\n",
              "      <td>...</td>\n",
              "      <td>...</td>\n",
              "      <td>...</td>\n",
              "      <td>...</td>\n",
              "    </tr>\n",
              "    <tr>\n",
              "      <th>574</th>\n",
              "      <td>1</td>\n",
              "      <td>1</td>\n",
              "      <td>1</td>\n",
              "      <td>1</td>\n",
              "      <td>1</td>\n",
              "      <td>1</td>\n",
              "    </tr>\n",
              "    <tr>\n",
              "      <th>575</th>\n",
              "      <td>1</td>\n",
              "      <td>1</td>\n",
              "      <td>1</td>\n",
              "      <td>1</td>\n",
              "      <td>1</td>\n",
              "      <td>1</td>\n",
              "    </tr>\n",
              "    <tr>\n",
              "      <th>576</th>\n",
              "      <td>1</td>\n",
              "      <td>2</td>\n",
              "      <td>1</td>\n",
              "      <td>2</td>\n",
              "      <td>2</td>\n",
              "      <td>2</td>\n",
              "    </tr>\n",
              "    <tr>\n",
              "      <th>577</th>\n",
              "      <td>1</td>\n",
              "      <td>0</td>\n",
              "      <td>1</td>\n",
              "      <td>1</td>\n",
              "      <td>1</td>\n",
              "      <td>1</td>\n",
              "    </tr>\n",
              "    <tr>\n",
              "      <th>578</th>\n",
              "      <td>1</td>\n",
              "      <td>1</td>\n",
              "      <td>1</td>\n",
              "      <td>1</td>\n",
              "      <td>1</td>\n",
              "      <td>1</td>\n",
              "    </tr>\n",
              "  </tbody>\n",
              "</table>\n",
              "<p>579 rows × 6 columns</p>\n",
              "</div>\n",
              "      <button class=\"colab-df-convert\" onclick=\"convertToInteractive('df-18692775-94ed-45d7-80ce-7157dfa62656')\"\n",
              "              title=\"Convert this dataframe to an interactive table.\"\n",
              "              style=\"display:none;\">\n",
              "        \n",
              "  <svg xmlns=\"http://www.w3.org/2000/svg\" height=\"24px\"viewBox=\"0 0 24 24\"\n",
              "       width=\"24px\">\n",
              "    <path d=\"M0 0h24v24H0V0z\" fill=\"none\"/>\n",
              "    <path d=\"M18.56 5.44l.94 2.06.94-2.06 2.06-.94-2.06-.94-.94-2.06-.94 2.06-2.06.94zm-11 1L8.5 8.5l.94-2.06 2.06-.94-2.06-.94L8.5 2.5l-.94 2.06-2.06.94zm10 10l.94 2.06.94-2.06 2.06-.94-2.06-.94-.94-2.06-.94 2.06-2.06.94z\"/><path d=\"M17.41 7.96l-1.37-1.37c-.4-.4-.92-.59-1.43-.59-.52 0-1.04.2-1.43.59L10.3 9.45l-7.72 7.72c-.78.78-.78 2.05 0 2.83L4 21.41c.39.39.9.59 1.41.59.51 0 1.02-.2 1.41-.59l7.78-7.78 2.81-2.81c.8-.78.8-2.07 0-2.86zM5.41 20L4 18.59l7.72-7.72 1.47 1.35L5.41 20z\"/>\n",
              "  </svg>\n",
              "      </button>\n",
              "      \n",
              "  <style>\n",
              "    .colab-df-container {\n",
              "      display:flex;\n",
              "      flex-wrap:wrap;\n",
              "      gap: 12px;\n",
              "    }\n",
              "\n",
              "    .colab-df-convert {\n",
              "      background-color: #E8F0FE;\n",
              "      border: none;\n",
              "      border-radius: 50%;\n",
              "      cursor: pointer;\n",
              "      display: none;\n",
              "      fill: #1967D2;\n",
              "      height: 32px;\n",
              "      padding: 0 0 0 0;\n",
              "      width: 32px;\n",
              "    }\n",
              "\n",
              "    .colab-df-convert:hover {\n",
              "      background-color: #E2EBFA;\n",
              "      box-shadow: 0px 1px 2px rgba(60, 64, 67, 0.3), 0px 1px 3px 1px rgba(60, 64, 67, 0.15);\n",
              "      fill: #174EA6;\n",
              "    }\n",
              "\n",
              "    [theme=dark] .colab-df-convert {\n",
              "      background-color: #3B4455;\n",
              "      fill: #D2E3FC;\n",
              "    }\n",
              "\n",
              "    [theme=dark] .colab-df-convert:hover {\n",
              "      background-color: #434B5C;\n",
              "      box-shadow: 0px 1px 3px 1px rgba(0, 0, 0, 0.15);\n",
              "      filter: drop-shadow(0px 1px 2px rgba(0, 0, 0, 0.3));\n",
              "      fill: #FFFFFF;\n",
              "    }\n",
              "  </style>\n",
              "\n",
              "      <script>\n",
              "        const buttonEl =\n",
              "          document.querySelector('#df-18692775-94ed-45d7-80ce-7157dfa62656 button.colab-df-convert');\n",
              "        buttonEl.style.display =\n",
              "          google.colab.kernel.accessAllowed ? 'block' : 'none';\n",
              "\n",
              "        async function convertToInteractive(key) {\n",
              "          const element = document.querySelector('#df-18692775-94ed-45d7-80ce-7157dfa62656');\n",
              "          const dataTable =\n",
              "            await google.colab.kernel.invokeFunction('convertToInteractive',\n",
              "                                                     [key], {});\n",
              "          if (!dataTable) return;\n",
              "\n",
              "          const docLinkHtml = 'Like what you see? Visit the ' +\n",
              "            '<a target=\"_blank\" href=https://colab.research.google.com/notebooks/data_table.ipynb>data table notebook</a>'\n",
              "            + ' to learn more about interactive tables.';\n",
              "          element.innerHTML = '';\n",
              "          dataTable['output_type'] = 'display_data';\n",
              "          await google.colab.output.renderOutput(dataTable, element);\n",
              "          const docLink = document.createElement('div');\n",
              "          docLink.innerHTML = docLinkHtml;\n",
              "          element.appendChild(docLink);\n",
              "        }\n",
              "      </script>\n",
              "    </div>\n",
              "  </div>\n",
              "  "
            ]
          },
          "metadata": {},
          "execution_count": 122
        }
      ]
    },
    {
      "cell_type": "code",
      "source": [
        "\n",
        "print(f1_score(y_test_3, salida_fusion,average='weighted'))\n"
      ],
      "metadata": {
        "colab": {
          "base_uri": "https://localhost:8080/"
        },
        "id": "HyNIRZ3lUNd4",
        "outputId": "e043630a-56e9-4d69-9fce-997576b74e66"
      },
      "execution_count": 126,
      "outputs": [
        {
          "output_type": "stream",
          "name": "stdout",
          "text": [
            "0.9529129127135731\n"
          ]
        }
      ]
    },
    {
      "cell_type": "markdown",
      "source": [
        "Se logro mejorar el desempeño a comparacion de nuestro modelo con NN, gracias a el metodo de fusion"
      ],
      "metadata": {
        "id": "hGv3MXGsvpQv"
      }
    },
    {
      "cell_type": "code",
      "source": [],
      "metadata": {
        "id": "cSn8GC90vw4c"
      },
      "execution_count": null,
      "outputs": []
    }
  ]
}