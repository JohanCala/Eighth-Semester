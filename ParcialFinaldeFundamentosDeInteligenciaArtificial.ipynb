{
  "nbformat": 4,
  "nbformat_minor": 0,
  "metadata": {
    "colab": {
      "provenance": [],
      "mount_file_id": "1toKV_hm-fnJlrARG-eOgLU6vKrv9pfGl",
      "authorship_tag": "ABX9TyNuhWA57wv7EDhD7ECOy4/N",
      "include_colab_link": true
    },
    "kernelspec": {
      "name": "python3",
      "display_name": "Python 3"
    },
    "language_info": {
      "name": "python"
    }
  },
  "cells": [
    {
      "cell_type": "markdown",
      "metadata": {
        "id": "view-in-github",
        "colab_type": "text"
      },
      "source": [
        "<a href=\"https://colab.research.google.com/github/JohanCala/Eighth-Semester/blob/main/ParcialFinaldeFundamentosDeInteligenciaArtificial.ipynb\" target=\"_parent\"><img src=\"https://colab.research.google.com/assets/colab-badge.svg\" alt=\"Open In Colab\"/></a>"
      ]
    },
    {
      "cell_type": "markdown",
      "source": [
        "\n",
        "\n",
        "# Parcial Final de Fundamentos de Inteligencia Artificial\n",
        "Por: Johan E. Cala Torra y Silvia M. Coy Lizarazo\n",
        "\n"
      ],
      "metadata": {
        "id": "pv4fwNK3QO4L"
      }
    },
    {
      "cell_type": "markdown",
      "source": [
        "##  Descripción de los datos\n",
        "Esta base de datos incluye 18 grabaciones de ECG de larga duración de sujetos remitidos al **\"the Arrhythmia Laboratory\"** del Hospital Beth Israel de Boston (actual Centro Médico Beth Israel Deaconess). Los sujetos incluidos en esta base de datos no presentaban arritmias significativas; incluyen 5 hombres, de entre 26 y 45 años, y 13 mujeres, de entre 20 y 50 años.\n",
        "\n",
        "[ MIT-BIH Normal Sinus Rhythm Database](https://www.physionet.org/content/nsrdb/1.0.0/)\n",
        "\n"
      ],
      "metadata": {
        "id": "x9dlEbO1QVfA"
      }
    },
    {
      "cell_type": "markdown",
      "source": [
        "### Configuracion del entorno \n",
        "---\n",
        "\n",
        "para poder manejar las señales ECG necesitamos instalar el paquete **wfdb**, acompañado de las librerias para MachineLearning ofrecidas por **Sklearn** y librerias de manejo de datos como **Pandas**"
      ],
      "metadata": {
        "id": "ix8vW9_QRv2h"
      }
    },
    {
      "cell_type": "code",
      "source": [
        "pip install wfdb"
      ],
      "metadata": {
        "colab": {
          "base_uri": "https://localhost:8080/"
        },
        "id": "oRh88pdQQRDg",
        "outputId": "df7df877-a1fb-493c-9c11-3b9d391f7567"
      },
      "execution_count": 1,
      "outputs": [
        {
          "output_type": "stream",
          "name": "stdout",
          "text": [
            "Looking in indexes: https://pypi.org/simple, https://us-python.pkg.dev/colab-wheels/public/simple/\n",
            "Collecting wfdb\n",
            "  Downloading wfdb-4.0.0-py3-none-any.whl (161 kB)\n",
            "\u001b[K     |████████████████████████████████| 161 kB 28.1 MB/s \n",
            "\u001b[?25hRequirement already satisfied: numpy<2.0.0,>=1.10.1 in /usr/local/lib/python3.7/dist-packages (from wfdb) (1.21.6)\n",
            "Requirement already satisfied: SoundFile<0.12.0,>=0.10.0 in /usr/local/lib/python3.7/dist-packages (from wfdb) (0.11.0)\n",
            "Requirement already satisfied: scipy<2.0.0,>=1.0.0 in /usr/local/lib/python3.7/dist-packages (from wfdb) (1.7.3)\n",
            "Requirement already satisfied: requests<3.0.0,>=2.8.1 in /usr/local/lib/python3.7/dist-packages (from wfdb) (2.23.0)\n",
            "Requirement already satisfied: matplotlib<4.0.0,>=3.2.2 in /usr/local/lib/python3.7/dist-packages (from wfdb) (3.2.2)\n",
            "Requirement already satisfied: pandas<2.0.0,>=1.0.0 in /usr/local/lib/python3.7/dist-packages (from wfdb) (1.3.5)\n",
            "Requirement already satisfied: cycler>=0.10 in /usr/local/lib/python3.7/dist-packages (from matplotlib<4.0.0,>=3.2.2->wfdb) (0.11.0)\n",
            "Requirement already satisfied: pyparsing!=2.0.4,!=2.1.2,!=2.1.6,>=2.0.1 in /usr/local/lib/python3.7/dist-packages (from matplotlib<4.0.0,>=3.2.2->wfdb) (3.0.9)\n",
            "Requirement already satisfied: python-dateutil>=2.1 in /usr/local/lib/python3.7/dist-packages (from matplotlib<4.0.0,>=3.2.2->wfdb) (2.8.2)\n",
            "Requirement already satisfied: kiwisolver>=1.0.1 in /usr/local/lib/python3.7/dist-packages (from matplotlib<4.0.0,>=3.2.2->wfdb) (1.4.4)\n",
            "Requirement already satisfied: typing-extensions in /usr/local/lib/python3.7/dist-packages (from kiwisolver>=1.0.1->matplotlib<4.0.0,>=3.2.2->wfdb) (4.1.1)\n",
            "Requirement already satisfied: pytz>=2017.3 in /usr/local/lib/python3.7/dist-packages (from pandas<2.0.0,>=1.0.0->wfdb) (2022.6)\n",
            "Requirement already satisfied: six>=1.5 in /usr/local/lib/python3.7/dist-packages (from python-dateutil>=2.1->matplotlib<4.0.0,>=3.2.2->wfdb) (1.15.0)\n",
            "Requirement already satisfied: urllib3!=1.25.0,!=1.25.1,<1.26,>=1.21.1 in /usr/local/lib/python3.7/dist-packages (from requests<3.0.0,>=2.8.1->wfdb) (1.24.3)\n",
            "Requirement already satisfied: chardet<4,>=3.0.2 in /usr/local/lib/python3.7/dist-packages (from requests<3.0.0,>=2.8.1->wfdb) (3.0.4)\n",
            "Requirement already satisfied: idna<3,>=2.5 in /usr/local/lib/python3.7/dist-packages (from requests<3.0.0,>=2.8.1->wfdb) (2.10)\n",
            "Requirement already satisfied: certifi>=2017.4.17 in /usr/local/lib/python3.7/dist-packages (from requests<3.0.0,>=2.8.1->wfdb) (2022.9.24)\n",
            "Requirement already satisfied: cffi>=1.0 in /usr/local/lib/python3.7/dist-packages (from SoundFile<0.12.0,>=0.10.0->wfdb) (1.15.1)\n",
            "Requirement already satisfied: pycparser in /usr/local/lib/python3.7/dist-packages (from cffi>=1.0->SoundFile<0.12.0,>=0.10.0->wfdb) (2.21)\n",
            "Installing collected packages: wfdb\n",
            "Successfully installed wfdb-4.0.0\n"
          ]
        }
      ]
    },
    {
      "cell_type": "code",
      "source": [
        "import wfdb \n",
        "import random\n",
        "import statistics as stats\n",
        "from scipy.stats import kurtosis\n",
        "from scipy.stats import skew\n",
        "import math\n",
        "from collections import Counter\n",
        "import numpy as np\n",
        "import matplotlib.pyplot as plt\n",
        "import pandas as pd\n",
        "import seaborn as sns\n",
        "from statistics import mode\n",
        "from sklearn.neural_network import MLPClassifier\n",
        "from sklearn.datasets import make_classification\n",
        "from sklearn.model_selection import train_test_split\n",
        "from sklearn.neural_network import MLPClassifier\n",
        "from sklearn.datasets import make_classification\n",
        "from sklearn.model_selection import train_test_split\n",
        "from sklearn.metrics import accuracy_score as score\n",
        "from sklearn.model_selection import GridSearchCV\n",
        "from sklearn.metrics import classification_report\n",
        "from sklearn.metrics import confusion_matrix\n",
        "from sklearn.metrics import f1_score\n",
        "from sklearn.model_selection import RandomizedSearchCV\n",
        "from sklearn.model_selection import GridSearchCV"
      ],
      "metadata": {
        "id": "SWDo0F-USwav"
      },
      "execution_count": 2,
      "outputs": []
    },
    {
      "cell_type": "markdown",
      "source": [
        "### Formacion de DataSet\n",
        "---\n",
        "\n",
        "Con el siguiente algoritmo se pudo recorrer todas señales mediantes ventanas deslizantes en busca de categorias o patrones que nos sirvan para identificar si es un latido o no es un latido.  \n",
        "Las cuales fueron las siguientes:\n",
        "1.  pendiente  \n",
        "2.  media  \n",
        "3.  mediana  \n",
        "4.  moda  \n",
        "5.  varianza  \n",
        "6.  desviacionEstandar  \n",
        "7.  kurtosis   \n",
        "8.  asimetria\n",
        "\n",
        "El algoritmpo mecionado para sacar los datos de toda la señal fue el siguiente:\n",
        "\n",
        "\n",
        "\n",
        "```\n",
        "# Algoritmo de Creacion de DataSet\n",
        "def modaJC(test_list):\n",
        "  res = []\n",
        "  test_list1 = Counter(test_list) \n",
        "  temp = test_list1.most_common(1)[0][1] \n",
        "  for ele in test_list:\n",
        "    if test_list.count(ele) == temp:\n",
        "      res.append(ele)\n",
        "  res = list(set(res))\n",
        "  return res\n",
        "\n",
        "# Lista de registros\n",
        "\n",
        "registros = ['16265','16272','16273','16420','16483','16539','16773',\n",
        "             '16786','16795','17052','17453',\n",
        "             '18177','18184','19088','19090',\n",
        "             '19093','19140','19830']\n",
        "info_data = []             \n",
        "N_1 = 10\n",
        "N_0 = 10\n",
        "y_0 = 0\n",
        "y_1 = 1\n",
        "\n",
        "for i in registros:\n",
        "\n",
        "  ruta = \"db/\"+i\n",
        "  print(ruta)\n",
        "  records = wfdb.rdrecord(ruta)\n",
        "  signal = records.p_signal\n",
        "  signal1 = signal[:,0]\n",
        "  signal2 = signal[:,1]\n",
        "  ann = wfdb.rdann(ruta,'atr') #etiquetas del evento\n",
        "  ANN = ann.sample\n",
        "  print(len(ANN))\n",
        "  for x in range(1,len(ANN)-1):\n",
        "\n",
        "    REGISTRO1 = signal1[ANN[x]-N_1:ANN[x]+N_1]\n",
        "    y1=np.amin(REGISTRO1)\n",
        "    y2=np.amax(REGISTRO1)\n",
        "    x1 = np.where(REGISTRO1 == y1)[0][0]\n",
        "    x2 = np.where(REGISTRO1 == y2)[0][0]\n",
        "    pendiente = y2 - y1 / x2 - x1\n",
        "    media = stats.mean(REGISTRO1)\n",
        "    mediana = stats.median(REGISTRO1)\n",
        "    moda = modaJC(list(REGISTRO1))\n",
        "    varianza = stats.pvariance(REGISTRO1)\n",
        "    desviacionEstandar = stats.pstdev(REGISTRO1)\n",
        "    kurt = kurtosis(REGISTRO1)\n",
        "    asime = skew(REGISTRO1)\n",
        "    caract_1 = [pendiente,media,mediana,moda,varianza,desviacionEstandar,kurt,asime,y_1]\n",
        "    info_data.append(caract_1)\n",
        "\n",
        "    #No latidos\n",
        "    n_aux = 8 \n",
        "    REGISTRO2 = signal1[ANN[x]+n_aux:ANN[x+1]-n_aux]\n",
        "\n",
        "    options = range(len(REGISTRO2)+1)\n",
        "    options= list(options)\n",
        "    if len(REGISTRO2) > 30:\n",
        "      aux = True\n",
        "      while aux == True:\n",
        "          r = random.choice(options)\n",
        "          if r - N_0 > 0 and r + N_0 < len(REGISTRO2):\n",
        "            aux = False\n",
        "      inicio = r - N_0 \n",
        "      final = r + N_0\n",
        "      REGISTRO0 = REGISTRO2[inicio:final]\n",
        "    else:\n",
        "      n_aux = 3\n",
        "      REGISTRO0 = signal1[ANN[x]:ANN[x+1]]\n",
        "\n",
        "\n",
        "    y1=np.amin(REGISTRO0)\n",
        "    y2=np.amax(REGISTRO0)\n",
        "    x1 = np.where(REGISTRO0 == y1)[0][0]\n",
        "    x2 = np.where(REGISTRO0 == y2)[0][0]\n",
        "    pendiente = y2 - y1 / x2 - x1\n",
        "    media = stats.mean(REGISTRO0)\n",
        "    mediana = stats.median(REGISTRO0)\n",
        "    moda = modaJC(list(REGISTRO0))\n",
        "    varianza = stats.pvariance(REGISTRO0)\n",
        "    desviacionEstandar = stats.pstdev(REGISTRO0)\n",
        "    kurt = kurtosis(REGISTRO2)\n",
        "    asime = skew(REGISTRO2)\n",
        "    caract_0 = [pendiente,media,mediana,moda,varianza,desviacionEstandar,kurt,asime,y_0]\n",
        "    info_data.append(caract_0)\n",
        "\n",
        "```\n",
        "\n",
        "\n",
        "Nota : Este algoritmo es el mismo que se uso para el desarrollo del [Parcial Final de Analitica de Datos](https://github.com/JohanCala/Eighth-Semester/blob/main/SegundoParcialAnaliticaDeDatos.ipynb)\n",
        "\n",
        "Como Resultado nos queda el dataset que va ser trabajado en este parcial\n"
      ],
      "metadata": {
        "id": "x47HgQoPTLMw"
      }
    },
    {
      "cell_type": "code",
      "source": [
        "df = pd.read_csv('/content/drive/MyDrive/Colab Notebooks/DatosMIT-BIH.csv')\n",
        "df"
      ],
      "metadata": {
        "colab": {
          "base_uri": "https://localhost:8080/",
          "height": 424
        },
        "id": "qXqYRlroTKkg",
        "outputId": "ead32fcc-a615-41c8-d8ef-32151e6fb8a7"
      },
      "execution_count": 3,
      "outputs": [
        {
          "output_type": "execute_result",
          "data": {
            "text/plain": [
              "         pendiente   media  mediana   moda  varianza  desviacionEstandar  \\\n",
              "0        -5.253750  0.2545   -0.195 -0.155  1.132965            1.064408   \n",
              "1        -0.051562 -0.1475   -0.155 -0.175  0.001529            0.039099   \n",
              "2        -5.002083  0.2755   -0.180 -0.175  1.178025            1.085368   \n",
              "3        -2.062500 -0.1215   -0.115 -0.115  0.000813            0.028509   \n",
              "4        -5.074583  0.3010   -0.160 -0.155  1.176754            1.084783   \n",
              "...            ...     ...      ...    ...       ...                 ...   \n",
              "3613507 -18.007500 -0.2760   -0.305 -0.305  0.002689            0.051856   \n",
              "3613508 -17.490909 -0.2085   -0.285 -0.285  0.049933            0.223456   \n",
              "3613509  -0.041500 -0.2250   -0.240 -0.325  0.006470            0.080436   \n",
              "3613510 -15.338462 -0.1470   -0.245 -0.245  0.052556            0.229251   \n",
              "3613511  -2.034583 -0.1400   -0.140 -0.155  0.003005            0.054818   \n",
              "\n",
              "         kurtosis  asimetria  salida  \n",
              "0        0.529401   1.436697       1  \n",
              "1        0.832477  -0.537550       0  \n",
              "2        0.844009   1.516941       1  \n",
              "3        0.519649  -0.472923       0  \n",
              "4        0.554570   1.437265       1  \n",
              "...           ...        ...     ...  \n",
              "3613507 -0.744714   0.595270       0  \n",
              "3613508  2.850548   2.015281       1  \n",
              "3613509 -0.450456   0.212475       0  \n",
              "3613510  4.675712   2.281762       1  \n",
              "3613511  0.360126  -0.386565       0  \n",
              "\n",
              "[3613512 rows x 9 columns]"
            ],
            "text/html": [
              "\n",
              "  <div id=\"df-728ac2cc-cb97-4e58-8ae1-977d6d923f98\">\n",
              "    <div class=\"colab-df-container\">\n",
              "      <div>\n",
              "<style scoped>\n",
              "    .dataframe tbody tr th:only-of-type {\n",
              "        vertical-align: middle;\n",
              "    }\n",
              "\n",
              "    .dataframe tbody tr th {\n",
              "        vertical-align: top;\n",
              "    }\n",
              "\n",
              "    .dataframe thead th {\n",
              "        text-align: right;\n",
              "    }\n",
              "</style>\n",
              "<table border=\"1\" class=\"dataframe\">\n",
              "  <thead>\n",
              "    <tr style=\"text-align: right;\">\n",
              "      <th></th>\n",
              "      <th>pendiente</th>\n",
              "      <th>media</th>\n",
              "      <th>mediana</th>\n",
              "      <th>moda</th>\n",
              "      <th>varianza</th>\n",
              "      <th>desviacionEstandar</th>\n",
              "      <th>kurtosis</th>\n",
              "      <th>asimetria</th>\n",
              "      <th>salida</th>\n",
              "    </tr>\n",
              "  </thead>\n",
              "  <tbody>\n",
              "    <tr>\n",
              "      <th>0</th>\n",
              "      <td>-5.253750</td>\n",
              "      <td>0.2545</td>\n",
              "      <td>-0.195</td>\n",
              "      <td>-0.155</td>\n",
              "      <td>1.132965</td>\n",
              "      <td>1.064408</td>\n",
              "      <td>0.529401</td>\n",
              "      <td>1.436697</td>\n",
              "      <td>1</td>\n",
              "    </tr>\n",
              "    <tr>\n",
              "      <th>1</th>\n",
              "      <td>-0.051562</td>\n",
              "      <td>-0.1475</td>\n",
              "      <td>-0.155</td>\n",
              "      <td>-0.175</td>\n",
              "      <td>0.001529</td>\n",
              "      <td>0.039099</td>\n",
              "      <td>0.832477</td>\n",
              "      <td>-0.537550</td>\n",
              "      <td>0</td>\n",
              "    </tr>\n",
              "    <tr>\n",
              "      <th>2</th>\n",
              "      <td>-5.002083</td>\n",
              "      <td>0.2755</td>\n",
              "      <td>-0.180</td>\n",
              "      <td>-0.175</td>\n",
              "      <td>1.178025</td>\n",
              "      <td>1.085368</td>\n",
              "      <td>0.844009</td>\n",
              "      <td>1.516941</td>\n",
              "      <td>1</td>\n",
              "    </tr>\n",
              "    <tr>\n",
              "      <th>3</th>\n",
              "      <td>-2.062500</td>\n",
              "      <td>-0.1215</td>\n",
              "      <td>-0.115</td>\n",
              "      <td>-0.115</td>\n",
              "      <td>0.000813</td>\n",
              "      <td>0.028509</td>\n",
              "      <td>0.519649</td>\n",
              "      <td>-0.472923</td>\n",
              "      <td>0</td>\n",
              "    </tr>\n",
              "    <tr>\n",
              "      <th>4</th>\n",
              "      <td>-5.074583</td>\n",
              "      <td>0.3010</td>\n",
              "      <td>-0.160</td>\n",
              "      <td>-0.155</td>\n",
              "      <td>1.176754</td>\n",
              "      <td>1.084783</td>\n",
              "      <td>0.554570</td>\n",
              "      <td>1.437265</td>\n",
              "      <td>1</td>\n",
              "    </tr>\n",
              "    <tr>\n",
              "      <th>...</th>\n",
              "      <td>...</td>\n",
              "      <td>...</td>\n",
              "      <td>...</td>\n",
              "      <td>...</td>\n",
              "      <td>...</td>\n",
              "      <td>...</td>\n",
              "      <td>...</td>\n",
              "      <td>...</td>\n",
              "      <td>...</td>\n",
              "    </tr>\n",
              "    <tr>\n",
              "      <th>3613507</th>\n",
              "      <td>-18.007500</td>\n",
              "      <td>-0.2760</td>\n",
              "      <td>-0.305</td>\n",
              "      <td>-0.305</td>\n",
              "      <td>0.002689</td>\n",
              "      <td>0.051856</td>\n",
              "      <td>-0.744714</td>\n",
              "      <td>0.595270</td>\n",
              "      <td>0</td>\n",
              "    </tr>\n",
              "    <tr>\n",
              "      <th>3613508</th>\n",
              "      <td>-17.490909</td>\n",
              "      <td>-0.2085</td>\n",
              "      <td>-0.285</td>\n",
              "      <td>-0.285</td>\n",
              "      <td>0.049933</td>\n",
              "      <td>0.223456</td>\n",
              "      <td>2.850548</td>\n",
              "      <td>2.015281</td>\n",
              "      <td>1</td>\n",
              "    </tr>\n",
              "    <tr>\n",
              "      <th>3613509</th>\n",
              "      <td>-0.041500</td>\n",
              "      <td>-0.2250</td>\n",
              "      <td>-0.240</td>\n",
              "      <td>-0.325</td>\n",
              "      <td>0.006470</td>\n",
              "      <td>0.080436</td>\n",
              "      <td>-0.450456</td>\n",
              "      <td>0.212475</td>\n",
              "      <td>0</td>\n",
              "    </tr>\n",
              "    <tr>\n",
              "      <th>3613510</th>\n",
              "      <td>-15.338462</td>\n",
              "      <td>-0.1470</td>\n",
              "      <td>-0.245</td>\n",
              "      <td>-0.245</td>\n",
              "      <td>0.052556</td>\n",
              "      <td>0.229251</td>\n",
              "      <td>4.675712</td>\n",
              "      <td>2.281762</td>\n",
              "      <td>1</td>\n",
              "    </tr>\n",
              "    <tr>\n",
              "      <th>3613511</th>\n",
              "      <td>-2.034583</td>\n",
              "      <td>-0.1400</td>\n",
              "      <td>-0.140</td>\n",
              "      <td>-0.155</td>\n",
              "      <td>0.003005</td>\n",
              "      <td>0.054818</td>\n",
              "      <td>0.360126</td>\n",
              "      <td>-0.386565</td>\n",
              "      <td>0</td>\n",
              "    </tr>\n",
              "  </tbody>\n",
              "</table>\n",
              "<p>3613512 rows × 9 columns</p>\n",
              "</div>\n",
              "      <button class=\"colab-df-convert\" onclick=\"convertToInteractive('df-728ac2cc-cb97-4e58-8ae1-977d6d923f98')\"\n",
              "              title=\"Convert this dataframe to an interactive table.\"\n",
              "              style=\"display:none;\">\n",
              "        \n",
              "  <svg xmlns=\"http://www.w3.org/2000/svg\" height=\"24px\"viewBox=\"0 0 24 24\"\n",
              "       width=\"24px\">\n",
              "    <path d=\"M0 0h24v24H0V0z\" fill=\"none\"/>\n",
              "    <path d=\"M18.56 5.44l.94 2.06.94-2.06 2.06-.94-2.06-.94-.94-2.06-.94 2.06-2.06.94zm-11 1L8.5 8.5l.94-2.06 2.06-.94-2.06-.94L8.5 2.5l-.94 2.06-2.06.94zm10 10l.94 2.06.94-2.06 2.06-.94-2.06-.94-.94-2.06-.94 2.06-2.06.94z\"/><path d=\"M17.41 7.96l-1.37-1.37c-.4-.4-.92-.59-1.43-.59-.52 0-1.04.2-1.43.59L10.3 9.45l-7.72 7.72c-.78.78-.78 2.05 0 2.83L4 21.41c.39.39.9.59 1.41.59.51 0 1.02-.2 1.41-.59l7.78-7.78 2.81-2.81c.8-.78.8-2.07 0-2.86zM5.41 20L4 18.59l7.72-7.72 1.47 1.35L5.41 20z\"/>\n",
              "  </svg>\n",
              "      </button>\n",
              "      \n",
              "  <style>\n",
              "    .colab-df-container {\n",
              "      display:flex;\n",
              "      flex-wrap:wrap;\n",
              "      gap: 12px;\n",
              "    }\n",
              "\n",
              "    .colab-df-convert {\n",
              "      background-color: #E8F0FE;\n",
              "      border: none;\n",
              "      border-radius: 50%;\n",
              "      cursor: pointer;\n",
              "      display: none;\n",
              "      fill: #1967D2;\n",
              "      height: 32px;\n",
              "      padding: 0 0 0 0;\n",
              "      width: 32px;\n",
              "    }\n",
              "\n",
              "    .colab-df-convert:hover {\n",
              "      background-color: #E2EBFA;\n",
              "      box-shadow: 0px 1px 2px rgba(60, 64, 67, 0.3), 0px 1px 3px 1px rgba(60, 64, 67, 0.15);\n",
              "      fill: #174EA6;\n",
              "    }\n",
              "\n",
              "    [theme=dark] .colab-df-convert {\n",
              "      background-color: #3B4455;\n",
              "      fill: #D2E3FC;\n",
              "    }\n",
              "\n",
              "    [theme=dark] .colab-df-convert:hover {\n",
              "      background-color: #434B5C;\n",
              "      box-shadow: 0px 1px 3px 1px rgba(0, 0, 0, 0.15);\n",
              "      filter: drop-shadow(0px 1px 2px rgba(0, 0, 0, 0.3));\n",
              "      fill: #FFFFFF;\n",
              "    }\n",
              "  </style>\n",
              "\n",
              "      <script>\n",
              "        const buttonEl =\n",
              "          document.querySelector('#df-728ac2cc-cb97-4e58-8ae1-977d6d923f98 button.colab-df-convert');\n",
              "        buttonEl.style.display =\n",
              "          google.colab.kernel.accessAllowed ? 'block' : 'none';\n",
              "\n",
              "        async function convertToInteractive(key) {\n",
              "          const element = document.querySelector('#df-728ac2cc-cb97-4e58-8ae1-977d6d923f98');\n",
              "          const dataTable =\n",
              "            await google.colab.kernel.invokeFunction('convertToInteractive',\n",
              "                                                     [key], {});\n",
              "          if (!dataTable) return;\n",
              "\n",
              "          const docLinkHtml = 'Like what you see? Visit the ' +\n",
              "            '<a target=\"_blank\" href=https://colab.research.google.com/notebooks/data_table.ipynb>data table notebook</a>'\n",
              "            + ' to learn more about interactive tables.';\n",
              "          element.innerHTML = '';\n",
              "          dataTable['output_type'] = 'display_data';\n",
              "          await google.colab.output.renderOutput(dataTable, element);\n",
              "          const docLink = document.createElement('div');\n",
              "          docLink.innerHTML = docLinkHtml;\n",
              "          element.appendChild(docLink);\n",
              "        }\n",
              "      </script>\n",
              "    </div>\n",
              "  </div>\n",
              "  "
            ]
          },
          "metadata": {},
          "execution_count": 3
        }
      ]
    },
    {
      "cell_type": "markdown",
      "source": [
        "### Preparacion del DataSet\n",
        "---"
      ],
      "metadata": {
        "id": "WYmO84O6W99Y"
      }
    },
    {
      "cell_type": "markdown",
      "source": [
        "El requerimiento de caracteristicas es de 5, por ende podemos explorar nuestros daatos mediante una matriz de correlacion para escoger las varaibles que mejor nos sirva para clasificar el comportamiento de los latidos"
      ],
      "metadata": {
        "id": "DLL8mU75XLP3"
      }
    },
    {
      "cell_type": "code",
      "source": [
        "corrmat=df.corr()\n",
        "top_corr_feature=corrmat.index\n",
        "plt.figure(figsize=(30,20))\n",
        "# Para graficar la matriz\n",
        "g=sns.heatmap(df[top_corr_feature].corr(),annot=True,cmap='viridis')"
      ],
      "metadata": {
        "colab": {
          "base_uri": "https://localhost:8080/",
          "height": 1000
        },
        "id": "2R0XKp3pXC2A",
        "outputId": "1b6dc7a6-56ea-4a12-ffc2-71856401571a"
      },
      "execution_count": 4,
      "outputs": [
        {
          "output_type": "display_data",
          "data": {
            "text/plain": [
              "<Figure size 2160x1440 with 2 Axes>"
            ],
            "image/png": "[encoded data removed]"
          },
          "metadata": {
            "needs_background": "light"
          }
        }
      ]
    },
    {
      "cell_type": "markdown",
      "source": [
        "Como podemos ver en la matriz de correlacion las mejores caracterisiticas para predecir el comportamiento del modelo son:   \n",
        "1.  media   \n",
        "2.  varianza  \n",
        "3.  desviacionEstandar  \n",
        "4.  kurtosis   \n",
        "5.  asimetria\n",
        "\n",
        "Tambien se recomienda que nuestro conjunto de datos sea mayor o igual de 400.000 para evitar demoras con la compilacion.\n",
        "\n",
        "Entonces con el siguiente proceso ajustamos nuestra data para poder seguir con la preparacion de los datos.\n"
      ],
      "metadata": {
        "id": "KHWlSj1cXrDg"
      }
    },
    {
      "cell_type": "code",
      "source": [
        "data = df[['media','varianza','desviacionEstandar','kurtosis','asimetria','salida']]\n",
        "data = data.head(400000)\n",
        "data\n"
      ],
      "metadata": {
        "colab": {
          "base_uri": "https://localhost:8080/",
          "height": 424
        },
        "id": "ONAJgYoEZJaE",
        "outputId": "de3f5a0a-d161-455b-aac2-be2779cf5e59"
      },
      "execution_count": 7,
      "outputs": [
        {
          "output_type": "execute_result",
          "data": {
            "text/plain": [
              "         media  varianza  desviacionEstandar  kurtosis  asimetria  salida\n",
              "0       0.2545  1.132965            1.064408  0.529401   1.436697       1\n",
              "1      -0.1475  0.001529            0.039099  0.832477  -0.537550       0\n",
              "2       0.2755  1.178025            1.085368  0.844009   1.516941       1\n",
              "3      -0.1215  0.000813            0.028509  0.519649  -0.472923       0\n",
              "4       0.3010  1.176754            1.084783  0.554570   1.437265       1\n",
              "...        ...       ...                 ...       ...        ...     ...\n",
              "399995 -0.2160  0.000479            0.021886  3.694824   2.175028       0\n",
              "399996  0.3120  1.190371            1.091041  1.468644   1.727748       1\n",
              "399997  0.0210  0.054344            0.233118  3.878740   2.219468       0\n",
              "399998  0.2560  1.165489            1.079578  1.801033   1.807126       1\n",
              "399999 -0.2025  0.002959            0.054394  3.375322   2.084742       0\n",
              "\n",
              "[400000 rows x 6 columns]"
            ],
            "text/html": [
              "\n",
              "  <div id=\"df-d9ecd74c-b8de-48ae-aee4-4a74f5cb5317\">\n",
              "    <div class=\"colab-df-container\">\n",
              "      <div>\n",
              "<style scoped>\n",
              "    .dataframe tbody tr th:only-of-type {\n",
              "        vertical-align: middle;\n",
              "    }\n",
              "\n",
              "    .dataframe tbody tr th {\n",
              "        vertical-align: top;\n",
              "    }\n",
              "\n",
              "    .dataframe thead th {\n",
              "        text-align: right;\n",
              "    }\n",
              "</style>\n",
              "<table border=\"1\" class=\"dataframe\">\n",
              "  <thead>\n",
              "    <tr style=\"text-align: right;\">\n",
              "      <th></th>\n",
              "      <th>media</th>\n",
              "      <th>varianza</th>\n",
              "      <th>desviacionEstandar</th>\n",
              "      <th>kurtosis</th>\n",
              "      <th>asimetria</th>\n",
              "      <th>salida</th>\n",
              "    </tr>\n",
              "  </thead>\n",
              "  <tbody>\n",
              "    <tr>\n",
              "      <th>0</th>\n",
              "      <td>0.2545</td>\n",
              "      <td>1.132965</td>\n",
              "      <td>1.064408</td>\n",
              "      <td>0.529401</td>\n",
              "      <td>1.436697</td>\n",
              "      <td>1</td>\n",
              "    </tr>\n",
              "    <tr>\n",
              "      <th>1</th>\n",
              "      <td>-0.1475</td>\n",
              "      <td>0.001529</td>\n",
              "      <td>0.039099</td>\n",
              "      <td>0.832477</td>\n",
              "      <td>-0.537550</td>\n",
              "      <td>0</td>\n",
              "    </tr>\n",
              "    <tr>\n",
              "      <th>2</th>\n",
              "      <td>0.2755</td>\n",
              "      <td>1.178025</td>\n",
              "      <td>1.085368</td>\n",
              "      <td>0.844009</td>\n",
              "      <td>1.516941</td>\n",
              "      <td>1</td>\n",
              "    </tr>\n",
              "    <tr>\n",
              "      <th>3</th>\n",
              "      <td>-0.1215</td>\n",
              "      <td>0.000813</td>\n",
              "      <td>0.028509</td>\n",
              "      <td>0.519649</td>\n",
              "      <td>-0.472923</td>\n",
              "      <td>0</td>\n",
              "    </tr>\n",
              "    <tr>\n",
              "      <th>4</th>\n",
              "      <td>0.3010</td>\n",
              "      <td>1.176754</td>\n",
              "      <td>1.084783</td>\n",
              "      <td>0.554570</td>\n",
              "      <td>1.437265</td>\n",
              "      <td>1</td>\n",
              "    </tr>\n",
              "    <tr>\n",
              "      <th>...</th>\n",
              "      <td>...</td>\n",
              "      <td>...</td>\n",
              "      <td>...</td>\n",
              "      <td>...</td>\n",
              "      <td>...</td>\n",
              "      <td>...</td>\n",
              "    </tr>\n",
              "    <tr>\n",
              "      <th>399995</th>\n",
              "      <td>-0.2160</td>\n",
              "      <td>0.000479</td>\n",
              "      <td>0.021886</td>\n",
              "      <td>3.694824</td>\n",
              "      <td>2.175028</td>\n",
              "      <td>0</td>\n",
              "    </tr>\n",
              "    <tr>\n",
              "      <th>399996</th>\n",
              "      <td>0.3120</td>\n",
              "      <td>1.190371</td>\n",
              "      <td>1.091041</td>\n",
              "      <td>1.468644</td>\n",
              "      <td>1.727748</td>\n",
              "      <td>1</td>\n",
              "    </tr>\n",
              "    <tr>\n",
              "      <th>399997</th>\n",
              "      <td>0.0210</td>\n",
              "      <td>0.054344</td>\n",
              "      <td>0.233118</td>\n",
              "      <td>3.878740</td>\n",
              "      <td>2.219468</td>\n",
              "      <td>0</td>\n",
              "    </tr>\n",
              "    <tr>\n",
              "      <th>399998</th>\n",
              "      <td>0.2560</td>\n",
              "      <td>1.165489</td>\n",
              "      <td>1.079578</td>\n",
              "      <td>1.801033</td>\n",
              "      <td>1.807126</td>\n",
              "      <td>1</td>\n",
              "    </tr>\n",
              "    <tr>\n",
              "      <th>399999</th>\n",
              "      <td>-0.2025</td>\n",
              "      <td>0.002959</td>\n",
              "      <td>0.054394</td>\n",
              "      <td>3.375322</td>\n",
              "      <td>2.084742</td>\n",
              "      <td>0</td>\n",
              "    </tr>\n",
              "  </tbody>\n",
              "</table>\n",
              "<p>400000 rows × 6 columns</p>\n",
              "</div>\n",
              "      <button class=\"colab-df-convert\" onclick=\"convertToInteractive('df-d9ecd74c-b8de-48ae-aee4-4a74f5cb5317')\"\n",
              "              title=\"Convert this dataframe to an interactive table.\"\n",
              "              style=\"display:none;\">\n",
              "        \n",
              "  <svg xmlns=\"http://www.w3.org/2000/svg\" height=\"24px\"viewBox=\"0 0 24 24\"\n",
              "       width=\"24px\">\n",
              "    <path d=\"M0 0h24v24H0V0z\" fill=\"none\"/>\n",
              "    <path d=\"M18.56 5.44l.94 2.06.94-2.06 2.06-.94-2.06-.94-.94-2.06-.94 2.06-2.06.94zm-11 1L8.5 8.5l.94-2.06 2.06-.94-2.06-.94L8.5 2.5l-.94 2.06-2.06.94zm10 10l.94 2.06.94-2.06 2.06-.94-2.06-.94-.94-2.06-.94 2.06-2.06.94z\"/><path d=\"M17.41 7.96l-1.37-1.37c-.4-.4-.92-.59-1.43-.59-.52 0-1.04.2-1.43.59L10.3 9.45l-7.72 7.72c-.78.78-.78 2.05 0 2.83L4 21.41c.39.39.9.59 1.41.59.51 0 1.02-.2 1.41-.59l7.78-7.78 2.81-2.81c.8-.78.8-2.07 0-2.86zM5.41 20L4 18.59l7.72-7.72 1.47 1.35L5.41 20z\"/>\n",
              "  </svg>\n",
              "      </button>\n",
              "      \n",
              "  <style>\n",
              "    .colab-df-container {\n",
              "      display:flex;\n",
              "      flex-wrap:wrap;\n",
              "      gap: 12px;\n",
              "    }\n",
              "\n",
              "    .colab-df-convert {\n",
              "      background-color: #E8F0FE;\n",
              "      border: none;\n",
              "      border-radius: 50%;\n",
              "      cursor: pointer;\n",
              "      display: none;\n",
              "      fill: #1967D2;\n",
              "      height: 32px;\n",
              "      padding: 0 0 0 0;\n",
              "      width: 32px;\n",
              "    }\n",
              "\n",
              "    .colab-df-convert:hover {\n",
              "      background-color: #E2EBFA;\n",
              "      box-shadow: 0px 1px 2px rgba(60, 64, 67, 0.3), 0px 1px 3px 1px rgba(60, 64, 67, 0.15);\n",
              "      fill: #174EA6;\n",
              "    }\n",
              "\n",
              "    [theme=dark] .colab-df-convert {\n",
              "      background-color: #3B4455;\n",
              "      fill: #D2E3FC;\n",
              "    }\n",
              "\n",
              "    [theme=dark] .colab-df-convert:hover {\n",
              "      background-color: #434B5C;\n",
              "      box-shadow: 0px 1px 3px 1px rgba(0, 0, 0, 0.15);\n",
              "      filter: drop-shadow(0px 1px 2px rgba(0, 0, 0, 0.3));\n",
              "      fill: #FFFFFF;\n",
              "    }\n",
              "  </style>\n",
              "\n",
              "      <script>\n",
              "        const buttonEl =\n",
              "          document.querySelector('#df-d9ecd74c-b8de-48ae-aee4-4a74f5cb5317 button.colab-df-convert');\n",
              "        buttonEl.style.display =\n",
              "          google.colab.kernel.accessAllowed ? 'block' : 'none';\n",
              "\n",
              "        async function convertToInteractive(key) {\n",
              "          const element = document.querySelector('#df-d9ecd74c-b8de-48ae-aee4-4a74f5cb5317');\n",
              "          const dataTable =\n",
              "            await google.colab.kernel.invokeFunction('convertToInteractive',\n",
              "                                                     [key], {});\n",
              "          if (!dataTable) return;\n",
              "\n",
              "          const docLinkHtml = 'Like what you see? Visit the ' +\n",
              "            '<a target=\"_blank\" href=https://colab.research.google.com/notebooks/data_table.ipynb>data table notebook</a>'\n",
              "            + ' to learn more about interactive tables.';\n",
              "          element.innerHTML = '';\n",
              "          dataTable['output_type'] = 'display_data';\n",
              "          await google.colab.output.renderOutput(dataTable, element);\n",
              "          const docLink = document.createElement('div');\n",
              "          docLink.innerHTML = docLinkHtml;\n",
              "          element.appendChild(docLink);\n",
              "        }\n",
              "      </script>\n",
              "    </div>\n",
              "  </div>\n",
              "  "
            ]
          },
          "metadata": {},
          "execution_count": 7
        }
      ]
    },
    {
      "cell_type": "markdown",
      "source": [
        "### Exploracón de la información\n",
        "---"
      ],
      "metadata": {
        "id": "erWTOpi1aQSO"
      }
    },
    {
      "cell_type": "markdown",
      "source": [
        "En esta fase, exploramos nuestros registros en busca de factores que nos puedan generar un sesgo al momento de crear un modelo de clasificación.\n",
        "\n",
        "Primero veamos la cantidad de datos que tenemos, y como se encuentran distribuidos en sus respectivas clase"
      ],
      "metadata": {
        "id": "wlNh7uvcayv_"
      }
    },
    {
      "cell_type": "code",
      "source": [
        "print(data['salida'].value_counts())\n",
        "print(\"\")\n",
        "sns.countplot(data['salida'], palette='husl')"
      ],
      "metadata": {
        "colab": {
          "base_uri": "https://localhost:8080/",
          "height": 420
        },
        "id": "pFLfaLVda-8E",
        "outputId": "bc83daa7-73e9-44cc-f65f-1d23e545407b"
      },
      "execution_count": 11,
      "outputs": [
        {
          "output_type": "stream",
          "name": "stdout",
          "text": [
            "1    200000\n",
            "0    200000\n",
            "Name: salida, dtype: int64\n",
            "\n"
          ]
        },
        {
          "output_type": "stream",
          "name": "stderr",
          "text": [
            "/usr/local/lib/python3.7/dist-packages/seaborn/_decorators.py:43: FutureWarning: Pass the following variable as a keyword arg: x. From version 0.12, the only valid positional argument will be `data`, and passing other arguments without an explicit keyword will result in an error or misinterpretation.\n",
            "  FutureWarning\n"
          ]
        },
        {
          "output_type": "execute_result",
          "data": {
            "text/plain": [
              "<matplotlib.axes._subplots.AxesSubplot at 0x7f14558a24d0>"
            ]
          },
          "metadata": {},
          "execution_count": 11
        },
        {
          "output_type": "display_data",
          "data": {
            "text/plain": [
              "<Figure size 432x288 with 1 Axes>"
            ],
            "image/png": "[encoded data removed]"
          },
          "metadata": {
            "needs_background": "light"
          }
        }
      ]
    },
    {
      "cell_type": "markdown",
      "source": [
        "Ya viendo como se encuentran nuestros datos con respecto a su salida, vamos a verificar si tenemos valores nulos, los cuales eliminamos porque estos valores no aportan nada al momento de entrenar y probar un modelo."
      ],
      "metadata": {
        "id": "WNZdLtqqbwJX"
      }
    },
    {
      "cell_type": "code",
      "source": [
        "data.isnull().sum()"
      ],
      "metadata": {
        "colab": {
          "base_uri": "https://localhost:8080/"
        },
        "id": "qr9KhTJUcCZO",
        "outputId": "87491b78-1827-4873-cee5-e8dfe63827a6"
      },
      "execution_count": 12,
      "outputs": [
        {
          "output_type": "execute_result",
          "data": {
            "text/plain": [
              "media                   0\n",
              "varianza                0\n",
              "desviacionEstandar      0\n",
              "kurtosis              529\n",
              "asimetria             529\n",
              "salida                  0\n",
              "dtype: int64"
            ]
          },
          "metadata": {},
          "execution_count": 12
        }
      ]
    },
    {
      "cell_type": "markdown",
      "source": [
        "Con la siguiente celda procedemos a eliminar los datos nulos"
      ],
      "metadata": {
        "id": "OR7FuNPFcQwF"
      }
    },
    {
      "cell_type": "code",
      "source": [
        "data = data[data['kurtosis'].notna()]\n",
        "data = data[data['asimetria'].notna()]\n",
        "data.isnull().sum()"
      ],
      "metadata": {
        "colab": {
          "base_uri": "https://localhost:8080/"
        },
        "id": "1cF9XVEXcVeG",
        "outputId": "037b3df5-0481-43d3-d540-14f28597c5c9"
      },
      "execution_count": 14,
      "outputs": [
        {
          "output_type": "execute_result",
          "data": {
            "text/plain": [
              "media                 0\n",
              "varianza              0\n",
              "desviacionEstandar    0\n",
              "kurtosis              0\n",
              "asimetria             0\n",
              "salida                0\n",
              "dtype: int64"
            ]
          },
          "metadata": {},
          "execution_count": 14
        }
      ]
    },
    {
      "cell_type": "markdown",
      "source": [
        "Una vez verificado que no tenemos datos nulos, se tiene que recorrer nuestra información en busca de datos atipicos en nuestros registro, ya que al momento de leer las señales algunos latidos no tenia el mismos espacio entre si, por lo que algunas ventanas no recogian el correcto espacio del comportamiento, por ende a estos datos serian atipicos porque no siguen el comportamiento de nuestra ventana\n",
        "\n",
        "El algoritmo para hacer esto es el siguiente:"
      ],
      "metadata": {
        "id": "wEuvyO8-c6j-"
      }
    },
    {
      "cell_type": "code",
      "source": [
        "def IdentificarAtipicos(df, ft, valorAlfa):\n",
        "    q1 = df[ft].quantile(0.25)\n",
        "    q3 = df[ft].quantile(0.75)\n",
        "    iqr = q3 - q1\n",
        "    \n",
        "    bigote_inferior = q1 - valorAlfa * iqr\n",
        "    bigote_superior = q3 + valorAlfa * iqr\n",
        "    \n",
        "    ls = df.index[(df[ft]<bigote_inferior) | (df[ft] > bigote_superior)]\n",
        "    return ls\n",
        "\n",
        "def eliminar(df, index):\n",
        "    index = sorted(set(index))\n",
        "    df = df.drop(index)\n",
        "    return df\n",
        "\n",
        "aux = ['media','varianza','desviacionEstandar','kurtosis','asimetria']\n",
        "valor_alpha = 1.5\n",
        "index_list = []\n",
        "for i in aux:\n",
        "  index_list.extend(IdentificarAtipicos(data, i,valor_alpha))\n",
        "\n",
        "columnsa = [\"indicesss\"]\n",
        "df_index = pd.DataFrame(index_list,columns = columnsa)\n",
        "df_index.duplicated().sum()\n",
        "df_index = df_index.drop_duplicates()\n",
        "final_index_list = df_index[\"indicesss\"]\n",
        "data = eliminar(data,final_index_list)\n",
        "data"
      ],
      "metadata": {
        "colab": {
          "base_uri": "https://localhost:8080/",
          "height": 424
        },
        "id": "8RbTPIvHdliR",
        "outputId": "6c6587e5-d749-45ed-9e3c-ce739a13763f"
      },
      "execution_count": 16,
      "outputs": [
        {
          "output_type": "execute_result",
          "data": {
            "text/plain": [
              "         media  varianza  desviacionEstandar  kurtosis  asimetria  salida\n",
              "0       0.2545  1.132965            1.064408  0.529401   1.436697       1\n",
              "2       0.2755  1.178025            1.085368  0.844009   1.516941       1\n",
              "4       0.3010  1.176754            1.084783  0.554570   1.437265       1\n",
              "6       0.2535  1.147553            1.071239  0.729990   1.484499       1\n",
              "8       0.1895  1.050265            1.024824  0.594927   1.450194       1\n",
              "...        ...       ...                 ...       ...        ...     ...\n",
              "399995 -0.2160  0.000479            0.021886  3.694824   2.175028       0\n",
              "399996  0.3120  1.190371            1.091041  1.468644   1.727748       1\n",
              "399997  0.0210  0.054344            0.233118  3.878740   2.219468       0\n",
              "399998  0.2560  1.165489            1.079578  1.801033   1.807126       1\n",
              "399999 -0.2025  0.002959            0.054394  3.375322   2.084742       0\n",
              "\n",
              "[345357 rows x 6 columns]"
            ],
            "text/html": [
              "\n",
              "  <div id=\"df-4388b9a9-8c50-4117-a317-1791ab73fe74\">\n",
              "    <div class=\"colab-df-container\">\n",
              "      <div>\n",
              "<style scoped>\n",
              "    .dataframe tbody tr th:only-of-type {\n",
              "        vertical-align: middle;\n",
              "    }\n",
              "\n",
              "    .dataframe tbody tr th {\n",
              "        vertical-align: top;\n",
              "    }\n",
              "\n",
              "    .dataframe thead th {\n",
              "        text-align: right;\n",
              "    }\n",
              "</style>\n",
              "<table border=\"1\" class=\"dataframe\">\n",
              "  <thead>\n",
              "    <tr style=\"text-align: right;\">\n",
              "      <th></th>\n",
              "      <th>media</th>\n",
              "      <th>varianza</th>\n",
              "      <th>desviacionEstandar</th>\n",
              "      <th>kurtosis</th>\n",
              "      <th>asimetria</th>\n",
              "      <th>salida</th>\n",
              "    </tr>\n",
              "  </thead>\n",
              "  <tbody>\n",
              "    <tr>\n",
              "      <th>0</th>\n",
              "      <td>0.2545</td>\n",
              "      <td>1.132965</td>\n",
              "      <td>1.064408</td>\n",
              "      <td>0.529401</td>\n",
              "      <td>1.436697</td>\n",
              "      <td>1</td>\n",
              "    </tr>\n",
              "    <tr>\n",
              "      <th>2</th>\n",
              "      <td>0.2755</td>\n",
              "      <td>1.178025</td>\n",
              "      <td>1.085368</td>\n",
              "      <td>0.844009</td>\n",
              "      <td>1.516941</td>\n",
              "      <td>1</td>\n",
              "    </tr>\n",
              "    <tr>\n",
              "      <th>4</th>\n",
              "      <td>0.3010</td>\n",
              "      <td>1.176754</td>\n",
              "      <td>1.084783</td>\n",
              "      <td>0.554570</td>\n",
              "      <td>1.437265</td>\n",
              "      <td>1</td>\n",
              "    </tr>\n",
              "    <tr>\n",
              "      <th>6</th>\n",
              "      <td>0.2535</td>\n",
              "      <td>1.147553</td>\n",
              "      <td>1.071239</td>\n",
              "      <td>0.729990</td>\n",
              "      <td>1.484499</td>\n",
              "      <td>1</td>\n",
              "    </tr>\n",
              "    <tr>\n",
              "      <th>8</th>\n",
              "      <td>0.1895</td>\n",
              "      <td>1.050265</td>\n",
              "      <td>1.024824</td>\n",
              "      <td>0.594927</td>\n",
              "      <td>1.450194</td>\n",
              "      <td>1</td>\n",
              "    </tr>\n",
              "    <tr>\n",
              "      <th>...</th>\n",
              "      <td>...</td>\n",
              "      <td>...</td>\n",
              "      <td>...</td>\n",
              "      <td>...</td>\n",
              "      <td>...</td>\n",
              "      <td>...</td>\n",
              "    </tr>\n",
              "    <tr>\n",
              "      <th>399995</th>\n",
              "      <td>-0.2160</td>\n",
              "      <td>0.000479</td>\n",
              "      <td>0.021886</td>\n",
              "      <td>3.694824</td>\n",
              "      <td>2.175028</td>\n",
              "      <td>0</td>\n",
              "    </tr>\n",
              "    <tr>\n",
              "      <th>399996</th>\n",
              "      <td>0.3120</td>\n",
              "      <td>1.190371</td>\n",
              "      <td>1.091041</td>\n",
              "      <td>1.468644</td>\n",
              "      <td>1.727748</td>\n",
              "      <td>1</td>\n",
              "    </tr>\n",
              "    <tr>\n",
              "      <th>399997</th>\n",
              "      <td>0.0210</td>\n",
              "      <td>0.054344</td>\n",
              "      <td>0.233118</td>\n",
              "      <td>3.878740</td>\n",
              "      <td>2.219468</td>\n",
              "      <td>0</td>\n",
              "    </tr>\n",
              "    <tr>\n",
              "      <th>399998</th>\n",
              "      <td>0.2560</td>\n",
              "      <td>1.165489</td>\n",
              "      <td>1.079578</td>\n",
              "      <td>1.801033</td>\n",
              "      <td>1.807126</td>\n",
              "      <td>1</td>\n",
              "    </tr>\n",
              "    <tr>\n",
              "      <th>399999</th>\n",
              "      <td>-0.2025</td>\n",
              "      <td>0.002959</td>\n",
              "      <td>0.054394</td>\n",
              "      <td>3.375322</td>\n",
              "      <td>2.084742</td>\n",
              "      <td>0</td>\n",
              "    </tr>\n",
              "  </tbody>\n",
              "</table>\n",
              "<p>345357 rows × 6 columns</p>\n",
              "</div>\n",
              "      <button class=\"colab-df-convert\" onclick=\"convertToInteractive('df-4388b9a9-8c50-4117-a317-1791ab73fe74')\"\n",
              "              title=\"Convert this dataframe to an interactive table.\"\n",
              "              style=\"display:none;\">\n",
              "        \n",
              "  <svg xmlns=\"http://www.w3.org/2000/svg\" height=\"24px\"viewBox=\"0 0 24 24\"\n",
              "       width=\"24px\">\n",
              "    <path d=\"M0 0h24v24H0V0z\" fill=\"none\"/>\n",
              "    <path d=\"M18.56 5.44l.94 2.06.94-2.06 2.06-.94-2.06-.94-.94-2.06-.94 2.06-2.06.94zm-11 1L8.5 8.5l.94-2.06 2.06-.94-2.06-.94L8.5 2.5l-.94 2.06-2.06.94zm10 10l.94 2.06.94-2.06 2.06-.94-2.06-.94-.94-2.06-.94 2.06-2.06.94z\"/><path d=\"M17.41 7.96l-1.37-1.37c-.4-.4-.92-.59-1.43-.59-.52 0-1.04.2-1.43.59L10.3 9.45l-7.72 7.72c-.78.78-.78 2.05 0 2.83L4 21.41c.39.39.9.59 1.41.59.51 0 1.02-.2 1.41-.59l7.78-7.78 2.81-2.81c.8-.78.8-2.07 0-2.86zM5.41 20L4 18.59l7.72-7.72 1.47 1.35L5.41 20z\"/>\n",
              "  </svg>\n",
              "      </button>\n",
              "      \n",
              "  <style>\n",
              "    .colab-df-container {\n",
              "      display:flex;\n",
              "      flex-wrap:wrap;\n",
              "      gap: 12px;\n",
              "    }\n",
              "\n",
              "    .colab-df-convert {\n",
              "      background-color: #E8F0FE;\n",
              "      border: none;\n",
              "      border-radius: 50%;\n",
              "      cursor: pointer;\n",
              "      display: none;\n",
              "      fill: #1967D2;\n",
              "      height: 32px;\n",
              "      padding: 0 0 0 0;\n",
              "      width: 32px;\n",
              "    }\n",
              "\n",
              "    .colab-df-convert:hover {\n",
              "      background-color: #E2EBFA;\n",
              "      box-shadow: 0px 1px 2px rgba(60, 64, 67, 0.3), 0px 1px 3px 1px rgba(60, 64, 67, 0.15);\n",
              "      fill: #174EA6;\n",
              "    }\n",
              "\n",
              "    [theme=dark] .colab-df-convert {\n",
              "      background-color: #3B4455;\n",
              "      fill: #D2E3FC;\n",
              "    }\n",
              "\n",
              "    [theme=dark] .colab-df-convert:hover {\n",
              "      background-color: #434B5C;\n",
              "      box-shadow: 0px 1px 3px 1px rgba(0, 0, 0, 0.15);\n",
              "      filter: drop-shadow(0px 1px 2px rgba(0, 0, 0, 0.3));\n",
              "      fill: #FFFFFF;\n",
              "    }\n",
              "  </style>\n",
              "\n",
              "      <script>\n",
              "        const buttonEl =\n",
              "          document.querySelector('#df-4388b9a9-8c50-4117-a317-1791ab73fe74 button.colab-df-convert');\n",
              "        buttonEl.style.display =\n",
              "          google.colab.kernel.accessAllowed ? 'block' : 'none';\n",
              "\n",
              "        async function convertToInteractive(key) {\n",
              "          const element = document.querySelector('#df-4388b9a9-8c50-4117-a317-1791ab73fe74');\n",
              "          const dataTable =\n",
              "            await google.colab.kernel.invokeFunction('convertToInteractive',\n",
              "                                                     [key], {});\n",
              "          if (!dataTable) return;\n",
              "\n",
              "          const docLinkHtml = 'Like what you see? Visit the ' +\n",
              "            '<a target=\"_blank\" href=https://colab.research.google.com/notebooks/data_table.ipynb>data table notebook</a>'\n",
              "            + ' to learn more about interactive tables.';\n",
              "          element.innerHTML = '';\n",
              "          dataTable['output_type'] = 'display_data';\n",
              "          await google.colab.output.renderOutput(dataTable, element);\n",
              "          const docLink = document.createElement('div');\n",
              "          docLink.innerHTML = docLinkHtml;\n",
              "          element.appendChild(docLink);\n",
              "        }\n",
              "      </script>\n",
              "    </div>\n",
              "  </div>\n",
              "  "
            ]
          },
          "metadata": {},
          "execution_count": 16
        }
      ]
    },
    {
      "cell_type": "markdown",
      "source": [
        "Ya que con el DataSet listo para entrenamiento, observamos nuevamente la distribucion de los datos para ver si hay cambios"
      ],
      "metadata": {
        "id": "c1LwG3B9eHF3"
      }
    },
    {
      "cell_type": "code",
      "source": [
        "print(data['salida'].value_counts())\n",
        "print(\"\")\n",
        "sns.countplot(data['salida'], palette='husl')"
      ],
      "metadata": {
        "colab": {
          "base_uri": "https://localhost:8080/",
          "height": 423
        },
        "id": "VL7aB6UqeVC0",
        "outputId": "26fa2464-2d2b-48a6-d630-1ed0c74576a2"
      },
      "execution_count": 17,
      "outputs": [
        {
          "output_type": "stream",
          "name": "stdout",
          "text": [
            "1    191598\n",
            "0    153759\n",
            "Name: salida, dtype: int64\n",
            "\n"
          ]
        },
        {
          "output_type": "stream",
          "name": "stderr",
          "text": [
            "/usr/local/lib/python3.7/dist-packages/seaborn/_decorators.py:43: FutureWarning: Pass the following variable as a keyword arg: x. From version 0.12, the only valid positional argument will be `data`, and passing other arguments without an explicit keyword will result in an error or misinterpretation.\n",
            "  FutureWarning\n"
          ]
        },
        {
          "output_type": "execute_result",
          "data": {
            "text/plain": [
              "<matplotlib.axes._subplots.AxesSubplot at 0x7f14556d1610>"
            ]
          },
          "metadata": {},
          "execution_count": 17
        },
        {
          "output_type": "display_data",
          "data": {
            "text/plain": [
              "<Figure size 432x288 with 1 Axes>"
            ],
            "image/png": "[encoded data removed]"
          },
          "metadata": {
            "needs_background": "light"
          }
        }
      ]
    },
    {
      "cell_type": "markdown",
      "source": [
        "Al final del proceso de exploracion de información, podemos ver un desbalanceo de clases favorable a la clase 1, lo cual puede causar que nuestro modelo presente sesgos de información y por ende el desempeño del modelo se puede ver afectado. Por cuestiones de alcance del parcialy de la materia se decide pasar por alto este problema."
      ],
      "metadata": {
        "id": "vqLVzP3jeezW"
      }
    },
    {
      "cell_type": "markdown",
      "source": [
        "### Creacion Del Modelo\n",
        "---"
      ],
      "metadata": {
        "id": "-LTc4WT1fONX"
      }
    },
    {
      "cell_type": "markdown",
      "source": [
        "El modelo que se usa para clasificar nuestro comportamiento va ser el de **MLPClassifier** el cual se le optimizaron los hiperparametros mediante el de la libreria de **RandomizedSearchCV ** con una validacion cruzada de 5 ya que esta resulto ser la mas eficiente.\n",
        "\n",
        "los parametros que se optimizaron son:\n",
        "1.  hidden_layer_sizes\n",
        "2.  activation\n",
        "3.  learning_rate_init\n",
        "4.  tol\n",
        "5.  max_iter\n",
        "\n",
        "El codigo del modelo es el siguiente: "
      ],
      "metadata": {
        "id": "TzMmCr0ofpHG"
      }
    },
    {
      "cell_type": "code",
      "source": [
        "X = data[['media','varianza','desviacionEstandar','kurtosis','asimetria']]\n",
        "\n",
        "y = data['salida']\n",
        "\n",
        "X_train, X_test, y_train, y_test = train_test_split(X, y, stratify=y,\n",
        "                                                    train_size=0.3,\n",
        "                                                    )"
      ],
      "metadata": {
        "id": "Srsmdl2zfQh_"
      },
      "execution_count": 19,
      "outputs": []
    },
    {
      "cell_type": "code",
      "source": [
        "mlp_gs = MLPClassifier()\n",
        "parameters = {\n",
        "    'hidden_layer_sizes':[(100,),(10,50,10),(20,),(100,100)],\n",
        "    'activation':['logistic', 'tanh', 'relu'],\n",
        "    'learning_rate_init':np.arange(0.001,0.005,0.001),\n",
        "    'tol':np.arange(0.001,0.005,0.001),\n",
        "    'max_iter':np.arange(200,1000,100)\n",
        "}\n",
        "RDSCV= RandomizedSearchCV(mlp_gs, \n",
        "                                       parameters,\n",
        "                                       cv=5, \n",
        "                                       n_iter=3)"
      ],
      "metadata": {
        "id": "42tPPXuAhtve"
      },
      "execution_count": 22,
      "outputs": []
    },
    {
      "cell_type": "code",
      "source": [
        "RDSCV.fit(X_train, y_train)"
      ],
      "metadata": {
        "colab": {
          "base_uri": "https://localhost:8080/"
        },
        "id": "axJNwi-Xh9FG",
        "outputId": "dda2e800-eb61-47ad-f1bd-abc239693901"
      },
      "execution_count": 23,
      "outputs": [
        {
          "output_type": "execute_result",
          "data": {
            "text/plain": [
              "RandomizedSearchCV(cv=5, estimator=MLPClassifier(), n_iter=3,\n",
              "                   param_distributions={'activation': ['logistic', 'tanh',\n",
              "                                                       'relu'],\n",
              "                                        'hidden_layer_sizes': [(100,),\n",
              "                                                               (10, 50, 10),\n",
              "                                                               (20,),\n",
              "                                                               (100, 100)],\n",
              "                                        'learning_rate_init': array([0.001, 0.002, 0.003, 0.004]),\n",
              "                                        'max_iter': array([200, 300, 400, 500, 600, 700, 800, 900]),\n",
              "                                        'tol': array([0.001, 0.002, 0.003, 0.004])})"
            ]
          },
          "metadata": {},
          "execution_count": 23
        }
      ]
    },
    {
      "cell_type": "markdown",
      "source": [
        "Ahora vamos ver el desempeño del modelo en nuestra fase de entrenamiento y tambien cuales fueron los mejores paramentros del modelos para alcnzar el mejor desempeño."
      ],
      "metadata": {
        "id": "TUEtI1wVjqIN"
      }
    },
    {
      "cell_type": "code",
      "source": [
        "print(RDSCV.best_score_)\n",
        "print(RDSCV.best_params_)"
      ],
      "metadata": {
        "colab": {
          "base_uri": "https://localhost:8080/"
        },
        "id": "aCRQWdPhjckn",
        "outputId": "11184c78-8118-443c-ed84-aff5633c6733"
      },
      "execution_count": 24,
      "outputs": [
        {
          "output_type": "stream",
          "name": "stdout",
          "text": [
            "0.9925777338751539\n",
            "{'tol': 0.003, 'max_iter': 400, 'learning_rate_init': 0.004, 'hidden_layer_sizes': (100, 100), 'activation': 'tanh'}\n"
          ]
        }
      ]
    },
    {
      "cell_type": "markdown",
      "source": [
        "Y por ultimo vemos el resultado cuando se prueba el modelo con el conjunto de datos de prueba."
      ],
      "metadata": {
        "id": "VhNhgH4dj3o-"
      }
    },
    {
      "cell_type": "code",
      "source": [
        "pred_y = RDSCV.predict(X_test)\n",
        "f1_score(y_test, pred_y)"
      ],
      "metadata": {
        "colab": {
          "base_uri": "https://localhost:8080/"
        },
        "id": "1UZzuSjWjg2V",
        "outputId": "6614cd40-883c-4c58-c1b0-80a256485430"
      },
      "execution_count": 25,
      "outputs": [
        {
          "output_type": "execute_result",
          "data": {
            "text/plain": [
              "0.9937131366290152"
            ]
          },
          "metadata": {},
          "execution_count": 25
        }
      ]
    },
    {
      "cell_type": "markdown",
      "source": [
        "Para observar mejor el desempeño de neustros modelo usamos una matriz de confusion y el reporte de clasificacion."
      ],
      "metadata": {
        "id": "L9yaExkBkR6l"
      }
    },
    {
      "cell_type": "code",
      "source": [
        "conf_matrix = confusion_matrix(y_test, pred_y)\n",
        "plt.figure(figsize=(12, 12))\n",
        "sns.heatmap(conf_matrix, annot=True, fmt=\"d\");\n",
        "plt.title(\"Confusion matrix\")\n",
        "plt.ylabel('True class')\n",
        "plt.xlabel('Predicted class')\n",
        "plt.show()\n",
        "print (classification_report(y_test, pred_y))"
      ],
      "metadata": {
        "colab": {
          "base_uri": "https://localhost:8080/",
          "height": 886
        },
        "id": "QxLP91UBkRHt",
        "outputId": "e5cde0ef-f834-49fe-d868-5a8d7ee19505"
      },
      "execution_count": 26,
      "outputs": [
        {
          "output_type": "display_data",
          "data": {
            "text/plain": [
              "<Figure size 864x864 with 2 Axes>"
            ],
            "image/png": "[encoded data removed]"
          },
          "metadata": {
            "needs_background": "light"
          }
        },
        {
          "output_type": "stream",
          "name": "stdout",
          "text": [
            "              precision    recall  f1-score   support\n",
            "\n",
            "           0       0.99      1.00      0.99    107631\n",
            "           1       1.00      0.99      0.99    134119\n",
            "\n",
            "    accuracy                           0.99    241750\n",
            "   macro avg       0.99      0.99      0.99    241750\n",
            "weighted avg       0.99      0.99      0.99    241750\n",
            "\n"
          ]
        }
      ]
    },
    {
      "cell_type": "markdown",
      "source": [
        "Como podemos ver en la matrix el modelo clasifico de manera incorrecta 493 registros de la clase 0 como clase 1, esto debido a el sesgo que se genera con el desbalanceo de clases que se tiene presente."
      ],
      "metadata": {
        "id": "F6fYkMQNk8lt"
      }
    },
    {
      "cell_type": "markdown",
      "source": [
        "### Prueba del Modelo con la Señal\n",
        "\n",
        "---"
      ],
      "metadata": {
        "id": "WcYYmry6mEkb"
      }
    },
    {
      "cell_type": "markdown",
      "source": [
        "Para la demostracion del modelos, usamos una señal del conjunto de datos para realizar la prueba, la señal escogida fue la del paciente **16420**.  \n",
        "Con la siguiente celda podemos cargar la informacion:"
      ],
      "metadata": {
        "id": "keAWIgkV4BdG"
      }
    },
    {
      "cell_type": "code",
      "source": [
        "registro=wfdb.rdrecord(\"db/16420\")\n",
        "signal = registro.p_signal\n",
        "signal1 = signal[:,0] \n",
        "wfdb.plot_wfdb(registro)\n"
      ],
      "metadata": {
        "colab": {
          "base_uri": "https://localhost:8080/",
          "height": 295
        },
        "id": "bsRt7bUelKkf",
        "outputId": "7ac5c8fb-25a9-4725-d344-ba6deaf61b48"
      },
      "execution_count": 70,
      "outputs": [
        {
          "output_type": "display_data",
          "data": {
            "text/plain": [
              "<Figure size 432x288 with 2 Axes>"
            ],
            "image/png": "[encoded data removed]"
          },
          "metadata": {
            "needs_background": "light"
          }
        }
      ]
    },
    {
      "cell_type": "markdown",
      "source": [
        "Se decide probar el modelo con la siguiente fraccion de la señal **signal1[:900]** y una ventana con un rango total de **25**, por lo que en consecuencia vamos a tener un total de 36 ventanas totales para pasarle a nuestro modelo y haga la prediccion del comportamiento."
      ],
      "metadata": {
        "id": "apyuhUMf5G_S"
      }
    },
    {
      "cell_type": "code",
      "source": [
        "rango_ventana = 25   #total de la ventana de observacion\n",
        "aux = rango_ventana\n",
        "datos = []\n",
        "inicio = 0\n",
        "     \n",
        "for x in range(0,36):\n",
        "  ventana = signal1[inicio:rango_ventana] #['media','varianza','desviacionEstandar','kurtosis','asimetria']\n",
        "  media = stats.mean(ventana)\n",
        "  varianza = stats.pvariance(ventana)\n",
        "  desviacionEstandar = stats.pstdev(ventana)\n",
        "  kurt = kurtosis(ventana)\n",
        "  asime = skew(ventana)\n",
        "  caracteristicas = [media,varianza,desviacionEstandar,kurt,asime]\n",
        "  datos.append(caracteristicas)\n",
        "  inicio = rango_ventana\n",
        "  rango_ventana = rango_ventana + aux\n",
        "\n",
        "\n",
        "colums = ['media','varianza','desviacionEstandar','kurtosis','asimetria']\n",
        "lst = datos\n",
        "df_señal = pd.DataFrame(lst, columns = colums)\n",
        "df_señal\n",
        "\n",
        "\n",
        "\n"
      ],
      "metadata": {
        "colab": {
          "base_uri": "https://localhost:8080/",
          "height": 1000
        },
        "id": "TDHX0eiSq8H0",
        "outputId": "0de26ebb-5ed8-4386-a430-c0a95385a0e4"
      },
      "execution_count": 64,
      "outputs": [
        {
          "output_type": "execute_result",
          "data": {
            "text/plain": [
              "     media  varianza  desviacionEstandar  kurtosis  asimetria\n",
              "0  -0.0454  0.001252            0.035381 -1.085516  -0.053683\n",
              "1  -0.0062  0.000171            0.013060 -0.318462   0.438046\n",
              "2   0.0446  0.239044            0.488921  5.288146   1.772471\n",
              "3  -0.0802  0.001513            0.038897 -1.332627   0.162156\n",
              "4  -0.0486  0.000815            0.028549  3.688440  -1.924959\n",
              "5  -0.0298  0.017057            0.130602  4.377333   1.825888\n",
              "6  -0.0374  0.286106            0.534889  5.796980   2.317281\n",
              "7  -0.0934  0.000709            0.026635 -0.237960  -0.756207\n",
              "8  -0.0734  0.005373            0.073304 -0.764921   0.355943\n",
              "9  -0.0438  0.288043            0.536696  5.704063   2.227232\n",
              "10 -0.1062  0.000659            0.025662 -0.000073  -0.917588\n",
              "11 -0.0586  0.003135            0.055991 -0.066928   1.165948\n",
              "12 -0.0518  0.302662            0.550147  5.361644   2.161831\n",
              "13 -0.1170  0.001176            0.034293 -0.864293  -0.317791\n",
              "14 -0.0950  0.000304            0.017436 -0.385734   0.362235\n",
              "15 -0.0414  0.262247            0.512101  5.437033   1.833588\n",
              "16 -0.1502  0.001521            0.038999 -0.792134   0.211536\n",
              "17 -0.1166  0.000629            0.025089  4.028443  -1.900645\n",
              "18 -0.1026  0.006122            0.078245 -1.268610   0.375394\n",
              "19 -0.0510  0.258744            0.508669  4.383052   2.043697\n",
              "20 -0.1258  0.000503            0.022436 -0.963660   0.184941\n",
              "21 -0.0914  0.003759            0.061311 -0.419176   0.944657\n",
              "22 -0.0730  0.297728            0.545645  6.508557   2.292056\n",
              "23 -0.1022  0.000660            0.025694 -0.680780  -0.028729\n",
              "24 -0.1002  0.000169            0.012998 -1.023029   0.371722\n",
              "25  0.0302  0.286745            0.535486  5.101563   1.908231\n",
              "26 -0.1086  0.003135            0.055991  2.420590  -1.360722\n",
              "27 -0.0626  0.000690            0.026272  0.924886  -1.214471\n",
              "28 -0.0402  0.005961            0.077207 -0.322865   0.822311\n",
              "29 -0.0214  0.278151            0.527400  3.822440   1.716776\n",
              "30 -0.0494  0.001009            0.031759  0.043973  -1.138832\n",
              "31 -0.0014  0.003119            0.055848  0.231122   1.146242\n",
              "32 -0.0018  0.327422            0.572208  5.781858   2.106509\n",
              "33 -0.0526  0.001034            0.032160 -1.323969  -0.094416\n",
              "34 -0.0466  0.000205            0.014333 -0.700229  -0.370097\n",
              "35  0.1138  0.280803            0.529908  6.088675   2.170222"
            ],
            "text/html": [
              "\n",
              "  <div id=\"df-f62e28cf-b266-4795-ba16-074f13365330\">\n",
              "    <div class=\"colab-df-container\">\n",
              "      <div>\n",
              "<style scoped>\n",
              "    .dataframe tbody tr th:only-of-type {\n",
              "        vertical-align: middle;\n",
              "    }\n",
              "\n",
              "    .dataframe tbody tr th {\n",
              "        vertical-align: top;\n",
              "    }\n",
              "\n",
              "    .dataframe thead th {\n",
              "        text-align: right;\n",
              "    }\n",
              "</style>\n",
              "<table border=\"1\" class=\"dataframe\">\n",
              "  <thead>\n",
              "    <tr style=\"text-align: right;\">\n",
              "      <th></th>\n",
              "      <th>media</th>\n",
              "      <th>varianza</th>\n",
              "      <th>desviacionEstandar</th>\n",
              "      <th>kurtosis</th>\n",
              "      <th>asimetria</th>\n",
              "    </tr>\n",
              "  </thead>\n",
              "  <tbody>\n",
              "    <tr>\n",
              "      <th>0</th>\n",
              "      <td>-0.0454</td>\n",
              "      <td>0.001252</td>\n",
              "      <td>0.035381</td>\n",
              "      <td>-1.085516</td>\n",
              "      <td>-0.053683</td>\n",
              "    </tr>\n",
              "    <tr>\n",
              "      <th>1</th>\n",
              "      <td>-0.0062</td>\n",
              "      <td>0.000171</td>\n",
              "      <td>0.013060</td>\n",
              "      <td>-0.318462</td>\n",
              "      <td>0.438046</td>\n",
              "    </tr>\n",
              "    <tr>\n",
              "      <th>2</th>\n",
              "      <td>0.0446</td>\n",
              "      <td>0.239044</td>\n",
              "      <td>0.488921</td>\n",
              "      <td>5.288146</td>\n",
              "      <td>1.772471</td>\n",
              "    </tr>\n",
              "    <tr>\n",
              "      <th>3</th>\n",
              "      <td>-0.0802</td>\n",
              "      <td>0.001513</td>\n",
              "      <td>0.038897</td>\n",
              "      <td>-1.332627</td>\n",
              "      <td>0.162156</td>\n",
              "    </tr>\n",
              "    <tr>\n",
              "      <th>4</th>\n",
              "      <td>-0.0486</td>\n",
              "      <td>0.000815</td>\n",
              "      <td>0.028549</td>\n",
              "      <td>3.688440</td>\n",
              "      <td>-1.924959</td>\n",
              "    </tr>\n",
              "    <tr>\n",
              "      <th>5</th>\n",
              "      <td>-0.0298</td>\n",
              "      <td>0.017057</td>\n",
              "      <td>0.130602</td>\n",
              "      <td>4.377333</td>\n",
              "      <td>1.825888</td>\n",
              "    </tr>\n",
              "    <tr>\n",
              "      <th>6</th>\n",
              "      <td>-0.0374</td>\n",
              "      <td>0.286106</td>\n",
              "      <td>0.534889</td>\n",
              "      <td>5.796980</td>\n",
              "      <td>2.317281</td>\n",
              "    </tr>\n",
              "    <tr>\n",
              "      <th>7</th>\n",
              "      <td>-0.0934</td>\n",
              "      <td>0.000709</td>\n",
              "      <td>0.026635</td>\n",
              "      <td>-0.237960</td>\n",
              "      <td>-0.756207</td>\n",
              "    </tr>\n",
              "    <tr>\n",
              "      <th>8</th>\n",
              "      <td>-0.0734</td>\n",
              "      <td>0.005373</td>\n",
              "      <td>0.073304</td>\n",
              "      <td>-0.764921</td>\n",
              "      <td>0.355943</td>\n",
              "    </tr>\n",
              "    <tr>\n",
              "      <th>9</th>\n",
              "      <td>-0.0438</td>\n",
              "      <td>0.288043</td>\n",
              "      <td>0.536696</td>\n",
              "      <td>5.704063</td>\n",
              "      <td>2.227232</td>\n",
              "    </tr>\n",
              "    <tr>\n",
              "      <th>10</th>\n",
              "      <td>-0.1062</td>\n",
              "      <td>0.000659</td>\n",
              "      <td>0.025662</td>\n",
              "      <td>-0.000073</td>\n",
              "      <td>-0.917588</td>\n",
              "    </tr>\n",
              "    <tr>\n",
              "      <th>11</th>\n",
              "      <td>-0.0586</td>\n",
              "      <td>0.003135</td>\n",
              "      <td>0.055991</td>\n",
              "      <td>-0.066928</td>\n",
              "      <td>1.165948</td>\n",
              "    </tr>\n",
              "    <tr>\n",
              "      <th>12</th>\n",
              "      <td>-0.0518</td>\n",
              "      <td>0.302662</td>\n",
              "      <td>0.550147</td>\n",
              "      <td>5.361644</td>\n",
              "      <td>2.161831</td>\n",
              "    </tr>\n",
              "    <tr>\n",
              "      <th>13</th>\n",
              "      <td>-0.1170</td>\n",
              "      <td>0.001176</td>\n",
              "      <td>0.034293</td>\n",
              "      <td>-0.864293</td>\n",
              "      <td>-0.317791</td>\n",
              "    </tr>\n",
              "    <tr>\n",
              "      <th>14</th>\n",
              "      <td>-0.0950</td>\n",
              "      <td>0.000304</td>\n",
              "      <td>0.017436</td>\n",
              "      <td>-0.385734</td>\n",
              "      <td>0.362235</td>\n",
              "    </tr>\n",
              "    <tr>\n",
              "      <th>15</th>\n",
              "      <td>-0.0414</td>\n",
              "      <td>0.262247</td>\n",
              "      <td>0.512101</td>\n",
              "      <td>5.437033</td>\n",
              "      <td>1.833588</td>\n",
              "    </tr>\n",
              "    <tr>\n",
              "      <th>16</th>\n",
              "      <td>-0.1502</td>\n",
              "      <td>0.001521</td>\n",
              "      <td>0.038999</td>\n",
              "      <td>-0.792134</td>\n",
              "      <td>0.211536</td>\n",
              "    </tr>\n",
              "    <tr>\n",
              "      <th>17</th>\n",
              "      <td>-0.1166</td>\n",
              "      <td>0.000629</td>\n",
              "      <td>0.025089</td>\n",
              "      <td>4.028443</td>\n",
              "      <td>-1.900645</td>\n",
              "    </tr>\n",
              "    <tr>\n",
              "      <th>18</th>\n",
              "      <td>-0.1026</td>\n",
              "      <td>0.006122</td>\n",
              "      <td>0.078245</td>\n",
              "      <td>-1.268610</td>\n",
              "      <td>0.375394</td>\n",
              "    </tr>\n",
              "    <tr>\n",
              "      <th>19</th>\n",
              "      <td>-0.0510</td>\n",
              "      <td>0.258744</td>\n",
              "      <td>0.508669</td>\n",
              "      <td>4.383052</td>\n",
              "      <td>2.043697</td>\n",
              "    </tr>\n",
              "    <tr>\n",
              "      <th>20</th>\n",
              "      <td>-0.1258</td>\n",
              "      <td>0.000503</td>\n",
              "      <td>0.022436</td>\n",
              "      <td>-0.963660</td>\n",
              "      <td>0.184941</td>\n",
              "    </tr>\n",
              "    <tr>\n",
              "      <th>21</th>\n",
              "      <td>-0.0914</td>\n",
              "      <td>0.003759</td>\n",
              "      <td>0.061311</td>\n",
              "      <td>-0.419176</td>\n",
              "      <td>0.944657</td>\n",
              "    </tr>\n",
              "    <tr>\n",
              "      <th>22</th>\n",
              "      <td>-0.0730</td>\n",
              "      <td>0.297728</td>\n",
              "      <td>0.545645</td>\n",
              "      <td>6.508557</td>\n",
              "      <td>2.292056</td>\n",
              "    </tr>\n",
              "    <tr>\n",
              "      <th>23</th>\n",
              "      <td>-0.1022</td>\n",
              "      <td>0.000660</td>\n",
              "      <td>0.025694</td>\n",
              "      <td>-0.680780</td>\n",
              "      <td>-0.028729</td>\n",
              "    </tr>\n",
              "    <tr>\n",
              "      <th>24</th>\n",
              "      <td>-0.1002</td>\n",
              "      <td>0.000169</td>\n",
              "      <td>0.012998</td>\n",
              "      <td>-1.023029</td>\n",
              "      <td>0.371722</td>\n",
              "    </tr>\n",
              "    <tr>\n",
              "      <th>25</th>\n",
              "      <td>0.0302</td>\n",
              "      <td>0.286745</td>\n",
              "      <td>0.535486</td>\n",
              "      <td>5.101563</td>\n",
              "      <td>1.908231</td>\n",
              "    </tr>\n",
              "    <tr>\n",
              "      <th>26</th>\n",
              "      <td>-0.1086</td>\n",
              "      <td>0.003135</td>\n",
              "      <td>0.055991</td>\n",
              "      <td>2.420590</td>\n",
              "      <td>-1.360722</td>\n",
              "    </tr>\n",
              "    <tr>\n",
              "      <th>27</th>\n",
              "      <td>-0.0626</td>\n",
              "      <td>0.000690</td>\n",
              "      <td>0.026272</td>\n",
              "      <td>0.924886</td>\n",
              "      <td>-1.214471</td>\n",
              "    </tr>\n",
              "    <tr>\n",
              "      <th>28</th>\n",
              "      <td>-0.0402</td>\n",
              "      <td>0.005961</td>\n",
              "      <td>0.077207</td>\n",
              "      <td>-0.322865</td>\n",
              "      <td>0.822311</td>\n",
              "    </tr>\n",
              "    <tr>\n",
              "      <th>29</th>\n",
              "      <td>-0.0214</td>\n",
              "      <td>0.278151</td>\n",
              "      <td>0.527400</td>\n",
              "      <td>3.822440</td>\n",
              "      <td>1.716776</td>\n",
              "    </tr>\n",
              "    <tr>\n",
              "      <th>30</th>\n",
              "      <td>-0.0494</td>\n",
              "      <td>0.001009</td>\n",
              "      <td>0.031759</td>\n",
              "      <td>0.043973</td>\n",
              "      <td>-1.138832</td>\n",
              "    </tr>\n",
              "    <tr>\n",
              "      <th>31</th>\n",
              "      <td>-0.0014</td>\n",
              "      <td>0.003119</td>\n",
              "      <td>0.055848</td>\n",
              "      <td>0.231122</td>\n",
              "      <td>1.146242</td>\n",
              "    </tr>\n",
              "    <tr>\n",
              "      <th>32</th>\n",
              "      <td>-0.0018</td>\n",
              "      <td>0.327422</td>\n",
              "      <td>0.572208</td>\n",
              "      <td>5.781858</td>\n",
              "      <td>2.106509</td>\n",
              "    </tr>\n",
              "    <tr>\n",
              "      <th>33</th>\n",
              "      <td>-0.0526</td>\n",
              "      <td>0.001034</td>\n",
              "      <td>0.032160</td>\n",
              "      <td>-1.323969</td>\n",
              "      <td>-0.094416</td>\n",
              "    </tr>\n",
              "    <tr>\n",
              "      <th>34</th>\n",
              "      <td>-0.0466</td>\n",
              "      <td>0.000205</td>\n",
              "      <td>0.014333</td>\n",
              "      <td>-0.700229</td>\n",
              "      <td>-0.370097</td>\n",
              "    </tr>\n",
              "    <tr>\n",
              "      <th>35</th>\n",
              "      <td>0.1138</td>\n",
              "      <td>0.280803</td>\n",
              "      <td>0.529908</td>\n",
              "      <td>6.088675</td>\n",
              "      <td>2.170222</td>\n",
              "    </tr>\n",
              "  </tbody>\n",
              "</table>\n",
              "</div>\n",
              "      <button class=\"colab-df-convert\" onclick=\"convertToInteractive('df-f62e28cf-b266-4795-ba16-074f13365330')\"\n",
              "              title=\"Convert this dataframe to an interactive table.\"\n",
              "              style=\"display:none;\">\n",
              "        \n",
              "  <svg xmlns=\"http://www.w3.org/2000/svg\" height=\"24px\"viewBox=\"0 0 24 24\"\n",
              "       width=\"24px\">\n",
              "    <path d=\"M0 0h24v24H0V0z\" fill=\"none\"/>\n",
              "    <path d=\"M18.56 5.44l.94 2.06.94-2.06 2.06-.94-2.06-.94-.94-2.06-.94 2.06-2.06.94zm-11 1L8.5 8.5l.94-2.06 2.06-.94-2.06-.94L8.5 2.5l-.94 2.06-2.06.94zm10 10l.94 2.06.94-2.06 2.06-.94-2.06-.94-.94-2.06-.94 2.06-2.06.94z\"/><path d=\"M17.41 7.96l-1.37-1.37c-.4-.4-.92-.59-1.43-.59-.52 0-1.04.2-1.43.59L10.3 9.45l-7.72 7.72c-.78.78-.78 2.05 0 2.83L4 21.41c.39.39.9.59 1.41.59.51 0 1.02-.2 1.41-.59l7.78-7.78 2.81-2.81c.8-.78.8-2.07 0-2.86zM5.41 20L4 18.59l7.72-7.72 1.47 1.35L5.41 20z\"/>\n",
              "  </svg>\n",
              "      </button>\n",
              "      \n",
              "  <style>\n",
              "    .colab-df-container {\n",
              "      display:flex;\n",
              "      flex-wrap:wrap;\n",
              "      gap: 12px;\n",
              "    }\n",
              "\n",
              "    .colab-df-convert {\n",
              "      background-color: #E8F0FE;\n",
              "      border: none;\n",
              "      border-radius: 50%;\n",
              "      cursor: pointer;\n",
              "      display: none;\n",
              "      fill: #1967D2;\n",
              "      height: 32px;\n",
              "      padding: 0 0 0 0;\n",
              "      width: 32px;\n",
              "    }\n",
              "\n",
              "    .colab-df-convert:hover {\n",
              "      background-color: #E2EBFA;\n",
              "      box-shadow: 0px 1px 2px rgba(60, 64, 67, 0.3), 0px 1px 3px 1px rgba(60, 64, 67, 0.15);\n",
              "      fill: #174EA6;\n",
              "    }\n",
              "\n",
              "    [theme=dark] .colab-df-convert {\n",
              "      background-color: #3B4455;\n",
              "      fill: #D2E3FC;\n",
              "    }\n",
              "\n",
              "    [theme=dark] .colab-df-convert:hover {\n",
              "      background-color: #434B5C;\n",
              "      box-shadow: 0px 1px 3px 1px rgba(0, 0, 0, 0.15);\n",
              "      filter: drop-shadow(0px 1px 2px rgba(0, 0, 0, 0.3));\n",
              "      fill: #FFFFFF;\n",
              "    }\n",
              "  </style>\n",
              "\n",
              "      <script>\n",
              "        const buttonEl =\n",
              "          document.querySelector('#df-f62e28cf-b266-4795-ba16-074f13365330 button.colab-df-convert');\n",
              "        buttonEl.style.display =\n",
              "          google.colab.kernel.accessAllowed ? 'block' : 'none';\n",
              "\n",
              "        async function convertToInteractive(key) {\n",
              "          const element = document.querySelector('#df-f62e28cf-b266-4795-ba16-074f13365330');\n",
              "          const dataTable =\n",
              "            await google.colab.kernel.invokeFunction('convertToInteractive',\n",
              "                                                     [key], {});\n",
              "          if (!dataTable) return;\n",
              "\n",
              "          const docLinkHtml = 'Like what you see? Visit the ' +\n",
              "            '<a target=\"_blank\" href=https://colab.research.google.com/notebooks/data_table.ipynb>data table notebook</a>'\n",
              "            + ' to learn more about interactive tables.';\n",
              "          element.innerHTML = '';\n",
              "          dataTable['output_type'] = 'display_data';\n",
              "          await google.colab.output.renderOutput(dataTable, element);\n",
              "          const docLink = document.createElement('div');\n",
              "          docLink.innerHTML = docLinkHtml;\n",
              "          element.appendChild(docLink);\n",
              "        }\n",
              "      </script>\n",
              "    </div>\n",
              "  </div>\n",
              "  "
            ]
          },
          "metadata": {},
          "execution_count": 64
        }
      ]
    },
    {
      "cell_type": "markdown",
      "source": [
        "Le pasamos la informacion del modelo para que nos haga la respectiva clasificación a el modelo y nos muestre los resultados de forma grafica para comparlos con la grafica de la fraccion de señal."
      ],
      "metadata": {
        "id": "sJQ8b_YD524r"
      }
    },
    {
      "cell_type": "code",
      "source": [
        "X_test_señal = df_señal[['media','varianza','desviacionEstandar','kurtosis','asimetria']]\n",
        "predict = RDSCV.predict(X_test_señal)\n",
        "df_señal['prediccion'] = predict"
      ],
      "metadata": {
        "id": "h1RR12b5uybt"
      },
      "execution_count": 72,
      "outputs": []
    },
    {
      "cell_type": "code",
      "source": [
        "plt.plot(predict)"
      ],
      "metadata": {
        "colab": {
          "base_uri": "https://localhost:8080/",
          "height": 282
        },
        "id": "P3R-0ocgvWv0",
        "outputId": "cec55d7f-8adb-44f5-fb5e-7cb13e90826d"
      },
      "execution_count": 73,
      "outputs": [
        {
          "output_type": "execute_result",
          "data": {
            "text/plain": [
              "[<matplotlib.lines.Line2D at 0x7f1454b51bd0>]"
            ]
          },
          "metadata": {},
          "execution_count": 73
        },
        {
          "output_type": "display_data",
          "data": {
            "text/plain": [
              "<Figure size 432x288 with 1 Axes>"
            ],
            "image/png": "[encoded data removed]"
          },
          "metadata": {
            "needs_background": "light"
          }
        }
      ]
    },
    {
      "cell_type": "code",
      "source": [
        "plt.plot(signal1[:900])"
      ],
      "metadata": {
        "colab": {
          "base_uri": "https://localhost:8080/",
          "height": 282
        },
        "id": "kk-JryZG3LSq",
        "outputId": "da4e012f-5e48-4bb7-db92-b53d60d47526"
      },
      "execution_count": 71,
      "outputs": [
        {
          "output_type": "execute_result",
          "data": {
            "text/plain": [
              "[<matplotlib.lines.Line2D at 0x7f145537ee10>]"
            ]
          },
          "metadata": {},
          "execution_count": 71
        },
        {
          "output_type": "display_data",
          "data": {
            "text/plain": [
              "<Figure size 432x288 with 1 Axes>"
            ],
            "image/png": "[encoded data removed]"
          },
          "metadata": {
            "needs_background": "light"
          }
        }
      ]
    },
    {
      "cell_type": "code",
      "source": [
        "print(df_señal['prediccion'].value_counts())\n",
        "print(\"\")\n",
        "sns.countplot(df_señal['prediccion'], palette='husl')"
      ],
      "metadata": {
        "colab": {
          "base_uri": "https://localhost:8080/",
          "height": 423
        },
        "id": "0jZhV7R37--s",
        "outputId": "27f88b59-0cce-43cc-e50d-9b5159ddcab7"
      },
      "execution_count": 76,
      "outputs": [
        {
          "output_type": "stream",
          "name": "stdout",
          "text": [
            "0    24\n",
            "1    12\n",
            "Name: prediccion, dtype: int64\n",
            "\n"
          ]
        },
        {
          "output_type": "stream",
          "name": "stderr",
          "text": [
            "/usr/local/lib/python3.7/dist-packages/seaborn/_decorators.py:43: FutureWarning: Pass the following variable as a keyword arg: x. From version 0.12, the only valid positional argument will be `data`, and passing other arguments without an explicit keyword will result in an error or misinterpretation.\n",
            "  FutureWarning\n"
          ]
        },
        {
          "output_type": "execute_result",
          "data": {
            "text/plain": [
              "<matplotlib.axes._subplots.AxesSubplot at 0x7f1454acd250>"
            ]
          },
          "metadata": {},
          "execution_count": 76
        },
        {
          "output_type": "display_data",
          "data": {
            "text/plain": [
              "<Figure size 432x288 with 1 Axes>"
            ],
            "image/png": "[encoded data removed]"
          },
          "metadata": {
            "needs_background": "light"
          }
        }
      ]
    },
    {
      "cell_type": "markdown",
      "source": [
        "# Conclusiones\n",
        "---\n",
        "Como se pueden ver en los resultados de la prediccion se tienen que tenemos 12 latidos y 24 no latidos de nuestras ventanas de observación, por lo que si comparamos visualmente nuestro modelo vemos que ha tenido un error calificando los latidos, ya que en ese fragmento de señal solo podemos tener 12 latidos posibles. Esto se puede deber a que como anteriormente se ha mencionado el modelo puede estar sesgado para la clase que representa el comportamiento del los latidos, una dificultad es que solo con la grafica de las predicciones no se podria evaluar el comportamiento, porque no se puede ver bien a lo largo toda la señal, pero los comportamientos se asimilan a los de una señal.\n",
        "\n",
        "Las cosas que podrian mejorar el desempeño del modelo seguramente sea solucionar el problema de desbalance de clases que se presenta en el conjunto de datos."
      ],
      "metadata": {
        "id": "DwArGGE18aKC"
      }
    }
  ]
}